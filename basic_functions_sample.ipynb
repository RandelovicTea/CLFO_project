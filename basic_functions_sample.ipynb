{
 "cells": [
  {
   "cell_type": "markdown",
   "id": "94a7bfa5",
   "metadata": {},
   "source": [
    "# CFLO"
   ]
  },
  {
   "cell_type": "code",
   "execution_count": 1,
   "id": "70445ece",
   "metadata": {},
   "outputs": [],
   "source": [
    "import cv2\n",
    "import numpy as np\n",
    "import os"
   ]
  },
  {
   "cell_type": "code",
   "execution_count": 2,
   "id": "b69744dc",
   "metadata": {},
   "outputs": [],
   "source": [
    "def load(path):\n",
    "    return cv2.imread(path)"
   ]
  },
  {
   "cell_type": "code",
   "execution_count": 3,
   "id": "c9ba2f7e",
   "metadata": {},
   "outputs": [],
   "source": [
    "def resize (image,ratio=0.3):\n",
    "    return cv2.resize(image,(0,0),fx=ratio,fy=ratio)"
   ]
  },
  {
   "cell_type": "code",
   "execution_count": 4,
   "id": "0d3c4b83",
   "metadata": {},
   "outputs": [],
   "source": [
    "def show(file,name):\n",
    "    cv2.imshow(name,file)\n",
    "    cv2.waitKey(0)\n",
    "    cv2.destroyAllWindows()"
   ]
  },
  {
   "cell_type": "code",
   "execution_count": 5,
   "id": "c9023d82",
   "metadata": {},
   "outputs": [],
   "source": [
    "def grey(image):\n",
    "    return cv2.cvtColor(image, cv2.COLOR_RGB2GRAY)"
   ]
  },
  {
   "cell_type": "code",
   "execution_count": 6,
   "id": "22faf741",
   "metadata": {},
   "outputs": [],
   "source": [
    "def masking(image,margin):\n",
    "    rows,cols,_=image.shape\n",
    "    cells=rows*cols\n",
    "    pixels = np.reshape(image,(cells,3))\n",
    "    #print(pixels)\n",
    "    #print(pixels.shape)\n",
    "    colors,index,count=np.unique(pixels,axis=0,return_index=True,return_counts=True)\n",
    "    c=[]\n",
    "    for i in range (len(colors)):\n",
    "        condition_1=colors[i][2]>60\n",
    "        condition_2=colors[i][1]<200\n",
    "        condition_3=colors[i][0]<200\n",
    "        if condition_1 and condition_2 and condition_3:\n",
    "            c.append((count[i],colors[i]))\n",
    "\n",
    "    sorted_colors = sorted(c,key= lambda x : x[0], reverse=True)\n",
    "    #print(sorted_colors[0:20])\n",
    "    main_color=sorted_colors[0][1]\n",
    "    main_color_low=main_color-margin\n",
    "    main_color_max=main_color+margin\n",
    "    mask=cv2.inRange(image,main_color_low,main_color_max)\n",
    "    result=cv2.bitwise_and(image,image,mask=mask)\n",
    "    return result"
   ]
  },
  {
   "cell_type": "code",
   "execution_count": 7,
   "id": "1280c536",
   "metadata": {},
   "outputs": [],
   "source": [
    "sample_list=['10_left','10_right',\n",
    "            '17_left','17_right',\n",
    "            '13_left','13_right',\n",
    "            '15_left','15_right',\n",
    "            '16_left','16_right',]"
   ]
  },
  {
   "cell_type": "code",
   "execution_count": 8,
   "id": "aca69e82",
   "metadata": {},
   "outputs": [],
   "source": [
    "for image_name in sample_list:\n",
    "    path='d:/CLFO/CLFO/research/sample/'+image_name+'.jpeg'\n",
    "    image=load(path)\n",
    "    image=resize(image)\n",
    "    mask=masking(image,margin=10)\n",
    "    show(mask,image_name)"
   ]
  },
  {
   "cell_type": "code",
   "execution_count": 9,
   "id": "a549cbc5",
   "metadata": {},
   "outputs": [],
   "source": [
    "for image_name in sample_list:\n",
    "    path='d:/CLFO/CLFO/research/sample/'+image_name+'.jpeg'\n",
    "    image=load(path)\n",
    "    image=resize(image)\n",
    "    grey_image=grey(image)\n",
    "    show(grey_image,image_name)"
   ]
  },
  {
   "cell_type": "code",
   "execution_count": null,
   "id": "333dfd21",
   "metadata": {},
   "outputs": [],
   "source": []
  }
 ],
 "metadata": {
  "kernelspec": {
   "display_name": "Python 3 (ipykernel)",
   "language": "python",
   "name": "python3"
  },
  "language_info": {
   "codemirror_mode": {
    "name": "ipython",
    "version": 3
   },
   "file_extension": ".py",
   "mimetype": "text/x-python",
   "name": "python",
   "nbconvert_exporter": "python",
   "pygments_lexer": "ipython3",
   "version": "3.8.10"
  }
 },
 "nbformat": 4,
 "nbformat_minor": 5
}
