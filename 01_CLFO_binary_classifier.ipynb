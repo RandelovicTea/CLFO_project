{
 "cells": [
  {
   "cell_type": "code",
   "execution_count": 1,
   "id": "3523d6a6",
   "metadata": {},
   "outputs": [],
   "source": [
    "import torch\n",
    "import numpy as np\n",
    "import torch.nn as nn\n",
    "from sklearn import datasets\n",
    "from matplotlib import pyplot as plt\n",
    "from sklearn.model_selection import train_test_split\n",
    "from sklearn.preprocessing import StandardScaler\n",
    "\n",
    "import os \n",
    "import cv2\n",
    "import pandas as pd\n",
    "\n",
    "from functions import load, resize, show, grey, masking, selector, files_loader"
   ]
  },
  {
   "cell_type": "markdown",
   "id": "a2c56139",
   "metadata": {},
   "source": [
    "## Data and Image preparation"
   ]
  },
  {
   "cell_type": "code",
   "execution_count": 2,
   "id": "0200eaa6",
   "metadata": {},
   "outputs": [],
   "source": [
    "images_path=\"d:/project data/train 2\" #lokacija fajlova sa kojima zelimo da radimo"
   ]
  },
  {
   "cell_type": "code",
   "execution_count": 3,
   "id": "87006c99",
   "metadata": {},
   "outputs": [],
   "source": [
    "files = files_loader(images_path) #vraca listu imena fajlova sa kojim zelimo da radimo"
   ]
  },
  {
   "cell_type": "code",
   "execution_count": 4,
   "id": "575de096",
   "metadata": {},
   "outputs": [
    {
     "data": {
      "text/plain": [
       "8394"
      ]
     },
     "execution_count": 4,
     "metadata": {},
     "output_type": "execute_result"
    }
   ],
   "source": [
    "len(files)"
   ]
  },
  {
   "cell_type": "code",
   "execution_count": 5,
   "id": "21fbb34e",
   "metadata": {},
   "outputs": [],
   "source": [
    "outputs = pd.read_csv(\"d:/project data/trainLabels.csv\") #vraca izlazne vrednosti iz table(level of..)"
   ]
  },
  {
   "cell_type": "code",
   "execution_count": 6,
   "id": "63af1849",
   "metadata": {},
   "outputs": [],
   "source": [
    "test_values = selector(files,outputs) #filtrira izlazne vrednosti za slektovane fajlove "
   ]
  },
  {
   "cell_type": "markdown",
   "id": "f238c3c3",
   "metadata": {},
   "source": [
    "#### Loading and transforming image example:"
   ]
  },
  {
   "cell_type": "code",
   "execution_count": 7,
   "id": "a83121ca",
   "metadata": {},
   "outputs": [],
   "source": [
    "image_path=os.path.join(images_path,files[0])"
   ]
  },
  {
   "cell_type": "code",
   "execution_count": 8,
   "id": "1535a490",
   "metadata": {},
   "outputs": [
    {
     "data": {
      "text/plain": [
       "'d:/project data/train 2\\\\19500_left.jpeg'"
      ]
     },
     "execution_count": 8,
     "metadata": {},
     "output_type": "execute_result"
    }
   ],
   "source": [
    "image_path"
   ]
  },
  {
   "cell_type": "code",
   "execution_count": 9,
   "id": "710c9867",
   "metadata": {},
   "outputs": [],
   "source": [
    "img=load(image_path)"
   ]
  },
  {
   "cell_type": "code",
   "execution_count": 10,
   "id": "82f341d7",
   "metadata": {},
   "outputs": [],
   "source": [
    "img=resize(img)"
   ]
  },
  {
   "cell_type": "code",
   "execution_count": 11,
   "id": "9f62d549",
   "metadata": {},
   "outputs": [],
   "source": [
    "masked_image=masking(img,10)"
   ]
  },
  {
   "cell_type": "code",
   "execution_count": 12,
   "id": "a1a5eb9c",
   "metadata": {},
   "outputs": [],
   "source": [
    "img_grey=grey(masked_image)"
   ]
  },
  {
   "cell_type": "code",
   "execution_count": 14,
   "id": "0a4ffd08",
   "metadata": {},
   "outputs": [
    {
     "data": {
      "text/plain": [
       "(701, 1051)"
      ]
     },
     "execution_count": 14,
     "metadata": {},
     "output_type": "execute_result"
    }
   ],
   "source": [
    "img_grey.shape"
   ]
  },
  {
   "cell_type": "code",
   "execution_count": 13,
   "id": "3ac8bf1b",
   "metadata": {},
   "outputs": [],
   "source": [
    "#show(img_grey,\"crno i belo\")"
   ]
  },
  {
   "cell_type": "code",
   "execution_count": null,
   "id": "94ab30af",
   "metadata": {},
   "outputs": [],
   "source": [
    "#binarizacija, smanjimo, pytorch"
   ]
  }
 ],
 "metadata": {
  "kernelspec": {
   "display_name": "Python 3 (ipykernel)",
   "language": "python",
   "name": "python3"
  },
  "language_info": {
   "codemirror_mode": {
    "name": "ipython",
    "version": 3
   },
   "file_extension": ".py",
   "mimetype": "text/x-python",
   "name": "python",
   "nbconvert_exporter": "python",
   "pygments_lexer": "ipython3",
   "version": "3.8.10"
  }
 },
 "nbformat": 4,
 "nbformat_minor": 5
}
