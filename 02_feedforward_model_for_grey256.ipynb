{
 "cells": [
  {
   "cell_type": "markdown",
   "id": "8a811aca",
   "metadata": {},
   "source": [
    "# CLFO\n",
    "## 02 Feed-Forward neural network"
   ]
  },
  {
   "cell_type": "markdown",
   "id": "e682bb4e",
   "metadata": {},
   "source": [
    "### Imports"
   ]
  },
  {
   "cell_type": "code",
   "execution_count": 1,
   "id": "ce2a62e0",
   "metadata": {},
   "outputs": [
    {
     "data": {
      "text/plain": [
       "'c:\\\\users\\\\randj\\\\appdata\\\\local\\\\programs\\\\python\\\\python38\\\\python.exe'"
      ]
     },
     "execution_count": 1,
     "metadata": {},
     "output_type": "execute_result"
    }
   ],
   "source": [
    "import sys\n",
    "sys.executable"
   ]
  },
  {
   "cell_type": "code",
   "execution_count": 1,
   "id": "58409cca",
   "metadata": {},
   "outputs": [],
   "source": [
    "import numpy as np\n",
    "from sklearn.model_selection import train_test_split as split\n",
    "import torch \n",
    "from torch.utils.data import DataLoader, Dataset\n",
    "from functions import *\n",
    "import torch.nn as nn\n",
    "from matplotlib import pyplot as plt"
   ]
  },
  {
   "cell_type": "markdown",
   "id": "730efd8f",
   "metadata": {},
   "source": [
    "### Loading prepared data"
   ]
  },
  {
   "cell_type": "code",
   "execution_count": 2,
   "id": "c0e33383",
   "metadata": {},
   "outputs": [
    {
     "name": "stdout",
     "output_type": "stream",
     "text": [
      "<class 'numpy.ndarray'> <class 'numpy.ndarray'>\n",
      "(array([0., 1., 2., 3., 4.]), array([1200, 1200, 1200, 1200, 1200], dtype=int64))\n"
     ]
    }
   ],
   "source": [
    "with open(\"tr2_grey_256.npy\",\"rb\")as f:\n",
    "    X=np.load(f)\n",
    "    y=np.load(f)\n",
    "    \n",
    "\n",
    "print(np.unique(y,return_counts=True))\n"
   ]
  },
  {
   "cell_type": "code",
   "execution_count": 7,
   "id": "fe835ab0",
   "metadata": {},
   "outputs": [],
   "source": [
    "#X = X.astype('float32')\n",
    "y = y.astype('float32')"
   ]
  },
  {
   "cell_type": "markdown",
   "id": "53e50eaa",
   "metadata": {},
   "source": [
    "### Model parameters"
   ]
  },
  {
   "cell_type": "code",
   "execution_count": 25,
   "id": "f23e8986",
   "metadata": {},
   "outputs": [],
   "source": [
    "input_size=X.shape[1]*X.shape[2]\n",
    "num_classes=5\n",
    "\n",
    "test_size=0.2\n",
    "batch_size=100\n",
    "learning_rate=0.01\n",
    "hidden_size=100\n",
    "num_epochs=10"
   ]
  },
  {
   "cell_type": "markdown",
   "id": "63ff0b15",
   "metadata": {},
   "source": [
    "### Spliting train and test size"
   ]
  },
  {
   "cell_type": "code",
   "execution_count": 9,
   "id": "574e206b",
   "metadata": {},
   "outputs": [],
   "source": [
    "X_train, X_test, y_train, y_test = split(X, y, test_size = test_size, random_state = 7)"
   ]
  },
  {
   "cell_type": "code",
   "execution_count": 10,
   "id": "7d7ef9d5",
   "metadata": {},
   "outputs": [
    {
     "data": {
      "text/plain": [
       "(array([0., 1., 2., 3., 4.], dtype=float32),\n",
       " array([230, 224, 253, 248, 245], dtype=int64))"
      ]
     },
     "execution_count": 10,
     "metadata": {},
     "output_type": "execute_result"
    }
   ],
   "source": [
    "np.unique(y_test, return_counts = True)"
   ]
  },
  {
   "cell_type": "markdown",
   "id": "87cb9c4f",
   "metadata": {},
   "source": [
    "### Transform two numpy arrays into one torch Data instance"
   ]
  },
  {
   "cell_type": "code",
   "execution_count": 11,
   "id": "f8b5ce6e",
   "metadata": {},
   "outputs": [],
   "source": [
    "class Data(Dataset):\n",
    "    def __init__(self, X, y):\n",
    "        self.x=torch.from_numpy(X)\n",
    "        self.y=torch.from_numpy(y)\n",
    "        self.samples=X.shape[0]\n",
    "        self.features=X.shape[1]*X.shape[2]\n",
    "    \n",
    "    def __getitem__(self, index):\n",
    "        return self.x[index], self.y[index]\n",
    "    \n",
    "    def __len__(self):\n",
    "        return self.samples"
   ]
  },
  {
   "cell_type": "markdown",
   "id": "63165861",
   "metadata": {},
   "source": [
    "### Creating data instance"
   ]
  },
  {
   "cell_type": "code",
   "execution_count": 12,
   "id": "2d489c96",
   "metadata": {},
   "outputs": [],
   "source": [
    "train_data=Data(X_train, y_train)\n",
    "test_data=Data(X_test,y_test)"
   ]
  },
  {
   "cell_type": "code",
   "execution_count": 13,
   "id": "6b137ef4",
   "metadata": {},
   "outputs": [
    {
     "data": {
      "text/plain": [
       "(4800, 1200)"
      ]
     },
     "execution_count": 13,
     "metadata": {},
     "output_type": "execute_result"
    }
   ],
   "source": [
    "train_data.samples, test_data.samples"
   ]
  },
  {
   "cell_type": "code",
   "execution_count": 14,
   "id": "5c44d102",
   "metadata": {},
   "outputs": [
    {
     "data": {
      "text/plain": [
       "(tensor([[0., 0., 0.,  ..., 0., 0., 0.],\n",
       "         [0., 0., 0.,  ..., 0., 0., 0.],\n",
       "         [0., 0., 0.,  ..., 0., 0., 0.],\n",
       "         ...,\n",
       "         [1., 1., 1.,  ..., 1., 0., 0.],\n",
       "         [1., 1., 1.,  ..., 0., 0., 0.],\n",
       "         [1., 1., 1.,  ..., 0., 0., 1.]]),\n",
       " tensor(2.))"
      ]
     },
     "execution_count": 14,
     "metadata": {},
     "output_type": "execute_result"
    }
   ],
   "source": [
    "train_data[0]"
   ]
  },
  {
   "cell_type": "code",
   "execution_count": 15,
   "id": "0e466f14",
   "metadata": {},
   "outputs": [
    {
     "data": {
      "text/plain": [
       "65536"
      ]
     },
     "execution_count": 15,
     "metadata": {},
     "output_type": "execute_result"
    }
   ],
   "source": [
    "train_data.features"
   ]
  },
  {
   "cell_type": "markdown",
   "id": "09a0d956",
   "metadata": {},
   "source": [
    "### Devide train and test data in 100 samples batches"
   ]
  },
  {
   "cell_type": "code",
   "execution_count": 16,
   "id": "5a7b3ac9",
   "metadata": {},
   "outputs": [],
   "source": [
    "train_loader = torch.utils.data.DataLoader(dataset = train_data, batch_size = batch_size, shuffle=True)\n",
    "test_loader = torch.utils.data.DataLoader(dataset = test_data, batch_size = batch_size)"
   ]
  },
  {
   "cell_type": "markdown",
   "id": "557afb57",
   "metadata": {},
   "source": [
    "### Example"
   ]
  },
  {
   "cell_type": "code",
   "execution_count": 17,
   "id": "4f9a437c",
   "metadata": {
    "scrolled": false
   },
   "outputs": [
    {
     "name": "stdout",
     "output_type": "stream",
     "text": [
      "torch.Size([100, 1, 256, 256]) tensor([3., 1., 2., 4., 1., 3., 3., 4., 4., 3., 4., 2., 4., 3., 2., 0., 0., 3.,\n",
      "        2., 2., 0., 0., 1., 3., 3., 3., 0., 3., 3., 2., 4., 1., 2., 0., 1., 2.,\n",
      "        2., 2., 0., 3., 1., 4., 3., 0., 0., 4., 1., 1., 4., 3., 0., 1., 1., 1.,\n",
      "        1., 2., 0., 2., 2., 0., 0., 2., 4., 0., 1., 0., 0., 4., 1., 4., 2., 1.,\n",
      "        2., 4., 0., 3., 3., 0., 1., 0., 2., 0., 1., 1., 1., 3., 3., 0., 3., 4.,\n",
      "        4., 3., 0., 0., 0., 3., 2., 2., 3., 1.])\n"
     ]
    }
   ],
   "source": [
    "examples=iter(train_loader)\n",
    "samples, labels = examples.next()\n",
    "samples = samples.reshape((100, 1, 256, 256))\n",
    "print(samples.shape, labels)"
   ]
  },
  {
   "cell_type": "markdown",
   "id": "0baeac88",
   "metadata": {},
   "source": [
    "### Allow GPU usage"
   ]
  },
  {
   "cell_type": "code",
   "execution_count": 18,
   "id": "7a72ea3b",
   "metadata": {},
   "outputs": [],
   "source": [
    "device = torch.device('cuda' if torch.cuda.is_available() else 'cpu')"
   ]
  },
  {
   "cell_type": "code",
   "execution_count": 19,
   "id": "0618d1f5",
   "metadata": {},
   "outputs": [
    {
     "data": {
      "text/plain": [
       "tensor([[[[0., 0., 0.,  ..., 0., 0., 0.],\n",
       "          [0., 0., 0.,  ..., 0., 0., 0.],\n",
       "          [0., 0., 0.,  ..., 0., 0., 0.],\n",
       "          ...,\n",
       "          [0., 0., 0.,  ..., 0., 0., 0.],\n",
       "          [0., 0., 0.,  ..., 0., 0., 0.],\n",
       "          [0., 0., 0.,  ..., 0., 0., 0.]]],\n",
       "\n",
       "\n",
       "        [[[2., 3., 3.,  ..., 0., 0., 0.],\n",
       "          [4., 2., 3.,  ..., 0., 0., 0.],\n",
       "          [3., 3., 3.,  ..., 0., 0., 0.],\n",
       "          ...,\n",
       "          [0., 0., 0.,  ..., 2., 3., 2.],\n",
       "          [0., 0., 0.,  ..., 2., 3., 2.],\n",
       "          [0., 0., 0.,  ..., 2., 3., 2.]]],\n",
       "\n",
       "\n",
       "        [[[0., 0., 0.,  ..., 0., 0., 0.],\n",
       "          [0., 0., 0.,  ..., 0., 0., 0.],\n",
       "          [0., 0., 0.,  ..., 0., 0., 0.],\n",
       "          ...,\n",
       "          [0., 0., 0.,  ..., 0., 0., 0.],\n",
       "          [0., 0., 0.,  ..., 0., 0., 0.],\n",
       "          [0., 0., 0.,  ..., 0., 0., 0.]]],\n",
       "\n",
       "\n",
       "        ...,\n",
       "\n",
       "\n",
       "        [[[0., 1., 0.,  ..., 0., 0., 0.],\n",
       "          [0., 1., 1.,  ..., 0., 1., 1.],\n",
       "          [0., 1., 1.,  ..., 0., 1., 2.],\n",
       "          ...,\n",
       "          [1., 2., 1.,  ..., 0., 0., 0.],\n",
       "          [0., 0., 1.,  ..., 0., 0., 0.],\n",
       "          [0., 0., 0.,  ..., 0., 0., 0.]]],\n",
       "\n",
       "\n",
       "        [[[0., 0., 0.,  ..., 0., 0., 0.],\n",
       "          [0., 0., 0.,  ..., 0., 0., 0.],\n",
       "          [0., 0., 0.,  ..., 0., 0., 0.],\n",
       "          ...,\n",
       "          [0., 0., 0.,  ..., 0., 0., 0.],\n",
       "          [0., 0., 0.,  ..., 0., 0., 0.],\n",
       "          [0., 0., 0.,  ..., 0., 0., 0.]]],\n",
       "\n",
       "\n",
       "        [[[0., 0., 0.,  ..., 0., 0., 0.],\n",
       "          [0., 0., 0.,  ..., 0., 0., 0.],\n",
       "          [0., 0., 0.,  ..., 0., 0., 0.],\n",
       "          ...,\n",
       "          [0., 0., 0.,  ..., 0., 0., 0.],\n",
       "          [0., 0., 0.,  ..., 0., 0., 0.],\n",
       "          [0., 0., 0.,  ..., 0., 0., 0.]]]])"
      ]
     },
     "execution_count": 19,
     "metadata": {},
     "output_type": "execute_result"
    }
   ],
   "source": [
    "samples"
   ]
  },
  {
   "cell_type": "code",
   "execution_count": 20,
   "id": "e57ea5da",
   "metadata": {},
   "outputs": [
    {
     "data": {
      "image/png": "[encoded data removed]",
      "text/plain": [
       "<Figure size 432x288 with 6 Axes>"
      ]
     },
     "metadata": {},
     "output_type": "display_data"
    }
   ],
   "source": [
    "for i in range(6):\n",
    "    ax = plt.subplot(2,3,i+1, title = f'{labels[i]}') \n",
    "    ax.set_xticks([])\n",
    "    ax.set_yticks([])\n",
    "    plt.imshow(samples[i][0], cmap='gray')\n",
    "plt.show()"
   ]
  },
  {
   "cell_type": "code",
   "execution_count": 26,
   "id": "03d7f566",
   "metadata": {},
   "outputs": [
    {
     "name": "stdout",
     "output_type": "stream",
     "text": [
      "48\n",
      "epoch 1 / 10, step 8/48, loss = 11151.8037\n",
      "epoch 1 / 10, step 16/48, loss = 6680.1880\n",
      "epoch 1 / 10, step 24/48, loss = 1172.3539\n",
      "epoch 1 / 10, step 32/48, loss = 1.6711\n",
      "epoch 1 / 10, step 40/48, loss = 1.6164\n",
      "epoch 1 / 10, step 48/48, loss = 1.6100\n",
      "epoch 2 / 10, step 8/48, loss = 1.6123\n",
      "epoch 2 / 10, step 16/48, loss = 1.6115\n",
      "epoch 2 / 10, step 24/48, loss = 1.6175\n",
      "epoch 2 / 10, step 32/48, loss = 1.6026\n",
      "epoch 2 / 10, step 40/48, loss = 1.6104\n",
      "epoch 2 / 10, step 48/48, loss = 1.6075\n",
      "epoch 3 / 10, step 8/48, loss = 1.6058\n",
      "epoch 3 / 10, step 16/48, loss = 1.6108\n",
      "epoch 3 / 10, step 24/48, loss = 1.6097\n",
      "epoch 3 / 10, step 32/48, loss = 1.6098\n",
      "epoch 3 / 10, step 40/48, loss = 1.6120\n",
      "epoch 3 / 10, step 48/48, loss = 1.6053\n",
      "epoch 4 / 10, step 8/48, loss = 1.6073\n",
      "epoch 4 / 10, step 16/48, loss = 1.6084\n",
      "epoch 4 / 10, step 24/48, loss = 1.6112\n",
      "epoch 4 / 10, step 32/48, loss = 1.6113\n",
      "epoch 4 / 10, step 40/48, loss = 1.6101\n",
      "epoch 4 / 10, step 48/48, loss = 1.6090\n",
      "epoch 5 / 10, step 8/48, loss = 1.6098\n",
      "epoch 5 / 10, step 16/48, loss = 1.6093\n",
      "epoch 5 / 10, step 24/48, loss = 1.6091\n",
      "epoch 5 / 10, step 32/48, loss = 1.6088\n",
      "epoch 5 / 10, step 40/48, loss = 1.6114\n",
      "epoch 5 / 10, step 48/48, loss = 1.6094\n",
      "epoch 6 / 10, step 8/48, loss = 1.6090\n",
      "epoch 6 / 10, step 16/48, loss = 1.6112\n",
      "epoch 6 / 10, step 24/48, loss = 1.6095\n",
      "epoch 6 / 10, step 32/48, loss = 1.6106\n",
      "epoch 6 / 10, step 40/48, loss = 1.6097\n",
      "epoch 6 / 10, step 48/48, loss = 1.6108\n",
      "epoch 7 / 10, step 8/48, loss = 1.6118\n",
      "epoch 7 / 10, step 16/48, loss = 1.6105\n",
      "epoch 7 / 10, step 24/48, loss = 1.6085\n",
      "epoch 7 / 10, step 32/48, loss = 1.6102\n",
      "epoch 7 / 10, step 40/48, loss = 1.6098\n",
      "epoch 7 / 10, step 48/48, loss = 1.6114\n",
      "epoch 8 / 10, step 8/48, loss = 1.6096\n",
      "epoch 8 / 10, step 16/48, loss = 1.6091\n",
      "epoch 8 / 10, step 24/48, loss = 1.6086\n",
      "epoch 8 / 10, step 32/48, loss = 1.6068\n",
      "epoch 8 / 10, step 40/48, loss = 1.6102\n",
      "epoch 8 / 10, step 48/48, loss = 1.6087\n",
      "epoch 9 / 10, step 8/48, loss = 1.5965\n",
      "epoch 9 / 10, step 16/48, loss = 1.6089\n",
      "epoch 9 / 10, step 24/48, loss = 1.6089\n",
      "epoch 9 / 10, step 32/48, loss = 1.6083\n",
      "epoch 9 / 10, step 40/48, loss = 1.6091\n",
      "epoch 9 / 10, step 48/48, loss = 1.6111\n",
      "epoch 10 / 10, step 8/48, loss = 1.6099\n",
      "epoch 10 / 10, step 16/48, loss = 1.6098\n",
      "epoch 10 / 10, step 24/48, loss = 1.6093\n",
      "epoch 10 / 10, step 32/48, loss = 1.6081\n",
      "epoch 10 / 10, step 40/48, loss = 1.6072\n",
      "epoch 10 / 10, step 48/48, loss = 1.6118\n",
      "accuracy: 18.666666666666668%\n"
     ]
    }
   ],
   "source": [
    "# training class\n",
    "class NeuralNetwork(nn.Module):\n",
    "    def __init__(self, input_size, hidden_size, num_classes):\n",
    "        super().__init__()\n",
    "        self.l1 = nn.Linear(input_size, hidden_size)\n",
    "        self.relu = nn.ReLU()\n",
    "        self.l2 = nn.Linear(hidden_size, num_classes)\n",
    "            \n",
    "    def forward(self, x):\n",
    "        out = self.l1(x)\n",
    "        out = self.relu(out)\n",
    "        out = self.l2(out)\n",
    "        return out\n",
    "        \n",
    "model = NeuralNetwork(input_size, hidden_size, num_classes)\n",
    "\n",
    "criterion = nn.CrossEntropyLoss()\n",
    "optimizer = torch.optim.Adam(model.parameters(), lr = learning_rate)\n",
    "\n",
    "# train\n",
    "n_total_steps = len(train_loader)\n",
    "print(n_total_steps)\n",
    "for epoch in range(num_epochs):\n",
    "    for i, (images, labels) in enumerate(train_loader):\n",
    "        # 100, 1, 256, 256 > 100, 256 * 256\n",
    "        # to device - to GPU if exists\n",
    "        images = images.reshape(-1, 256*256).to(device) \n",
    "        labels = labels.to(device)\n",
    "        \n",
    "        outputs = model(images)\n",
    "        loss = criterion(outputs, labels.long())\n",
    "        \n",
    "        optimizer.zero_grad()\n",
    "        loss.backward()\n",
    "        optimizer.step()\n",
    "        \n",
    "        if (i+1) % 8 == 0:\n",
    "            print(f'epoch {epoch+1} / {num_epochs}, step {i+1}/{n_total_steps}, loss = {loss.item():.4f}')\n",
    "\n",
    "# test\n",
    "with torch.no_grad():\n",
    "    n_corect = 0\n",
    "    n_samples = 0\n",
    "    for images, labels in test_loader:        \n",
    "        images = images.reshape(-1, 256*256).to(device) \n",
    "        labels = labels.to(device)\n",
    "        outputs = model(images)\n",
    "        \n",
    "        _, predictions = torch.max(outputs.data, 1)\n",
    "        n_samples += labels.size(0)\n",
    "        n_corect += (predictions == labels).sum().item()\n",
    "        \n",
    "    acc = 100 * n_corect / n_samples\n",
    "    \n",
    "    print(f'accuracy: {acc}%')       "
   ]
  }
 ],
 "metadata": {
  "kernelspec": {
   "display_name": "Python 3 (ipykernel)",
   "language": "python",
   "name": "python3"
  },
  "language_info": {
   "codemirror_mode": {
    "name": "ipython",
    "version": 3
   },
   "file_extension": ".py",
   "mimetype": "text/x-python",
   "name": "python",
   "nbconvert_exporter": "python",
   "pygments_lexer": "ipython3",
   "version": "3.8.10"
  }
 },
 "nbformat": 4,
 "nbformat_minor": 5
}
