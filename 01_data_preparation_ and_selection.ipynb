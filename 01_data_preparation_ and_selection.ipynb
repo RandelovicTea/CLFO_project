{
 "cells": [
  {
   "cell_type": "markdown",
   "id": "ab9d2486",
   "metadata": {},
   "source": [
    "## Data preparation and selection"
   ]
  },
  {
   "cell_type": "code",
   "execution_count": null,
   "id": "82b3764d",
   "metadata": {},
   "outputs": [],
   "source": [
    "!whi"
   ]
  },
  {
   "cell_type": "code",
   "execution_count": 1,
   "id": "2078973e",
   "metadata": {},
   "outputs": [],
   "source": [
    "import os\n",
    "from functions import *\n",
    "import pandas as pd\n",
    "import numpy as np"
   ]
  },
  {
   "cell_type": "markdown",
   "id": "698914c4",
   "metadata": {},
   "source": [
    "### Image labels (level clasification)"
   ]
  },
  {
   "cell_type": "code",
   "execution_count": 2,
   "id": "5701e3f9",
   "metadata": {},
   "outputs": [],
   "source": [
    "outputs = pd.read_csv(\"d:/project_data/trainLabels.csv\")"
   ]
  },
  {
   "cell_type": "markdown",
   "id": "f5a2ee45",
   "metadata": {},
   "source": [
    "### Image paths"
   ]
  },
  {
   "cell_type": "code",
   "execution_count": 3,
   "id": "f7e2ab18",
   "metadata": {},
   "outputs": [],
   "source": [
    "paths = [\"d:/project_data/train_1\",\"d:/project_data/train_2\",\"d:/project_data/train_3\",\"d:/project_data/train_4\"]"
   ]
  },
  {
   "cell_type": "markdown",
   "id": "56f67b0d",
   "metadata": {},
   "source": [
    "### Inspecting level ratio for each dateset"
   ]
  },
  {
   "cell_type": "code",
   "execution_count": 4,
   "id": "575d3386",
   "metadata": {},
   "outputs": [
    {
     "name": "stdout",
     "output_type": "stream",
     "text": [
      "\n",
      " d:/project_data/train_1\n",
      "0    25810\n",
      "2     5292\n",
      "1     2443\n",
      "3      873\n",
      "4      708\n",
      "Name: level, dtype: int64\n",
      "0\n",
      "\n",
      " d:/project_data/train_2\n",
      "0    6237\n",
      "2    1254\n",
      "1     542\n",
      "3     203\n",
      "4     158\n",
      "Name: level, dtype: int64\n",
      "0\n",
      "\n",
      " d:/project_data/train_3\n",
      "0    6224\n",
      "2    1243\n",
      "1     577\n",
      "3     240\n",
      "4     198\n",
      "Name: level, dtype: int64\n",
      "1\n",
      "\n",
      " d:/project_data/train_4\n",
      "0    6182\n",
      "2    1282\n",
      "1     624\n",
      "3     177\n",
      "4     150\n",
      "Name: level, dtype: int64\n",
      "2\n"
     ]
    }
   ],
   "source": [
    "for path in paths:\n",
    "    image_files=os.listdir(path)\n",
    "    data = selector(image_files,outputs)\n",
    "    print(\"\\n\",path)\n",
    "    print(data[\"level\"].value_counts())   \n",
    "    print(data['level'].iloc[0])"
   ]
  },
  {
   "cell_type": "markdown",
   "id": "996abb6b",
   "metadata": {},
   "source": [
    "### Selecting 6000 samples (1200 for each level)"
   ]
  },
  {
   "cell_type": "code",
   "execution_count": 5,
   "id": "9beff41d",
   "metadata": {},
   "outputs": [
    {
     "name": "stdout",
     "output_type": "stream",
     "text": [
      "\n",
      " d:/project_data/train_1\n",
      "0    25810\n",
      "2     5292\n",
      "1     2443\n",
      "3      873\n",
      "4      708\n",
      "Name: level, dtype: int64\n",
      "35126\n",
      "[25810, 2443, 5292, 873, 708]\n",
      "\n",
      " d:/project_data/train_2\n",
      "0    6237\n",
      "2    1254\n",
      "1     542\n",
      "3     203\n",
      "4     158\n",
      "Name: level, dtype: int64\n",
      "8394\n",
      "[32047, 2985, 6546, 1076, 866]\n",
      "\n",
      " d:/project_data/train_3\n",
      "0    6224\n",
      "2    1243\n",
      "1     577\n",
      "3     240\n",
      "4     198\n",
      "Name: level, dtype: int64\n",
      "8482\n",
      "[38271, 3562, 7789, 1316, 1064]\n",
      "\n",
      " d:/project_data/train_4\n",
      "0    6182\n",
      "2    1282\n",
      "1     624\n",
      "3     177\n",
      "4     150\n",
      "Name: level, dtype: int64\n",
      "8415\n",
      "[44453, 4186, 9071, 1493, 1214]\n"
     ]
    }
   ],
   "source": [
    "num_classes = 5\n",
    "img_paths = [ [] for _ in range (num_classes)]\n",
    "\n",
    "proceed = 5\n",
    "level_status = [0,0,0,0,0]\n",
    "\n",
    "while proceed:\n",
    "    for path in paths:\n",
    "        image_files=os.listdir(path)\n",
    "        data = selector(image_files, outputs)\n",
    "        print(\"\\n\",path)\n",
    "        print(data[\"level\"].value_counts())\n",
    "        print(len(image_files))\n",
    "        for row in range(len(image_files)):\n",
    "            level = int(data[\"level\"].iloc[row])\n",
    "            #print(level, end=' ')\n",
    "            if level_status[level] < 1200:\n",
    "                img_paths[level].append(os.path.join(path, image_files[row]))\n",
    "            elif level_status[level] == 1200:\n",
    "                proceed-=1\n",
    "            level_status[level]+=1         \n",
    "        print(level_status)"
   ]
  },
  {
   "cell_type": "code",
   "execution_count": 6,
   "id": "1d65dfdf",
   "metadata": {},
   "outputs": [
    {
     "name": "stdout",
     "output_type": "stream",
     "text": [
      "Number of samples for category 0: 1200\n",
      "Number of samples for category 1: 1200\n",
      "Number of samples for category 2: 1200\n",
      "Number of samples for category 3: 1200\n",
      "Number of samples for category 4: 1200\n"
     ]
    }
   ],
   "source": [
    "for i in range(5):\n",
    "    print(f'Number of samples for category {i}: {len(img_paths[i])}')"
   ]
  },
  {
   "cell_type": "markdown",
   "id": "b1b5ba15",
   "metadata": {},
   "source": [
    "### Storing data as numpy matrix\n",
    "\n",
    "#### Images are transformed into B&W and resized to 256 x 256"
   ]
  },
  {
   "cell_type": "code",
   "execution_count": 8,
   "id": "c0503c07",
   "metadata": {},
   "outputs": [
    {
     "name": "stdout",
     "output_type": "stream",
     "text": [
      "100/6000\n"
     ]
    },
    {
     "ename": "KeyboardInterrupt",
     "evalue": "",
     "output_type": "error",
     "traceback": [
      "\u001b[1;31m---------------------------------------------------------------------------\u001b[0m",
      "\u001b[1;31mKeyboardInterrupt\u001b[0m                         Traceback (most recent call last)",
      "\u001b[1;32m~\\AppData\\Local\\Temp/ipykernel_1632/3198570644.py\u001b[0m in \u001b[0;36m<module>\u001b[1;34m\u001b[0m\n\u001b[0;32m     10\u001b[0m         \u001b[0mimg\u001b[0m \u001b[1;33m=\u001b[0m \u001b[0mload\u001b[0m\u001b[1;33m(\u001b[0m\u001b[0mpath\u001b[0m\u001b[1;33m)\u001b[0m\u001b[1;33m\u001b[0m\u001b[1;33m\u001b[0m\u001b[0m\n\u001b[0;32m     11\u001b[0m         \u001b[0mimg\u001b[0m \u001b[1;33m=\u001b[0m \u001b[0mresize\u001b[0m\u001b[1;33m(\u001b[0m\u001b[0mimg\u001b[0m\u001b[1;33m)\u001b[0m\u001b[1;33m\u001b[0m\u001b[1;33m\u001b[0m\u001b[0m\n\u001b[1;32m---> 12\u001b[1;33m         \u001b[0mimg\u001b[0m \u001b[1;33m=\u001b[0m \u001b[0mmasking\u001b[0m\u001b[1;33m(\u001b[0m\u001b[0mimg\u001b[0m\u001b[1;33m)\u001b[0m \u001b[1;31m#filter most common color\u001b[0m\u001b[1;33m\u001b[0m\u001b[1;33m\u001b[0m\u001b[0m\n\u001b[0m\u001b[0;32m     13\u001b[0m         \u001b[0mimg\u001b[0m \u001b[1;33m=\u001b[0m \u001b[0mgrey\u001b[0m\u001b[1;33m(\u001b[0m\u001b[0mimg\u001b[0m\u001b[1;33m)\u001b[0m\u001b[1;33m\u001b[0m\u001b[1;33m\u001b[0m\u001b[0m\n\u001b[0;32m     14\u001b[0m         \u001b[0mimg_resized\u001b[0m \u001b[1;33m=\u001b[0m \u001b[0mmodel_resize\u001b[0m\u001b[1;33m(\u001b[0m\u001b[0mimg\u001b[0m\u001b[1;33m)\u001b[0m\u001b[1;33m\u001b[0m\u001b[1;33m\u001b[0m\u001b[0m\n",
      "\u001b[1;32mD:\\CLFO_project\\clfo\\functions.py\u001b[0m in \u001b[0;36mmasking\u001b[1;34m(image, margin)\u001b[0m\n\u001b[0;32m     26\u001b[0m     \u001b[1;31m#print(pixels)\u001b[0m\u001b[1;33m\u001b[0m\u001b[1;33m\u001b[0m\u001b[1;33m\u001b[0m\u001b[0m\n\u001b[0;32m     27\u001b[0m     \u001b[1;31m#print(pixels.shape)\u001b[0m\u001b[1;33m\u001b[0m\u001b[1;33m\u001b[0m\u001b[1;33m\u001b[0m\u001b[0m\n\u001b[1;32m---> 28\u001b[1;33m     \u001b[0mcolors\u001b[0m\u001b[1;33m,\u001b[0m\u001b[0mindex\u001b[0m\u001b[1;33m,\u001b[0m\u001b[0mcount\u001b[0m\u001b[1;33m=\u001b[0m\u001b[0mnp\u001b[0m\u001b[1;33m.\u001b[0m\u001b[0munique\u001b[0m\u001b[1;33m(\u001b[0m\u001b[0mpixels\u001b[0m\u001b[1;33m,\u001b[0m\u001b[0maxis\u001b[0m\u001b[1;33m=\u001b[0m\u001b[1;36m0\u001b[0m\u001b[1;33m,\u001b[0m\u001b[0mreturn_index\u001b[0m\u001b[1;33m=\u001b[0m\u001b[1;32mTrue\u001b[0m\u001b[1;33m,\u001b[0m\u001b[0mreturn_counts\u001b[0m\u001b[1;33m=\u001b[0m\u001b[1;32mTrue\u001b[0m\u001b[1;33m)\u001b[0m\u001b[1;33m\u001b[0m\u001b[1;33m\u001b[0m\u001b[0m\n\u001b[0m\u001b[0;32m     29\u001b[0m     \u001b[0mc\u001b[0m\u001b[1;33m=\u001b[0m\u001b[1;33m[\u001b[0m\u001b[1;33m]\u001b[0m\u001b[1;33m\u001b[0m\u001b[1;33m\u001b[0m\u001b[0m\n\u001b[0;32m     30\u001b[0m     \u001b[1;32mfor\u001b[0m \u001b[0mi\u001b[0m \u001b[1;32min\u001b[0m \u001b[0mrange\u001b[0m \u001b[1;33m(\u001b[0m\u001b[0mlen\u001b[0m\u001b[1;33m(\u001b[0m\u001b[0mcolors\u001b[0m\u001b[1;33m)\u001b[0m\u001b[1;33m)\u001b[0m\u001b[1;33m:\u001b[0m\u001b[1;33m\u001b[0m\u001b[1;33m\u001b[0m\u001b[0m\n",
      "\u001b[1;32m<__array_function__ internals>\u001b[0m in \u001b[0;36munique\u001b[1;34m(*args, **kwargs)\u001b[0m\n",
      "\u001b[1;32mc:\\users\\randj\\appdata\\local\\programs\\python\\python38\\lib\\site-packages\\numpy\\lib\\arraysetops.py\u001b[0m in \u001b[0;36munique\u001b[1;34m(ar, return_index, return_inverse, return_counts, axis)\u001b[0m\n\u001b[0;32m    312\u001b[0m         \u001b[1;32mreturn\u001b[0m \u001b[0muniq\u001b[0m\u001b[1;33m\u001b[0m\u001b[1;33m\u001b[0m\u001b[0m\n\u001b[0;32m    313\u001b[0m \u001b[1;33m\u001b[0m\u001b[0m\n\u001b[1;32m--> 314\u001b[1;33m     output = _unique1d(consolidated, return_index,\n\u001b[0m\u001b[0;32m    315\u001b[0m                        return_inverse, return_counts)\n\u001b[0;32m    316\u001b[0m     \u001b[0moutput\u001b[0m \u001b[1;33m=\u001b[0m \u001b[1;33m(\u001b[0m\u001b[0mreshape_uniq\u001b[0m\u001b[1;33m(\u001b[0m\u001b[0moutput\u001b[0m\u001b[1;33m[\u001b[0m\u001b[1;36m0\u001b[0m\u001b[1;33m]\u001b[0m\u001b[1;33m)\u001b[0m\u001b[1;33m,\u001b[0m\u001b[1;33m)\u001b[0m \u001b[1;33m+\u001b[0m \u001b[0moutput\u001b[0m\u001b[1;33m[\u001b[0m\u001b[1;36m1\u001b[0m\u001b[1;33m:\u001b[0m\u001b[1;33m]\u001b[0m\u001b[1;33m\u001b[0m\u001b[1;33m\u001b[0m\u001b[0m\n",
      "\u001b[1;32mc:\\users\\randj\\appdata\\local\\programs\\python\\python38\\lib\\site-packages\\numpy\\lib\\arraysetops.py\u001b[0m in \u001b[0;36m_unique1d\u001b[1;34m(ar, return_index, return_inverse, return_counts)\u001b[0m\n\u001b[0;32m    329\u001b[0m     \u001b[1;32mif\u001b[0m \u001b[0moptional_indices\u001b[0m\u001b[1;33m:\u001b[0m\u001b[1;33m\u001b[0m\u001b[1;33m\u001b[0m\u001b[0m\n\u001b[0;32m    330\u001b[0m         \u001b[0mperm\u001b[0m \u001b[1;33m=\u001b[0m \u001b[0mar\u001b[0m\u001b[1;33m.\u001b[0m\u001b[0margsort\u001b[0m\u001b[1;33m(\u001b[0m\u001b[0mkind\u001b[0m\u001b[1;33m=\u001b[0m\u001b[1;34m'mergesort'\u001b[0m \u001b[1;32mif\u001b[0m \u001b[0mreturn_index\u001b[0m \u001b[1;32melse\u001b[0m \u001b[1;34m'quicksort'\u001b[0m\u001b[1;33m)\u001b[0m\u001b[1;33m\u001b[0m\u001b[1;33m\u001b[0m\u001b[0m\n\u001b[1;32m--> 331\u001b[1;33m         \u001b[0maux\u001b[0m \u001b[1;33m=\u001b[0m \u001b[0mar\u001b[0m\u001b[1;33m[\u001b[0m\u001b[0mperm\u001b[0m\u001b[1;33m]\u001b[0m\u001b[1;33m\u001b[0m\u001b[1;33m\u001b[0m\u001b[0m\n\u001b[0m\u001b[0;32m    332\u001b[0m     \u001b[1;32melse\u001b[0m\u001b[1;33m:\u001b[0m\u001b[1;33m\u001b[0m\u001b[1;33m\u001b[0m\u001b[0m\n\u001b[0;32m    333\u001b[0m         \u001b[0mar\u001b[0m\u001b[1;33m.\u001b[0m\u001b[0msort\u001b[0m\u001b[1;33m(\u001b[0m\u001b[1;33m)\u001b[0m\u001b[1;33m\u001b[0m\u001b[1;33m\u001b[0m\u001b[0m\n",
      "\u001b[1;31mKeyboardInterrupt\u001b[0m: "
     ]
    }
   ],
   "source": [
    "# takes too long - do not load\n",
    "\n",
    "n_samples = 6000\n",
    "X = np.zeros((n_samples,256,256))\n",
    "Y = np.zeros(n_samples)\n",
    "\n",
    "index = 0\n",
    "for i in range(num_classes):\n",
    "    for path in img_paths[i]:\n",
    "        img = load(path)\n",
    "        img = resize(img)\n",
    "        #img = masking(img) #filter most common color #it will take 20h\n",
    "        img = grey(img)\n",
    "        img_resized = model_resize(img)\n",
    "        X[index] = img_resized\n",
    "        Y[index] = i\n",
    "        index+=1\n",
    "        if index%100 == 0:\n",
    "            print(f\"{index}/{n_samples}\")\n",
    "            \n",
    "print('End of data storing')"
   ]
  },
  {
   "cell_type": "markdown",
   "id": "2b86a102",
   "metadata": {},
   "source": [
    "### Saving data in .npy file"
   ]
  },
  {
   "cell_type": "code",
   "execution_count": null,
   "id": "d36ebccf",
   "metadata": {},
   "outputs": [],
   "source": [
    "with open(\"tr2_mask_256.npy\",\"wb\")as f:\n",
    "    np.save(f,X)\n",
    "    np.save(f,Y)"
   ]
  }
 ],
 "metadata": {
  "kernelspec": {
   "display_name": "Python 3 (ipykernel)",
   "language": "python",
   "name": "python3"
  },
  "language_info": {
   "codemirror_mode": {
    "name": "ipython",
    "version": 3
   },
   "file_extension": ".py",
   "mimetype": "text/x-python",
   "name": "python",
   "nbconvert_exporter": "python",
   "pygments_lexer": "ipython3",
   "version": "3.8.10"
  }
 },
 "nbformat": 4,
 "nbformat_minor": 5
}
