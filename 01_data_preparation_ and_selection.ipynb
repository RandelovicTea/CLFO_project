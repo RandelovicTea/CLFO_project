{
 "cells": [
  {
   "cell_type": "markdown",
   "id": "ab9d2486",
   "metadata": {},
   "source": [
    "# CLFO\n",
    "## 01 Data preparation and selection"
   ]
  },
  {
   "cell_type": "code",
   "execution_count": null,
   "id": "2078973e",
   "metadata": {},
   "outputs": [],
   "source": [
    "import os\n",
    "from functions import *\n",
    "import pandas as pd\n",
    "import numpy as np"
   ]
  },
  {
   "cell_type": "markdown",
   "id": "698914c4",
   "metadata": {},
   "source": [
    "### Image labels (level clasification)"
   ]
  },
  {
   "cell_type": "code",
   "execution_count": null,
   "id": "5701e3f9",
   "metadata": {},
   "outputs": [],
   "source": [
    "outputs = pd.read_csv(\"d:/project_data/trainLabels.csv\")"
   ]
  },
  {
   "cell_type": "markdown",
   "id": "f5a2ee45",
   "metadata": {},
   "source": [
    "### Image paths"
   ]
  },
  {
   "cell_type": "code",
   "execution_count": null,
   "id": "f7e2ab18",
   "metadata": {},
   "outputs": [],
   "source": [
    "paths = [\"d:/project_data/train_1\",\"d:/project_data/train_2\",\"d:/project_data/train_3\",\"d:/project_data/train_4\"]"
   ]
  },
  {
   "cell_type": "markdown",
   "id": "56f67b0d",
   "metadata": {},
   "source": [
    "### Inspecting level ratio for each dateset"
   ]
  },
  {
   "cell_type": "code",
   "execution_count": null,
   "id": "575d3386",
   "metadata": {},
   "outputs": [],
   "source": [
    "for path in paths:\n",
    "    image_files=os.listdir(path)\n",
    "    data = selector(image_files,outputs)\n",
    "    print(\"\\n\",path)\n",
    "    print(data[\"level\"].value_counts())   \n",
    "    print(data['level'].iloc[0])"
   ]
  },
  {
   "cell_type": "markdown",
   "id": "996abb6b",
   "metadata": {},
   "source": [
    "### Selecting 6000 samples (1200 for each level)"
   ]
  },
  {
   "cell_type": "code",
   "execution_count": null,
   "id": "9beff41d",
   "metadata": {},
   "outputs": [],
   "source": [
    "num_classes = 5\n",
    "img_paths = [ [] for _ in range (num_classes)]\n",
    "\n",
    "proceed = 5\n",
    "level_status = [0,0,0,0,0]\n",
    "\n",
    "while proceed:\n",
    "    for path in paths:\n",
    "        image_files=os.listdir(path)\n",
    "        data = selector(image_files, outputs)\n",
    "        print(\"\\n\",path)\n",
    "        print(data[\"level\"].value_counts())\n",
    "        print(len(image_files))\n",
    "        for row in range(len(image_files)):\n",
    "            level = int(data[\"level\"].iloc[row])\n",
    "            #print(level, end=' ')\n",
    "            if level_status[level] < 1200:\n",
    "                img_paths[level].append(os.path.join(path, image_files[row]))\n",
    "            elif level_status[level] == 1200:\n",
    "                proceed-=1\n",
    "            level_status[level]+=1         \n",
    "        print(level_status)"
   ]
  },
  {
   "cell_type": "code",
   "execution_count": null,
   "id": "1d65dfdf",
   "metadata": {},
   "outputs": [],
   "source": [
    "for i in range(5):\n",
    "    print(f'Number of samples for category {i}: {len(img_paths[i])}')"
   ]
  },
  {
   "cell_type": "markdown",
   "id": "b1b5ba15",
   "metadata": {},
   "source": [
    "### Storing data as numpy matrix\n",
    "\n",
    "#### Images are transformed into B&W and resized to 256 x 256"
   ]
  },
  {
   "cell_type": "code",
   "execution_count": null,
   "id": "c0503c07",
   "metadata": {},
   "outputs": [],
   "source": [
    "# takes too long - do not load\n",
    "\n",
    "n_samples = 6000\n",
    "X = np.zeros((n_samples,256,256))\n",
    "Y = np.zeros(n_samples)\n",
    "\n",
    "index = 0\n",
    "for i in range(num_classes):\n",
    "    for path in img_paths[i]:\n",
    "        img = load(path)\n",
    "        img = resize(img)\n",
    "        #img = masking(img) #filter most common color #it will take 20h\n",
    "        img = grey(img)\n",
    "        img_resized = model_resize(img)\n",
    "        X[index] = img_resized\n",
    "        Y[index] = i\n",
    "        index+=1\n",
    "        if index%100 == 0:\n",
    "            print(f\"{index}/{n_samples}\")\n",
    "            \n",
    "print('End of data storing')"
   ]
  },
  {
   "cell_type": "markdown",
   "id": "2b86a102",
   "metadata": {},
   "source": [
    "### Saving data in .npy file"
   ]
  },
  {
   "cell_type": "code",
   "execution_count": null,
   "id": "d36ebccf",
   "metadata": {},
   "outputs": [],
   "source": [
    "with open(\"tr2_mask_256.npy\",\"wb\")as f:\n",
    "    np.save(f,X)\n",
    "    np.save(f,Y)"
   ]
  }
 ],
 "metadata": {
  "kernelspec": {
   "display_name": "Python 3.8.10 ('venv': venv)",
   "language": "python",
   "name": "python3"
  },
  "language_info": {
   "codemirror_mode": {
    "name": "ipython",
    "version": 3
   },
   "file_extension": ".py",
   "mimetype": "text/x-python",
   "name": "python",
   "nbconvert_exporter": "python",
   "pygments_lexer": "ipython3",
   "version": "3.8.10"
  },
  "vscode": {
   "interpreter": {
    "hash": "170d0d85021ae7e9511459f6208d4eb63c60dcba1bf5397279e1704e5047769c"
   }
  }
 },
 "nbformat": 4,
 "nbformat_minor": 5
}
