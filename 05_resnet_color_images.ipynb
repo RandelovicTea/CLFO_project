{
 "cells": [
  {
   "cell_type": "markdown",
   "metadata": {},
   "source": [
    "## 05 RESNET"
   ]
  },
  {
   "cell_type": "code",
   "execution_count": 34,
   "metadata": {},
   "outputs": [],
   "source": [
    "import torch\n",
    "from PIL import Image\n",
    "import pickle\n",
    "from torchvision import models, transforms\n",
    "import torch.nn as nn\n",
    "import torch.optim as optim\n",
    "from torch.optim import lr_scheduler\n",
    "from sklearn.model_selection import train_test_split\n",
    "import numpy as np\n",
    "from torch.utils.data import Dataset, DataLoader\n",
    "import time\n",
    "import copy"
   ]
  },
  {
   "cell_type": "code",
   "execution_count": 21,
   "metadata": {},
   "outputs": [],
   "source": [
    "with open('notchers_5x100', 'rb') as f:\n",
    "    image_paths = pickle.load(f)"
   ]
  },
  {
   "cell_type": "code",
   "execution_count": 19,
   "metadata": {},
   "outputs": [],
   "source": [
    "model = models.resnet18(pretrained = True)\n",
    "\n",
    "#model preformulation - we have 5 classes\n",
    "model.fc = nn.Linear(512,5)\n",
    "\n",
    "#CPU to GPU if available\n",
    "device = torch.device('cuda:0' if torch.cuda.is_available() else 'cpu')\n",
    "model = model.to(device)\n",
    "\n",
    "#loss\n",
    "criterion = nn.CrossEntropyLoss()\n",
    "\n",
    "#optimizer\n",
    "optimizer = optim.SGD(model.parameters(), lr = 0.001, momentum = 0.9)\n",
    "\n",
    "#decay lr by 0.1 for every 10 epochs\n",
    "schedular = lr_scheduler.StepLR(optimizer, step_size = 10, gamma = 0.1)"
   ]
  },
  {
   "cell_type": "code",
   "execution_count": 20,
   "metadata": {},
   "outputs": [],
   "source": [
    "preprocess = transforms.Compose([\n",
    "    transforms.Resize(256),\n",
    "    transforms.CenterCrop(224),\n",
    "    transforms.ToTensor(),\n",
    "    transforms.Normalize(mean=[0.485, 0.456, 0.406], std=[0.229, 0.224, 0.225])\n",
    "])"
   ]
  },
  {
   "cell_type": "code",
   "execution_count": 59,
   "metadata": {},
   "outputs": [
    {
     "name": "stdout",
     "output_type": "stream",
     "text": [
      "0/500\n",
      "10/500\n",
      "20/500\n",
      "30/500\n",
      "40/500\n",
      "50/500\n",
      "60/500\n",
      "70/500\n",
      "80/500\n",
      "90/500\n",
      "100/500\n",
      "110/500\n",
      "120/500\n",
      "130/500\n",
      "140/500\n",
      "150/500\n",
      "160/500\n",
      "170/500\n",
      "180/500\n",
      "190/500\n",
      "200/500\n",
      "210/500\n",
      "220/500\n",
      "230/500\n",
      "240/500\n",
      "250/500\n",
      "260/500\n",
      "270/500\n",
      "280/500\n",
      "290/500\n",
      "300/500\n",
      "310/500\n",
      "320/500\n",
      "330/500\n",
      "340/500\n",
      "350/500\n",
      "360/500\n",
      "370/500\n",
      "380/500\n",
      "390/500\n",
      "400/500\n",
      "410/500\n",
      "420/500\n",
      "430/500\n",
      "440/500\n",
      "450/500\n",
      "460/500\n",
      "470/500\n",
      "480/500\n",
      "490/500\n"
     ]
    }
   ],
   "source": [
    "data = torch.zeros((500, 3, 224, 224))\n",
    "categories = 5\n",
    "samples_per_category = 100\n",
    "labels = []\n",
    "\n",
    "for i in range(samples_per_category):\n",
    "    for j in range(categories):\n",
    "        path = image_paths[j][i]\n",
    "        input_image = Image.open(path)\n",
    "        inx = i*categories+j\n",
    "        if inx % 10 == 0 and j == 0:\n",
    "            print(f'{inx}/{categories*samples_per_category}')\n",
    "        try:\n",
    "            input_tensor = preprocess(input_image)\n",
    "            data[inx] = input_tensor\n",
    "        except:\n",
    "            print(inx, path)\n",
    "            print('Mistake')\n",
    "        labels.append(j)\n",
    "        \n"
   ]
  },
  {
   "cell_type": "code",
   "execution_count": 76,
   "metadata": {},
   "outputs": [],
   "source": [
    "labels = np.array(labels)"
   ]
  },
  {
   "cell_type": "code",
   "execution_count": 77,
   "metadata": {},
   "outputs": [],
   "source": [
    "X_train, X_test, y_train, y_test = train_test_split(data, labels, test_size = 0.2)"
   ]
  },
  {
   "cell_type": "code",
   "execution_count": 78,
   "metadata": {},
   "outputs": [],
   "source": [
    "class Data(Dataset):\n",
    "    \n",
    "    def __init__(self, data, labels):\n",
    "        self.x = data\n",
    "        self.y = torch.from_numpy(labels)\n",
    "        self.samples = data.shape[0]\n",
    "        self.features = data.shape[1]\n",
    "        \n",
    "    def __getitem__(self, index):\n",
    "        # define indexing\n",
    "        return self.x[index], self.y[index]\n",
    "        \n",
    "    def __len__(self):\n",
    "        # len(dataset)\n",
    "        return self.samples"
   ]
  },
  {
   "cell_type": "code",
   "execution_count": 79,
   "metadata": {},
   "outputs": [
    {
     "name": "stdout",
     "output_type": "stream",
     "text": [
      "train: 400, test: 100\n"
     ]
    },
    {
     "data": {
      "text/plain": [
       "torch.Size([400])"
      ]
     },
     "execution_count": 79,
     "metadata": {},
     "output_type": "execute_result"
    }
   ],
   "source": [
    "train = Data(X_train, y_train)\n",
    "test = Data(X_test, y_test)\n",
    "print(f'train: {len(train)}, test: {len(test)}')\n",
    "train.y.size()"
   ]
  },
  {
   "cell_type": "code",
   "execution_count": 80,
   "metadata": {},
   "outputs": [],
   "source": [
    "datasets = {'train': train, 'test': test}\n",
    "dataloaders = {x: DataLoader(datasets[x], batch_size=5, num_workers=0) for x in ['train', 'test']}\n",
    "dataset_sizes = {x: len(datasets[x]) for x in ['train', 'test']}\n",
    "class_names = np.unique(labels)"
   ]
  },
  {
   "cell_type": "code",
   "execution_count": 81,
   "metadata": {},
   "outputs": [
    {
     "data": {
      "text/plain": [
       "array([0., 1., 2., 3., 4.], dtype=float32)"
      ]
     },
     "execution_count": 81,
     "metadata": {},
     "output_type": "execute_result"
    }
   ],
   "source": [
    "class_names"
   ]
  },
  {
   "cell_type": "code",
   "execution_count": 82,
   "metadata": {},
   "outputs": [],
   "source": [
    "def train_model(model, criterion, optimizer, scheduler, num_epochs = 25):\n",
    "    since = time.time()\n",
    "    \n",
    "    best_model_wts = copy.deepcopy(model.state_dict())\n",
    "    best_acc = 0.0\n",
    "\n",
    "    for epoch in range(num_epochs):\n",
    "        print(f'Epoch {epoch+1}/{num_epochs}')\n",
    "        print('-' * 10)\n",
    "\n",
    "        for phase in ['train', 'test']:\n",
    "            if phase == 'train':\n",
    "                model.train()\n",
    "            else:\n",
    "                model.eval()\n",
    "            \n",
    "            running_loss = 0.0\n",
    "            running_corrects = 0\n",
    "\n",
    "            for inputs, labels in dataloaders[phase]:\n",
    "                inputs = inputs.to(device)\n",
    "                labels = labels.to(device)\n",
    "\n",
    "                optimizer.zero_grad()\n",
    "                \n",
    "                with torch.set_grad_enabled(phase == 'train'):\n",
    "                    outputs = model(inputs)\n",
    "                    _, preds = torch.max(outputs, 1)\n",
    "                    loss = criterion(outputs, labels.long())\n",
    "\n",
    "                    # backward + optimize only if in training phase\n",
    "                    if phase == 'train':\n",
    "                        loss.backward()\n",
    "                        optimizer.step()\n",
    "\n",
    "                # statistics\n",
    "                running_loss += loss.item() * inputs.size(0)\n",
    "                running_corrects += torch.sum(preds == labels.data)\n",
    "\n",
    "            if phase == 'train':\n",
    "                scheduler.step()\n",
    "\n",
    "            epoch_loss = running_loss / dataset_sizes[phase]\n",
    "            epoch_acc = running_corrects.double() / dataset_sizes[phase]\n",
    "\n",
    "            print('{} Loss: {:.4f} Acc: {:.4f}'.format(\n",
    "                phase, epoch_loss, epoch_acc))\n",
    "\n",
    "            # deep copy the model\n",
    "            if phase == 'test' and epoch_acc > best_acc:\n",
    "                best_acc = epoch_acc\n",
    "                best_model_wts = copy.deepcopy(model.state_dict())\n",
    "\n",
    "        print()\n",
    "\n",
    "    time_elapsed = time.time() - since\n",
    "    print('Training complete in {:.0f}m {:.0f}s'.format(time_elapsed // 60, time_elapsed % 60))\n",
    "    print('Best val Acc: {:4f}'.format(best_acc))\n",
    "\n",
    "    model.load_state_dict(best_model_wts)\n",
    "    return model\n"
   ]
  },
  {
   "cell_type": "code",
   "execution_count": 83,
   "metadata": {},
   "outputs": [
    {
     "name": "stdout",
     "output_type": "stream",
     "text": [
      "Epoch 1/25\n",
      "----------\n",
      "train Loss: 1.7000 Acc: 0.2650\n",
      "test Loss: 1.7530 Acc: 0.4400\n",
      "\n",
      "Epoch 2/25\n",
      "----------\n",
      "train Loss: 1.2513 Acc: 0.4825\n",
      "test Loss: 1.6125 Acc: 0.4600\n",
      "\n",
      "Epoch 3/25\n",
      "----------\n",
      "train Loss: 0.8916 Acc: 0.6675\n",
      "test Loss: 1.8081 Acc: 0.4100\n",
      "\n",
      "Epoch 4/25\n",
      "----------\n",
      "train Loss: 0.5115 Acc: 0.8375\n",
      "test Loss: 2.2694 Acc: 0.3900\n",
      "\n",
      "Epoch 5/25\n",
      "----------\n",
      "train Loss: 0.3851 Acc: 0.8800\n",
      "test Loss: 2.5184 Acc: 0.3700\n",
      "\n",
      "Epoch 6/25\n",
      "----------\n",
      "train Loss: 0.2638 Acc: 0.9225\n",
      "test Loss: 2.3425 Acc: 0.3700\n",
      "\n",
      "Epoch 7/25\n",
      "----------\n",
      "train Loss: 0.1979 Acc: 0.9350\n",
      "test Loss: 2.2481 Acc: 0.3800\n",
      "\n",
      "Epoch 8/25\n",
      "----------\n",
      "train Loss: 0.1321 Acc: 0.9525\n",
      "test Loss: 2.3980 Acc: 0.4300\n",
      "\n",
      "Epoch 9/25\n",
      "----------\n",
      "train Loss: 0.0907 Acc: 0.9775\n",
      "test Loss: 2.4336 Acc: 0.3700\n",
      "\n",
      "Epoch 10/25\n",
      "----------\n",
      "train Loss: 0.0760 Acc: 0.9800\n",
      "test Loss: 2.5275 Acc: 0.3800\n",
      "\n",
      "Epoch 11/25\n",
      "----------\n",
      "train Loss: 0.0386 Acc: 0.9925\n",
      "test Loss: 2.5804 Acc: 0.3600\n",
      "\n",
      "Epoch 12/25\n",
      "----------\n",
      "train Loss: 0.0236 Acc: 0.9925\n",
      "test Loss: 2.6041 Acc: 0.3800\n",
      "\n",
      "Epoch 13/25\n",
      "----------\n",
      "train Loss: 0.0170 Acc: 0.9950\n",
      "test Loss: 2.6267 Acc: 0.3800\n",
      "\n",
      "Epoch 14/25\n",
      "----------\n",
      "train Loss: 0.0136 Acc: 1.0000\n",
      "test Loss: 2.6439 Acc: 0.3900\n",
      "\n",
      "Epoch 15/25\n",
      "----------\n",
      "train Loss: 0.0118 Acc: 1.0000\n",
      "test Loss: 2.6572 Acc: 0.3900\n",
      "\n",
      "Epoch 16/25\n",
      "----------\n",
      "train Loss: 0.0107 Acc: 1.0000\n",
      "test Loss: 2.6677 Acc: 0.3900\n",
      "\n",
      "Epoch 17/25\n",
      "----------\n",
      "train Loss: 0.0099 Acc: 1.0000\n",
      "test Loss: 2.6766 Acc: 0.3900\n",
      "\n",
      "Epoch 18/25\n",
      "----------\n",
      "train Loss: 0.0093 Acc: 1.0000\n",
      "test Loss: 2.6843 Acc: 0.3900\n",
      "\n",
      "Epoch 19/25\n",
      "----------\n",
      "train Loss: 0.0088 Acc: 1.0000\n",
      "test Loss: 2.6909 Acc: 0.3900\n",
      "\n",
      "Epoch 20/25\n",
      "----------\n",
      "train Loss: 0.0084 Acc: 1.0000\n",
      "test Loss: 2.6971 Acc: 0.3900\n",
      "\n",
      "Epoch 21/25\n",
      "----------\n",
      "train Loss: 0.0080 Acc: 1.0000\n",
      "test Loss: 2.6975 Acc: 0.3900\n",
      "\n",
      "Epoch 22/25\n",
      "----------\n",
      "train Loss: 0.0080 Acc: 1.0000\n",
      "test Loss: 2.6980 Acc: 0.3900\n",
      "\n",
      "Epoch 23/25\n",
      "----------\n",
      "train Loss: 0.0079 Acc: 1.0000\n",
      "test Loss: 2.6985 Acc: 0.3900\n",
      "\n",
      "Epoch 24/25\n",
      "----------\n",
      "train Loss: 0.0079 Acc: 1.0000\n",
      "test Loss: 2.6991 Acc: 0.3900\n",
      "\n",
      "Epoch 25/25\n",
      "----------\n",
      "train Loss: 0.0079 Acc: 1.0000\n",
      "test Loss: 2.6996 Acc: 0.3900\n",
      "\n",
      "Training complete in 42m 9s\n",
      "Best val Acc: 0.000000\n"
     ]
    }
   ],
   "source": [
    "model = train_model(model, criterion, optimizer, schedular, num_epochs = 25)"
   ]
  },
  {
   "cell_type": "code",
   "execution_count": null,
   "metadata": {},
   "outputs": [],
   "source": []
  }
 ],
 "metadata": {
  "interpreter": {
   "hash": "f7d95a31a9066fd6e3c5fa02c84d159fcf9197626a8fd045aadd615f089e0319"
  },
  "kernelspec": {
   "display_name": "Python 3.8.10 64-bit (system)",
   "language": "python",
   "name": "python3"
  },
  "language_info": {
   "codemirror_mode": {
    "name": "ipython",
    "version": 3
   },
   "file_extension": ".py",
   "mimetype": "text/x-python",
   "name": "python",
   "nbconvert_exporter": "python",
   "pygments_lexer": "ipython3",
   "version": "3.8.10"
  },
  "orig_nbformat": 4
 },
 "nbformat": 4,
 "nbformat_minor": 2
}
