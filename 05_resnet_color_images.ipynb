{
 "cells": [
  {
   "cell_type": "markdown",
   "metadata": {},
   "source": [
    "## 05 RESNET"
   ]
  },
  {
   "cell_type": "code",
   "execution_count": 1,
   "metadata": {},
   "outputs": [
    {
     "name": "stderr",
     "output_type": "stream",
     "text": [
      "D:\\PROJEKAT_CLFO\\venv\\lib\\site-packages\\torchvision\\io\\image.py:11: UserWarning: Failed to load image Python extension: Could not find module 'D:\\PROJEKAT_CLFO\\venv\\Lib\\site-packages\\torchvision\\image.pyd' (or one of its dependencies). Try using the full path with constructor syntax.\n",
      "  warn(f\"Failed to load image Python extension: {e}\")\n"
     ]
    }
   ],
   "source": [
    "import torch\n",
    "from PIL import Image\n",
    "import pickle\n",
    "from torchvision import models, transforms\n",
    "import torch.nn as nn\n",
    "import torch.optim as optim\n",
    "from torch.optim import lr_scheduler\n",
    "from sklearn.model_selection import train_test_split\n",
    "import numpy as np\n",
    "from torch.utils.data import Dataset, DataLoader\n",
    "import time\n",
    "import copy"
   ]
  },
  {
   "cell_type": "code",
   "execution_count": 2,
   "metadata": {},
   "outputs": [],
   "source": [
    "name = 'nochers_5x143' #enter name of the pickle file\n",
    "with open(name, 'rb') as f:\n",
    "    image_paths = pickle.load(f)"
   ]
  },
  {
   "cell_type": "code",
   "execution_count": 4,
   "metadata": {},
   "outputs": [],
   "source": [
    "model = models.resnet18(pretrained = True)\n",
    "\n",
    "#model preformulation - we have 5 classes\n",
    "model.fc = nn.Linear(512,5)\n",
    "\n",
    "#CPU to GPU if available\n",
    "device = torch.device('cuda:0' if torch.cuda.is_available() else 'cpu')\n",
    "model = model.to(device)\n",
    "\n",
    "#loss\n",
    "criterion = nn.CrossEntropyLoss()\n",
    "\n",
    "#optimizer\n",
    "optimizer = optim.SGD(model.parameters(), lr = 0.001, momentum = 0.9)\n",
    "\n",
    "#decay lr by 0.1 for every 7 epochs\n",
    "schedular = lr_scheduler.StepLR(optimizer, step_size = 7, gamma = 0.1)"
   ]
  },
  {
   "cell_type": "code",
   "execution_count": 5,
   "metadata": {},
   "outputs": [],
   "source": [
    "preprocess = transforms.Compose([\n",
    "    transforms.Resize(256),\n",
    "    transforms.CenterCrop(224),\n",
    "    transforms.ToTensor(),\n",
    "    transforms.Normalize(mean=[0.485, 0.456, 0.406], std=[0.229, 0.224, 0.225])\n",
    "])"
   ]
  },
  {
   "cell_type": "code",
   "execution_count": 6,
   "metadata": {},
   "outputs": [
    {
     "name": "stdout",
     "output_type": "stream",
     "text": [
      "0/715\n",
      "10/715\n",
      "20/715\n",
      "30/715\n",
      "40/715\n",
      "50/715\n",
      "60/715\n",
      "70/715\n",
      "80/715\n",
      "90/715\n",
      "100/715\n",
      "110/715\n",
      "120/715\n",
      "130/715\n",
      "140/715\n",
      "150/715\n",
      "160/715\n",
      "170/715\n",
      "180/715\n",
      "190/715\n",
      "200/715\n",
      "210/715\n",
      "220/715\n",
      "230/715\n",
      "240/715\n",
      "250/715\n",
      "260/715\n",
      "270/715\n",
      "280/715\n",
      "290/715\n",
      "300/715\n",
      "310/715\n",
      "320/715\n",
      "330/715\n",
      "340/715\n",
      "350/715\n",
      "360/715\n",
      "370/715\n",
      "380/715\n",
      "390/715\n",
      "400/715\n",
      "410/715\n",
      "420/715\n",
      "430/715\n",
      "440/715\n",
      "450/715\n",
      "460/715\n",
      "470/715\n",
      "480/715\n",
      "490/715\n",
      "500/715\n",
      "510/715\n",
      "520/715\n",
      "530/715\n",
      "540/715\n",
      "550/715\n",
      "560/715\n",
      "570/715\n",
      "580/715\n",
      "590/715\n",
      "600/715\n",
      "610/715\n",
      "620/715\n",
      "630/715\n",
      "640/715\n",
      "650/715\n",
      "660/715\n",
      "670/715\n",
      "680/715\n",
      "690/715\n",
      "700/715\n",
      "710/715\n"
     ]
    }
   ],
   "source": [
    "categories = 5\n",
    "samples_per_category = len(image_paths[0])\n",
    "data = torch.zeros((samples_per_category*categories, 3, 224, 224))\n",
    "labels = []\n",
    "\n",
    "for i in range(samples_per_category):\n",
    "    for j in range(categories):\n",
    "        path = image_paths[j][i]\n",
    "        input_image = Image.open(path)\n",
    "        inx = i*categories+j\n",
    "        if inx % 50 == 0 and j == 0:\n",
    "            print(f'{inx}/{categories*samples_per_category}')\n",
    "        try:\n",
    "            input_tensor = preprocess(input_image)\n",
    "            data[inx] = input_tensor\n",
    "        except:\n",
    "            print(inx, path)\n",
    "            print('Mistake')\n",
    "        labels.append(j)"
   ]
  },
  {
   "cell_type": "code",
   "execution_count": 7,
   "metadata": {},
   "outputs": [],
   "source": [
    "labels = np.array(labels)"
   ]
  },
  {
   "cell_type": "code",
   "execution_count": 8,
   "metadata": {},
   "outputs": [],
   "source": [
    "X_train, X_test, y_train, y_test = train_test_split(data, labels, test_size = 0.2)"
   ]
  },
  {
   "cell_type": "code",
   "execution_count": 9,
   "metadata": {},
   "outputs": [],
   "source": [
    "class Data(Dataset):\n",
    "    \n",
    "    def __init__(self, data, labels):\n",
    "        self.x = data\n",
    "        self.y = torch.from_numpy(labels)\n",
    "        self.samples = data.shape[0]\n",
    "        self.features = data.shape[1]\n",
    "        \n",
    "    def __getitem__(self, index):\n",
    "        # define indexing\n",
    "        return self.x[index], self.y[index]\n",
    "        \n",
    "    def __len__(self):\n",
    "        # len(dataset)\n",
    "        return self.samples"
   ]
  },
  {
   "cell_type": "code",
   "execution_count": 10,
   "metadata": {},
   "outputs": [
    {
     "name": "stdout",
     "output_type": "stream",
     "text": [
      "train: 572, test: 143\n"
     ]
    },
    {
     "data": {
      "text/plain": [
       "torch.Size([572])"
      ]
     },
     "execution_count": 10,
     "metadata": {},
     "output_type": "execute_result"
    }
   ],
   "source": [
    "train = Data(X_train, y_train)\n",
    "test = Data(X_test, y_test)\n",
    "print(f'train: {len(train)}, test: {len(test)}')\n",
    "train.y.size()"
   ]
  },
  {
   "cell_type": "code",
   "execution_count": 11,
   "metadata": {},
   "outputs": [],
   "source": [
    "datasets = {'train': train, 'test': test}\n",
    "dataloaders = {x: DataLoader(datasets[x], batch_size=5, num_workers=0) for x in ['train', 'test']}\n",
    "dataset_sizes = {x: len(datasets[x]) for x in ['train', 'test']}\n",
    "class_names = np.unique(labels)"
   ]
  },
  {
   "cell_type": "code",
   "execution_count": 20,
   "metadata": {},
   "outputs": [
    {
     "name": "stdout",
     "output_type": "stream",
     "text": [
      "{'train': 572, 'test': 143}\n"
     ]
    },
    {
     "data": {
      "text/plain": [
       "array([0, 1, 2, 3, 4])"
      ]
     },
     "execution_count": 20,
     "metadata": {},
     "output_type": "execute_result"
    }
   ],
   "source": [
    "print(dataset_sizes)\n",
    "class_names"
   ]
  },
  {
   "cell_type": "code",
   "execution_count": 17,
   "metadata": {},
   "outputs": [],
   "source": [
    "def train_model(model, criterion, optimizer, scheduler, num_epochs = 10):\n",
    "    since = time.time()\n",
    "    \n",
    "    best_model_wts = copy.deepcopy(model.state_dict())\n",
    "    best_acc = 0.0\n",
    "\n",
    "    for epoch in range(num_epochs):\n",
    "        print(f'Epoch {epoch+1}/{num_epochs}')\n",
    "        print('-' * 10)\n",
    "\n",
    "        for phase in ['train', 'test']:\n",
    "            print(f'phase: {phase}')\n",
    "            if phase == 'train':\n",
    "                model.train()\n",
    "            else:\n",
    "                model.eval()\n",
    "            \n",
    "            running_loss = 0.0\n",
    "            running_corrects = 0\n",
    "\n",
    "            batch_number=0\n",
    "            for inputs, labels in dataloaders[phase]:\n",
    "                #if batch_number%5==0:\n",
    "                    #print(f'batch munber: {batch_number}')\n",
    "                batch_number+=1\n",
    "                inputs = inputs.to(device)\n",
    "                labels = labels.to(device)\n",
    "\n",
    "                optimizer.zero_grad()\n",
    "                \n",
    "                with torch.set_grad_enabled(phase == 'train'):\n",
    "                    outputs = model(inputs)\n",
    "                    _, preds = torch.max(outputs, 1)\n",
    "                    loss = criterion(outputs, labels.long())\n",
    "\n",
    "                    # backward + optimize only if in training phase\n",
    "                    if phase == 'train':\n",
    "                        loss.backward()\n",
    "                        optimizer.step()\n",
    "\n",
    "                # statistics\n",
    "                running_loss += loss.item() * inputs.size(0)\n",
    "                running_corrects += torch.sum(preds == labels.data)\n",
    "\n",
    "            if phase == 'train':\n",
    "                scheduler.step()\n",
    "\n",
    "            epoch_loss = running_loss / dataset_sizes[phase]\n",
    "            epoch_acc = running_corrects.double() / dataset_sizes[phase]\n",
    "\n",
    "            print('{} Loss: {:.4f} Acc: {:.4f}'.format(\n",
    "                phase, epoch_loss, epoch_acc))\n",
    "\n",
    "            # deep copy the model\n",
    "            if phase == 'test' and epoch_acc > best_acc:\n",
    "                best_acc = epoch_acc\n",
    "                best_model_wts = copy.deepcopy(model.state_dict())\n",
    "\n",
    "        print()\n",
    "\n",
    "    time_elapsed = time.time() - since\n",
    "    print('Training complete in {:.0f}m {:.0f}s'.format(time_elapsed // 60, time_elapsed % 60))\n",
    "    print('Best val Acc: {:4f}'.format(best_acc))\n",
    "\n",
    "    model.load_state_dict(best_model_wts)\n",
    "    return model\n"
   ]
  },
  {
   "cell_type": "code",
   "execution_count": 18,
   "metadata": {},
   "outputs": [
    {
     "name": "stdout",
     "output_type": "stream",
     "text": [
      "Epoch 1/10\n",
      "----------\n",
      "phase: train\n",
      "train Loss: 0.6629 Acc: 0.7640\n",
      "phase: test\n",
      "test Loss: 1.6190 Acc: 0.4406\n",
      "\n",
      "Epoch 2/10\n",
      "----------\n",
      "phase: train\n",
      "train Loss: 0.4397 Acc: 0.8584\n",
      "phase: test\n",
      "test Loss: 1.9163 Acc: 0.3566\n",
      "\n",
      "Epoch 3/10\n",
      "----------\n",
      "phase: train\n",
      "train Loss: 0.4118 Acc: 0.8497\n",
      "phase: test\n",
      "test Loss: 1.8478 Acc: 0.3916\n",
      "\n",
      "Epoch 4/10\n",
      "----------\n",
      "phase: train\n",
      "train Loss: 0.3023 Acc: 0.8916\n",
      "phase: test\n",
      "test Loss: 2.3346 Acc: 0.3776\n",
      "\n",
      "Epoch 5/10\n",
      "----------\n",
      "phase: train\n",
      "train Loss: 0.2249 Acc: 0.9248\n",
      "phase: test\n",
      "test Loss: 1.9486 Acc: 0.4266\n",
      "\n",
      "Epoch 6/10\n",
      "----------\n",
      "phase: train\n",
      "train Loss: 0.0518 Acc: 0.9965\n",
      "phase: test\n",
      "test Loss: 1.9474 Acc: 0.4196\n",
      "\n",
      "Epoch 7/10\n",
      "----------\n",
      "phase: train\n",
      "train Loss: 0.0334 Acc: 1.0000\n",
      "phase: test\n",
      "test Loss: 1.9619 Acc: 0.4266\n",
      "\n",
      "Epoch 8/10\n",
      "----------\n",
      "phase: train\n",
      "train Loss: 0.0267 Acc: 1.0000\n",
      "phase: test\n",
      "test Loss: 1.9747 Acc: 0.4196\n",
      "\n",
      "Epoch 9/10\n",
      "----------\n",
      "phase: train\n",
      "train Loss: 0.0228 Acc: 1.0000\n",
      "phase: test\n",
      "test Loss: 1.9863 Acc: 0.4196\n",
      "\n",
      "Epoch 10/10\n",
      "----------\n",
      "phase: train\n",
      "train Loss: 0.0200 Acc: 1.0000\n",
      "phase: test\n",
      "test Loss: 1.9963 Acc: 0.4196\n",
      "\n",
      "Training complete in 25m 8s\n",
      "Best val Acc: 0.440559\n"
     ]
    }
   ],
   "source": [
    "train_model(model, criterion, optimizer, schedular, num_epochs = 10)"
   ]
  },
  {
   "cell_type": "code",
   "execution_count": null,
   "metadata": {},
   "outputs": [],
   "source": []
  }
 ],
 "metadata": {
  "interpreter": {
   "hash": "f7d95a31a9066fd6e3c5fa02c84d159fcf9197626a8fd045aadd615f089e0319"
  },
  "kernelspec": {
   "display_name": "Python 3.8.10 64-bit (system)",
   "language": "python",
   "name": "python3"
  },
  "language_info": {
   "codemirror_mode": {
    "name": "ipython",
    "version": 3
   },
   "file_extension": ".py",
   "mimetype": "text/x-python",
   "name": "python",
   "nbconvert_exporter": "python",
   "pygments_lexer": "ipython3",
   "version": "3.8.10"
  },
  "orig_nbformat": 4
 },
 "nbformat": 4,
 "nbformat_minor": 2
}
