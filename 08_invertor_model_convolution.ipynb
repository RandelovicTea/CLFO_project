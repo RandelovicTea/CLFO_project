{
 "cells": [
  {
   "cell_type": "code",
   "execution_count": 8,
   "id": "03ffbcd3",
   "metadata": {},
   "outputs": [],
   "source": [
    "import torch\n",
    "import torch.nn as nn\n",
    "import torch.nn.functional as F\n",
    "import torchvision\n",
    "import torchvision.transforms as transforms\n",
    "import matplotlib.pyplot as plt\n",
    "import numpy as np\n",
    "import os"
   ]
  },
  {
   "cell_type": "markdown",
   "id": "cb325c6a",
   "metadata": {},
   "source": [
    "convolution_1 + ReLU -> pooling -> convolution_2 + ReLU -> pooling -> flatenn -> fully conected -> softmax initial img has size 224x224 & kernel 5 -> 220x220 & maxpooling -> 110x110 & kernel 5 -> 106x106 & maxpooling -> 53x53"
   ]
  },
  {
   "cell_type": "code",
   "execution_count": 4,
   "id": "024218d4",
   "metadata": {},
   "outputs": [],
   "source": [
    "\n",
    "\n",
    "class ConvolutionalNetwork(nn.Module):\n",
    "    def __init__(self):\n",
    "        super().__init__()\n",
    "        self.convolution1 = nn.Conv2d(3,6,5) # number of color chanels, output nodes, kernel size\n",
    "        self.pool = nn.MaxPool2d(2) # kernel size (look sketch above), second parameter is stride (default value is kernel size)\n",
    "        self.convolution2 = nn.Conv2d(6,16,5) # input size must be nuber of hidden layers (6)\n",
    "        self.fc1 = nn.Linear(16*53*53, 120) # 16 hidden layers x 53X53 image -> flatten to 160, 120 is optional\n",
    "        self.fc2 = nn.Linear(120, 84) # 84 is optional\n",
    "        self.fc3 = nn.Linear(84, 2) # we have 2 classes\n",
    "    \n",
    "    def forward(self, x):\n",
    "        x = self.pool(F.relu(self.convolution1(x)))\n",
    "        x = self.pool(F.relu(self.convolution2(x)))\n",
    "        x = x.view(-1, 16 * 53 * 53)          \n",
    "        x = F.relu(self.fc1(x))            \n",
    "        x = F.relu(self.fc2(x))               \n",
    "        x = self.fc3(x)                       \n",
    "        return x\n",
    "    \n",
    "\n"
   ]
  },
  {
   "cell_type": "code",
   "execution_count": 5,
   "id": "647d7c49",
   "metadata": {},
   "outputs": [],
   "source": [
    "num_epochs = 5\n",
    "batch_size = 4\n",
    "learning_rate = 0.001"
   ]
  },
  {
   "cell_type": "code",
   "execution_count": 6,
   "id": "59d3c297",
   "metadata": {},
   "outputs": [],
   "source": [
    "# transforms each image to same size before training\n",
    "preprocess= transforms.Compose([\n",
    "    transforms.Resize(224),\n",
    "    transforms.CenterCrop((224, 224)),\n",
    "    transforms.ToTensor(),\n",
    "    transforms.Normalize(mean=[0.485, 0.456, 0.406], std=[0.229, 0.224, 0.225])\n",
    "])"
   ]
  },
  {
   "cell_type": "code",
   "execution_count": 9,
   "id": "39027370",
   "metadata": {},
   "outputs": [
    {
     "data": {
      "text/plain": [
       "['i', 'n']"
      ]
     },
     "execution_count": 9,
     "metadata": {},
     "output_type": "execute_result"
    }
   ],
   "source": [
    "dirpath = 'D:\\project_data\\isecene\\left'\n",
    "os.listdir(dirpath)"
   ]
  },
  {
   "cell_type": "code",
   "execution_count": 10,
   "id": "a7044ec6",
   "metadata": {},
   "outputs": [],
   "source": [
    "i_path = 'D:\\project_data\\isecene\\left\\i'\n",
    "i_paths = os.listdir(i_path)\n",
    "#i_paths\n",
    "i_paths = [os.path.join(i_path, i) for i in i_paths]\n",
    "#i_paths"
   ]
  },
  {
   "cell_type": "code",
   "execution_count": 11,
   "id": "eaf3ddbb",
   "metadata": {},
   "outputs": [],
   "source": [
    "n_path = 'D:\\project_data\\isecene\\left\\\\n'\n",
    "n_paths = os.listdir(n_path)\n",
    "n_paths = [os.path.join(n_path, n) for n in n_paths]\n",
    "#n_paths"
   ]
  },
  {
   "cell_type": "code",
   "execution_count": 12,
   "id": "4f795c54",
   "metadata": {},
   "outputs": [
    {
     "ename": "NameError",
     "evalue": "name 'path' is not defined",
     "output_type": "error",
     "traceback": [
      "\u001b[1;31m---------------------------------------------------------------------------\u001b[0m",
      "\u001b[1;31mNameError\u001b[0m                                 Traceback (most recent call last)",
      "\u001b[1;32md:\\PROJEKAT_CLFO\\copy\\08_invertor_model_convolution.ipynb Cell 9'\u001b[0m in \u001b[0;36m<module>\u001b[1;34m\u001b[0m\n\u001b[0;32m      <a href='vscode-notebook-cell:/d%3A/PROJEKAT_CLFO/copy/08_invertor_model_convolution.ipynb#ch0000009?line=6'>7</a>\u001b[0m paths \u001b[39m=\u001b[39m n_paths \u001b[39m+\u001b[39m i_paths\n\u001b[0;32m      <a href='vscode-notebook-cell:/d%3A/PROJEKAT_CLFO/copy/08_invertor_model_convolution.ipynb#ch0000009?line=8'>9</a>\u001b[0m \u001b[39mfor\u001b[39;00m i,p \u001b[39min\u001b[39;00m \u001b[39menumerate\u001b[39m(paths):\n\u001b[1;32m---> <a href='vscode-notebook-cell:/d%3A/PROJEKAT_CLFO/copy/08_invertor_model_convolution.ipynb#ch0000009?line=9'>10</a>\u001b[0m     image \u001b[39m=\u001b[39m Image\u001b[39m.\u001b[39mopen(path)\n\u001b[0;32m     <a href='vscode-notebook-cell:/d%3A/PROJEKAT_CLFO/copy/08_invertor_model_convolution.ipynb#ch0000009?line=10'>11</a>\u001b[0m     image \u001b[39m=\u001b[39m preprocess(image)\n\u001b[0;32m     <a href='vscode-notebook-cell:/d%3A/PROJEKAT_CLFO/copy/08_invertor_model_convolution.ipynb#ch0000009?line=11'>12</a>\u001b[0m     X[i] \u001b[39m=\u001b[39m image\n",
      "\u001b[1;31mNameError\u001b[0m: name 'path' is not defined"
     ]
    }
   ],
   "source": [
    "X = torch.zeros((200,3,224,224))\n",
    "y = torch.zeros((200,1))\n",
    "y[100:200] = 1\n",
    "\n",
    "#print(images)\n",
    "\n",
    "paths = n_paths + i_paths\n",
    "\n",
    "for i,p in enumerate(paths):\n",
    "    image = Image.open(path)\n",
    "    image = preprocess(image)\n",
    "    X[i] = image   "
   ]
  }
 ],
 "metadata": {
  "kernelspec": {
   "display_name": "Python 3.8.10 ('venv': venv)",
   "language": "python",
   "name": "python3"
  },
  "language_info": {
   "codemirror_mode": {
    "name": "ipython",
    "version": 3
   },
   "file_extension": ".py",
   "mimetype": "text/x-python",
   "name": "python",
   "nbconvert_exporter": "python",
   "pygments_lexer": "ipython3",
   "version": "3.8.10"
  },
  "vscode": {
   "interpreter": {
    "hash": "170d0d85021ae7e9511459f6208d4eb63c60dcba1bf5397279e1704e5047769c"
   }
  }
 },
 "nbformat": 4,
 "nbformat_minor": 5
}
