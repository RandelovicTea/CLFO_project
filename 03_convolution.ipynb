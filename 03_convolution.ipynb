{
 "cells": [
  {
   "cell_type": "markdown",
   "id": "8a811aca",
   "metadata": {},
   "source": [
    "# CLFO\n",
    "## 03 Convolutional neural network"
   ]
  },
  {
   "cell_type": "markdown",
   "id": "e682bb4e",
   "metadata": {},
   "source": [
    "### Imports"
   ]
  },
  {
   "cell_type": "code",
   "execution_count": 2,
   "id": "58409cca",
   "metadata": {
    "scrolled": true
   },
   "outputs": [
    {
     "name": "stderr",
     "output_type": "stream",
     "text": [
      "D:\\PROJEKAT_CLFO\\venv\\lib\\site-packages\\torchvision\\io\\image.py:11: UserWarning: Failed to load image Python extension: Could not find module 'D:\\PROJEKAT_CLFO\\venv\\Lib\\site-packages\\torchvision\\image.pyd' (or one of its dependencies). Try using the full path with constructor syntax.\n",
      "  warn(f\"Failed to load image Python extension: {e}\")\n"
     ]
    }
   ],
   "source": [
    "import torch\n",
    "import torch.nn as nn\n",
    "import torch.nn.functional as F\n",
    "import torchvision\n",
    "import torchvision.transforms as transforms\n",
    "import matplotlib.pyplot as plt\n",
    "import numpy as np\n",
    "from sklearn.model_selection import train_test_split as split\n",
    "from torch.utils.data import DataLoader, Dataset\n",
    "import pickle\n",
    "from PIL import Image"
   ]
  },
  {
   "cell_type": "markdown",
   "id": "730efd8f",
   "metadata": {},
   "source": [
    "### Loading all gray images"
   ]
  },
  {
   "cell_type": "code",
   "execution_count": null,
   "id": "c0e33383",
   "metadata": {},
   "outputs": [],
   "source": [
    "with open(\"D:\\\\PROJEKAT_CLFO\\\\tr2_grey_256.npy\",\"rb\")as f:\n",
    "    X=np.load(f)\n",
    "    y=np.load(f)\n",
    "    \n",
    "print(np.unique(y,return_counts=True))\n",
    "\n",
    "X = np.reshape(X, (6000,1,256,256))\n",
    "X = torch.from_numpy(X)\n",
    "y = torch.from_numpy(y)\n",
    "\n",
    "chanels = 1\n",
    "\n",
    "PATH = 'D:\\\\PROJEKAT_CLFO\\\\BW_256.pth'# pyTorch file extension - saves model"
   ]
  },
  {
   "cell_type": "markdown",
   "id": "9162d757",
   "metadata": {},
   "source": [
    "### Loading 715 color images (143 for each class)"
   ]
  },
  {
   "cell_type": "code",
   "execution_count": 3,
   "id": "ffe44790",
   "metadata": {},
   "outputs": [
    {
     "name": "stdout",
     "output_type": "stream",
     "text": [
      "0/715\n",
      "50/715\n",
      "100/715\n",
      "150/715\n",
      "200/715\n",
      "250/715\n",
      "300/715\n",
      "350/715\n",
      "400/715\n",
      "450/715\n",
      "500/715\n",
      "550/715\n",
      "600/715\n",
      "650/715\n",
      "700/715\n"
     ]
    }
   ],
   "source": [
    "name = 'nochers_5x143' #enter name of the pickle file\n",
    "with open(name, 'rb') as f:\n",
    "    image_paths = pickle.load(f)\n",
    "\n",
    "preprocess = transforms.Compose([\n",
    "    transforms.Resize(256),\n",
    "    transforms.CenterCrop(224),\n",
    "    transforms.ToTensor(),\n",
    "    transforms.Normalize(mean=[0.485, 0.456, 0.406], std=[0.229, 0.224, 0.225])\n",
    "])\n",
    "\n",
    "categories = 5\n",
    "samples_per_category = len(image_paths[0])\n",
    "X = torch.zeros((samples_per_category*categories, 3, 224, 224))\n",
    "labels = []\n",
    "\n",
    "for i in range(samples_per_category):\n",
    "    for j in range(categories):\n",
    "        path = image_paths[j][i]\n",
    "        input_image = Image.open(path)\n",
    "        inx = i*categories+j\n",
    "        if inx % 50 == 0 and j == 0:\n",
    "            print(f'{inx}/{categories*samples_per_category}')\n",
    "        try:\n",
    "            input_tensor = preprocess(input_image)\n",
    "            X[inx] = input_tensor\n",
    "        except:\n",
    "            print(inx, path)\n",
    "            print('Mistake')\n",
    "        labels.append(j)\n",
    "\n",
    "y = torch.tensor(labels)\n",
    "\n",
    "chanels = 3\n",
    "\n",
    "PATH = 'D:\\\\PROJEKAT_CLFO\\\\color_right_notchers_256.pth'# pyTorch file extension - saves model"
   ]
  },
  {
   "cell_type": "markdown",
   "id": "53e50eaa",
   "metadata": {},
   "source": [
    "### Model parameters"
   ]
  },
  {
   "cell_type": "code",
   "execution_count": 43,
   "id": "f23e8986",
   "metadata": {},
   "outputs": [],
   "source": [
    "input_size=X.shape[2]*X.shape[3]\n",
    "num_classes=5\n",
    "dim = X.shape[2]\n",
    "test_size=0.2\n",
    "batch_size=5\n",
    "learning_rate=0.001\n",
    "hidden_size=100\n",
    "num_epochs=5"
   ]
  },
  {
   "cell_type": "markdown",
   "id": "63ff0b15",
   "metadata": {},
   "source": [
    "### Spliting train and test size"
   ]
  },
  {
   "cell_type": "code",
   "execution_count": 7,
   "id": "574e206b",
   "metadata": {},
   "outputs": [],
   "source": [
    "X_train, X_test, y_train, y_test = split(X, y, test_size = test_size, random_state = 7)"
   ]
  },
  {
   "cell_type": "code",
   "execution_count": 62,
   "id": "7d7ef9d5",
   "metadata": {},
   "outputs": [],
   "source": [
    "classes = np.unique(y_test)"
   ]
  },
  {
   "cell_type": "markdown",
   "id": "87cb9c4f",
   "metadata": {},
   "source": [
    "### Transform two numpy arrays into one torch Data instance"
   ]
  },
  {
   "cell_type": "code",
   "execution_count": 9,
   "id": "f8b5ce6e",
   "metadata": {},
   "outputs": [],
   "source": [
    "class Data(Dataset):\n",
    "    def __init__(self, X, y):\n",
    "        self.x=X\n",
    "        self.y=y\n",
    "        self.samples=X.shape[0]\n",
    "        self.features=X.shape[2]*X.shape[3]\n",
    "    \n",
    "    def __getitem__(self, index):\n",
    "        return self.x[index], self.y[index]\n",
    "    \n",
    "    def __len__(self):\n",
    "        return self.samples"
   ]
  },
  {
   "cell_type": "markdown",
   "id": "63165861",
   "metadata": {},
   "source": [
    "### Creating data instance"
   ]
  },
  {
   "cell_type": "code",
   "execution_count": 10,
   "id": "2d489c96",
   "metadata": {},
   "outputs": [],
   "source": [
    "train_data=Data(X_train, y_train)\n",
    "test_data=Data(X_test,y_test)"
   ]
  },
  {
   "cell_type": "code",
   "execution_count": 11,
   "id": "6b137ef4",
   "metadata": {},
   "outputs": [
    {
     "data": {
      "text/plain": [
       "(572, 143)"
      ]
     },
     "execution_count": 11,
     "metadata": {},
     "output_type": "execute_result"
    }
   ],
   "source": [
    "train_data.samples, test_data.samples"
   ]
  },
  {
   "cell_type": "code",
   "execution_count": 12,
   "id": "5c44d102",
   "metadata": {},
   "outputs": [
    {
     "data": {
      "text/plain": [
       "torch.Size([3, 224, 224])"
      ]
     },
     "execution_count": 12,
     "metadata": {},
     "output_type": "execute_result"
    }
   ],
   "source": [
    "train_data[0][0].size()"
   ]
  },
  {
   "cell_type": "code",
   "execution_count": 13,
   "id": "0e466f14",
   "metadata": {},
   "outputs": [
    {
     "data": {
      "text/plain": [
       "50176"
      ]
     },
     "execution_count": 13,
     "metadata": {},
     "output_type": "execute_result"
    }
   ],
   "source": [
    "train_data.features"
   ]
  },
  {
   "cell_type": "markdown",
   "id": "09a0d956",
   "metadata": {},
   "source": [
    "### Devide train and test data in 100 samples batches"
   ]
  },
  {
   "cell_type": "code",
   "execution_count": 16,
   "id": "5a7b3ac9",
   "metadata": {},
   "outputs": [],
   "source": [
    "train_loader = torch.utils.data.DataLoader(dataset = train_data, batch_size = batch_size, shuffle=False)\n",
    "test_loader = torch.utils.data.DataLoader(dataset = test_data, batch_size = batch_size)"
   ]
  },
  {
   "cell_type": "code",
   "execution_count": 17,
   "id": "a9c4e023",
   "metadata": {},
   "outputs": [
    {
     "data": {
      "text/plain": [
       "115"
      ]
     },
     "execution_count": 17,
     "metadata": {},
     "output_type": "execute_result"
    }
   ],
   "source": [
    "len(train_loader)"
   ]
  },
  {
   "cell_type": "markdown",
   "id": "557afb57",
   "metadata": {},
   "source": [
    "### Example"
   ]
  },
  {
   "cell_type": "code",
   "execution_count": 18,
   "id": "4f9a437c",
   "metadata": {
    "scrolled": false
   },
   "outputs": [
    {
     "name": "stdout",
     "output_type": "stream",
     "text": [
      "torch.Size([5, 3, 224, 224]) tensor([4, 3, 0, 1, 0])\n"
     ]
    }
   ],
   "source": [
    "examples=iter(train_loader)\n",
    "samples, labels = examples.next()\n",
    "print(samples.shape, labels)"
   ]
  },
  {
   "cell_type": "markdown",
   "id": "0baeac88",
   "metadata": {},
   "source": [
    "### Allow GPU usage"
   ]
  },
  {
   "cell_type": "code",
   "execution_count": 34,
   "id": "7a72ea3b",
   "metadata": {},
   "outputs": [],
   "source": [
    "device = torch.device('cuda' if torch.cuda.is_available() else 'cpu')"
   ]
  },
  {
   "cell_type": "code",
   "execution_count": 61,
   "id": "e57ea5da",
   "metadata": {},
   "outputs": [
    {
     "data": {
      "image/png": "[encoded data removed]",
      "text/plain": [
       "<Figure size 432x288 with 3 Axes>"
      ]
     },
     "metadata": {},
     "output_type": "display_data"
    }
   ],
   "source": [
    "for i in range(3):\n",
    "    ax = plt.subplot(1,3,i+1, title = f'{labels[i]}') \n",
    "    ax.set_xticks([])\n",
    "    ax.set_yticks([])\n",
    "    plt.imshow(samples[i][0], cmap='gray')\n",
    "plt.show()"
   ]
  },
  {
   "cell_type": "markdown",
   "id": "1973458d",
   "metadata": {},
   "source": [
    "<img src='convolution.png'>"
   ]
  },
  {
   "cell_type": "markdown",
   "id": "d1c60924",
   "metadata": {},
   "source": [
    "<img src='maxpooling.png'>"
   ]
  },
  {
   "cell_type": "code",
   "execution_count": 21,
   "id": "9de6f6d2",
   "metadata": {},
   "outputs": [],
   "source": [
    "learning_rate = 0.01\n",
    "num_epochs = 5"
   ]
  },
  {
   "cell_type": "markdown",
   "id": "384a501c",
   "metadata": {},
   "source": [
    "### Convolutional network class creation"
   ]
  },
  {
   "cell_type": "code",
   "execution_count": 26,
   "id": "67cb3213",
   "metadata": {},
   "outputs": [
    {
     "data": {
      "text/plain": [
       "62.0"
      ]
     },
     "execution_count": 26,
     "metadata": {},
     "output_type": "execute_result"
    }
   ],
   "source": [
    "last_dim = (((dim - 4) / 2)-2)/2\n",
    "last_dim"
   ]
  },
  {
   "cell_type": "code",
   "execution_count": 40,
   "id": "2b5926a2",
   "metadata": {},
   "outputs": [
    {
     "name": "stdout",
     "output_type": "stream",
     "text": [
      "54\n"
     ]
    }
   ],
   "source": [
    "# convolution_1 -> 252 (sharpen image and reduce dimension by (kernel_size - 1))\n",
    "# max_pool -> 126 (square 2X2 of 4 pixelx transforms into 1 by selecting one with highest value)\n",
    "# convolution_2 -> 122\n",
    "# max_pool -> 61\n",
    "\n",
    "last_dim = int((((dim - 4) / 2)-2)/2)\n",
    "class ConvolutionalNetwork(nn.Module):\n",
    "    def __init__(self):\n",
    "        super().__init__()\n",
    "        self.convolution1 = nn.Conv2d(chanels,6,5) # number of color chanels, output nodes, kernel size\n",
    "        self.pool = nn.MaxPool2d(2) # kernel size (look sketch above), second parameter is stride (default value is kernel size)\n",
    "        self.convolution2 = nn.Conv2d(6,16,3) # input size must be number of hidden layers (6)\n",
    "        self.fc1 = nn.Linear(16*last_dim*last_dim, 120) # 16 hidden layers x 61X61 image -> flatten to 16*61*61, 120 is optional\n",
    "        self.fc2 = nn.Linear(120, 84) # 84 is optional\n",
    "        self.fc3 = nn.Linear(84, 5) # we have 5 classes\n",
    "    \n",
    "    def forward(self, x):\n",
    "        x = self.pool(F.relu(self.convolution1(x)))\n",
    "        x = self.pool(F.relu(self.convolution2(x)))\n",
    "        x = x.view(-1, 16 * last_dim * last_dim)          \n",
    "        x = F.relu(self.fc1(x))            \n",
    "        x = F.relu(self.fc2(x))               \n",
    "        x = self.fc3(x)                       \n",
    "        return x\n",
    "print(last_dim)"
   ]
  },
  {
   "cell_type": "markdown",
   "id": "8dff8557",
   "metadata": {},
   "source": [
    "### Cross-Entropy - criterion for optimization\n",
    "\n",
    "Cross-entropy is calculated for all model at once\n",
    "\n",
    "Training labels are presented as:\n",
    "Y = [1,0,0]\n",
    "\n",
    "Probabilities calculated by Softmax:\n",
    "P = [0.7,0.1,0.2]\n",
    "\n",
    "Cross-Entropy \n",
    "\\begin{align}\n",
    "D(P,Y)=-\\frac{1}{N}\\sum Y_i\\cdot log(P_i) \n",
    "\\end{align}\n",
    "\n",
    "Bigger h for x > Softmax values closer to 1 > log(Pi) closer to zero "
   ]
  },
  {
   "cell_type": "code",
   "execution_count": 41,
   "id": "9366b26d",
   "metadata": {},
   "outputs": [],
   "source": [
    "model = ConvolutionalNetwork().to(device)\n",
    "model.double()\n",
    "criterion = nn.CrossEntropyLoss()\n",
    "\n",
    "# SGD stochastig gradiant descent\n",
    "optimizer = torch.optim.SGD(model.parameters(), lr = learning_rate)"
   ]
  },
  {
   "cell_type": "markdown",
   "id": "b04e5340",
   "metadata": {},
   "source": [
    "### Training"
   ]
  },
  {
   "cell_type": "code",
   "execution_count": 44,
   "id": "a530a2b8",
   "metadata": {},
   "outputs": [
    {
     "name": "stdout",
     "output_type": "stream",
     "text": [
      "Epoch: 1/5, Step: 20/115, Loss: 1.6531\n",
      "Epoch: 1/5, Step: 40/115, Loss: 1.5731\n",
      "Epoch: 1/5, Step: 60/115, Loss: 1.6100\n",
      "Epoch: 1/5, Step: 80/115, Loss: 1.5975\n",
      "Epoch: 1/5, Step: 100/115, Loss: 1.6385\n",
      "Epoch: 2/5, Step: 20/115, Loss: 1.6530\n",
      "Epoch: 2/5, Step: 40/115, Loss: 1.5643\n",
      "Epoch: 2/5, Step: 60/115, Loss: 1.6095\n",
      "Epoch: 2/5, Step: 80/115, Loss: 1.5954\n",
      "Epoch: 2/5, Step: 100/115, Loss: 1.6394\n",
      "Epoch: 3/5, Step: 20/115, Loss: 1.6498\n",
      "Epoch: 3/5, Step: 40/115, Loss: 1.5578\n",
      "Epoch: 3/5, Step: 60/115, Loss: 1.6086\n",
      "Epoch: 3/5, Step: 80/115, Loss: 1.5950\n",
      "Epoch: 3/5, Step: 100/115, Loss: 1.6405\n",
      "Epoch: 4/5, Step: 20/115, Loss: 1.6487\n",
      "Epoch: 4/5, Step: 40/115, Loss: 1.5508\n",
      "Epoch: 4/5, Step: 60/115, Loss: 1.6072\n",
      "Epoch: 4/5, Step: 80/115, Loss: 1.5889\n",
      "Epoch: 4/5, Step: 100/115, Loss: 1.6419\n",
      "Epoch: 5/5, Step: 20/115, Loss: 1.6477\n",
      "Epoch: 5/5, Step: 40/115, Loss: 1.5466\n",
      "Epoch: 5/5, Step: 60/115, Loss: 1.6060\n",
      "Epoch: 5/5, Step: 80/115, Loss: 1.5873\n",
      "Epoch: 5/5, Step: 100/115, Loss: 1.6429\n",
      "\n",
      "\n",
      "finished training\n"
     ]
    }
   ],
   "source": [
    "n_total_steps = len(train_loader)\n",
    "for epoch in range(num_epochs):\n",
    "    #for 48 baches (48X100)\n",
    "    for i, (images, labels) in enumerate(train_loader):\n",
    "        images = images.to(device).double()\n",
    "        labels = labels.to(device)\n",
    "        \n",
    "        outputs = model(images)\n",
    "        loss = criterion(outputs, labels.long())\n",
    "        \n",
    "        optimizer.zero_grad()\n",
    "        loss.backward()\n",
    "        optimizer.step()\n",
    "        \n",
    "        if (i+1) % 20 == 0:\n",
    "            print(f'Epoch: {epoch+1}/{num_epochs}, Step: {i+1}/{n_total_steps}, Loss: {loss.item():.4f}')\n",
    "            \n",
    "print('\\n\\nfinished training')\n",
    "torch.save(model.state_dict(), PATH)"
   ]
  },
  {
   "cell_type": "markdown",
   "id": "597e071d",
   "metadata": {},
   "source": [
    "### Testing"
   ]
  },
  {
   "cell_type": "code",
   "execution_count": 56,
   "id": "5a037a26",
   "metadata": {},
   "outputs": [
    {
     "name": "stdout",
     "output_type": "stream",
     "text": [
      "Accuracy of the network: 19.58041958041958 %\n",
      "Accuracy of 0: 78.26086956521739 %\n",
      "Accuracy of 1: 0.0 %\n",
      "Accuracy of 2: 0.0 %\n",
      "Accuracy of 3: 0.0 %\n",
      "Accuracy of 4: 33.333333333333336 %\n"
     ]
    }
   ],
   "source": [
    "with torch.no_grad():\n",
    "    n_correct = 0\n",
    "    n_samples = 0\n",
    "    n_class_correct = [0 for i in range(5)]\n",
    "    n_class_samples = [0 for i in range(5)]\n",
    "\n",
    "    for images, labels in test_loader:\n",
    "        images = images.to(device).double()\n",
    "        labels = labels.to(device)\n",
    "        outputs = model(images)\n",
    "        # max returns (value ,index)\n",
    "        _, predicted = torch.max(outputs, 1)\n",
    "        n_samples += labels.size(0)\n",
    "        n_correct += (predicted == labels).sum().item()\n",
    "\n",
    "        for i in range(labels.shape[0]):\n",
    "            label = labels[i].int()\n",
    "            pred = predicted[i].int()\n",
    "            if (label == pred):\n",
    "                n_class_correct[label] += 1\n",
    "            n_class_samples[label] += 1\n",
    "\n",
    "    acc = 100.0 * n_correct / n_samples\n",
    "    print(f'Accuracy of the network: {acc} %')\n",
    "\n",
    "    for i in range(5):\n",
    "        acc = 100.0 * n_class_correct[i] / n_class_samples[i]\n",
    "        print(f'Accuracy of {classes[i]}: {acc} %')"
   ]
  },
  {
   "cell_type": "markdown",
   "id": "cb06ded3",
   "metadata": {},
   "source": [
    "# CLFO_project\n",
    "\n",
    "- instaling Open CV library\n",
    "- creating functions for image resize, load, transform color, save with aim to better understand problem\n",
    "- selecting areas that are connected to illness levels\n",
    "- simulate ml algorithms to check mask importance\n",
    "- simulate deeep learning to check mask importance\n",
    "- problem - to much time for creating masks on 6000 images\n",
    "- selecting equal image sets for each level\n",
    "- asigning each image to corespodent level\n",
    "- princips of PyTorch functioning (gradients, forward & backward pass, linear regression, logistic regression, sigmoid functions, ReLU, softmax, cross entreopy, neural networks - nonlinearity)\n",
    "- 256x256 gray images (one chanel) 1200 for each class\n",
    "- creating feedForward neural network model on 256x256 gray images\n",
    "- creating convolutional neural network model on 256x256 gray images"
   ]
  }
 ],
 "metadata": {
  "kernelspec": {
   "display_name": "Python 3 (ipykernel)",
   "language": "python",
   "name": "python3"
  },
  "language_info": {
   "codemirror_mode": {
    "name": "ipython",
    "version": 3
   },
   "file_extension": ".py",
   "mimetype": "text/x-python",
   "name": "python",
   "nbconvert_exporter": "python",
   "pygments_lexer": "ipython3",
   "version": "3.8.10"
  }
 },
 "nbformat": 4,
 "nbformat_minor": 5
}
