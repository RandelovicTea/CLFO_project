{
 "cells": [
  {
   "cell_type": "markdown",
   "id": "8a811aca",
   "metadata": {},
   "source": [
    "# CLFO\n",
    "## 03 Convolutional neural network"
   ]
  },
  {
   "cell_type": "markdown",
   "id": "e682bb4e",
   "metadata": {},
   "source": [
    "### Imports"
   ]
  },
  {
   "cell_type": "code",
   "execution_count": 1,
   "id": "f1d820a4",
   "metadata": {},
   "outputs": [
    {
     "data": {
      "text/plain": [
       "'D:\\\\PROJEKAT_CLFO\\\\venv\\\\Scripts\\\\python.exe'"
      ]
     },
     "execution_count": 1,
     "metadata": {},
     "output_type": "execute_result"
    }
   ],
   "source": [
    "import sys\n",
    "sys.executable"
   ]
  },
  {
   "cell_type": "code",
   "execution_count": 2,
   "id": "58409cca",
   "metadata": {
    "scrolled": true
   },
   "outputs": [
    {
     "name": "stderr",
     "output_type": "stream",
     "text": [
      "D:\\PROJEKAT_CLFO\\venv\\lib\\site-packages\\torchvision\\io\\image.py:11: UserWarning: Failed to load image Python extension: Could not find module 'D:\\PROJEKAT_CLFO\\venv\\Lib\\site-packages\\torchvision\\image.pyd' (or one of its dependencies). Try using the full path with constructor syntax.\n",
      "  warn(f\"Failed to load image Python extension: {e}\")\n"
     ]
    }
   ],
   "source": [
    "import torch\n",
    "import torch.nn as nn\n",
    "import torch.nn.functional as F\n",
    "import torchvision\n",
    "import torchvision.transforms as transforms\n",
    "import matplotlib.pyplot as plt\n",
    "import numpy as np\n",
    "from sklearn.model_selection import train_test_split as split\n",
    "from torch.utils.data import DataLoader, Dataset"
   ]
  },
  {
   "cell_type": "markdown",
   "id": "730efd8f",
   "metadata": {},
   "source": [
    "### Loading prepared data"
   ]
  },
  {
   "cell_type": "code",
   "execution_count": 3,
   "id": "c0e33383",
   "metadata": {},
   "outputs": [
    {
     "name": "stdout",
     "output_type": "stream",
     "text": [
      "(array([0., 1., 2., 3., 4.]), array([1200, 1200, 1200, 1200, 1200], dtype=int64))\n"
     ]
    }
   ],
   "source": [
    "with open(\"D:\\\\PROJEKAT_CLFO\\\\tr2_grey_256.npy\",\"rb\")as f:\n",
    "    X=np.load(f)\n",
    "    y=np.load(f)\n",
    "    \n",
    "\n",
    "print(np.unique(y,return_counts=True))\n"
   ]
  },
  {
   "cell_type": "code",
   "execution_count": 4,
   "id": "9e9d0580",
   "metadata": {
    "scrolled": true
   },
   "outputs": [
    {
     "data": {
      "text/plain": [
       "(256, 256)"
      ]
     },
     "execution_count": 4,
     "metadata": {},
     "output_type": "execute_result"
    }
   ],
   "source": [
    "X[0].shape"
   ]
  },
  {
   "cell_type": "code",
   "execution_count": 5,
   "id": "cecb6cc9",
   "metadata": {
    "scrolled": true
   },
   "outputs": [
    {
     "data": {
      "text/plain": [
       "(6000, 1, 256, 256)"
      ]
     },
     "execution_count": 5,
     "metadata": {},
     "output_type": "execute_result"
    }
   ],
   "source": [
    "X = np.reshape(X, (6000,1,256,256))\n",
    "X.shape"
   ]
  },
  {
   "cell_type": "code",
   "execution_count": 6,
   "id": "f7d17773",
   "metadata": {},
   "outputs": [],
   "source": [
    "#X = X.astype('float32')\n",
    "#y = y.astype('float32')"
   ]
  },
  {
   "cell_type": "markdown",
   "id": "53e50eaa",
   "metadata": {},
   "source": [
    "### Model parameters"
   ]
  },
  {
   "cell_type": "code",
   "execution_count": 7,
   "id": "f23e8986",
   "metadata": {},
   "outputs": [],
   "source": [
    "input_size=X.shape[2]*X.shape[3]\n",
    "num_classes=5\n",
    "\n",
    "test_size=0.2\n",
    "batch_size=12\n",
    "learning_rate=0.01\n",
    "hidden_size=100\n",
    "num_epochs=2"
   ]
  },
  {
   "cell_type": "markdown",
   "id": "63ff0b15",
   "metadata": {},
   "source": [
    "### Spliting train and test size"
   ]
  },
  {
   "cell_type": "code",
   "execution_count": 8,
   "id": "574e206b",
   "metadata": {},
   "outputs": [],
   "source": [
    "X_train, X_test, y_train, y_test = split(X, y, test_size = test_size, random_state = 7)"
   ]
  },
  {
   "cell_type": "code",
   "execution_count": 9,
   "id": "7d7ef9d5",
   "metadata": {},
   "outputs": [
    {
     "data": {
      "text/plain": [
       "(array([0., 1., 2., 3., 4.]), array([230, 224, 253, 248, 245], dtype=int64))"
      ]
     },
     "execution_count": 9,
     "metadata": {},
     "output_type": "execute_result"
    }
   ],
   "source": [
    "np.unique(y_test, return_counts = True)"
   ]
  },
  {
   "cell_type": "markdown",
   "id": "87cb9c4f",
   "metadata": {},
   "source": [
    "### Transform two numpy arrays into one torch Data instance"
   ]
  },
  {
   "cell_type": "code",
   "execution_count": 10,
   "id": "f8b5ce6e",
   "metadata": {},
   "outputs": [],
   "source": [
    "class Data(Dataset):\n",
    "    def __init__(self, X, y):\n",
    "        self.x=torch.from_numpy(X)\n",
    "        self.y=torch.from_numpy(y)\n",
    "        self.samples=X.shape[0]\n",
    "        self.features=X.shape[2]*X.shape[3]\n",
    "    \n",
    "    def __getitem__(self, index):\n",
    "        return self.x[index], self.y[index]\n",
    "    \n",
    "    def __len__(self):\n",
    "        return self.samples"
   ]
  },
  {
   "cell_type": "markdown",
   "id": "63165861",
   "metadata": {},
   "source": [
    "### Creating data instance"
   ]
  },
  {
   "cell_type": "code",
   "execution_count": 11,
   "id": "2d489c96",
   "metadata": {},
   "outputs": [],
   "source": [
    "train_data=Data(X_train, y_train)\n",
    "test_data=Data(X_test,y_test)"
   ]
  },
  {
   "cell_type": "code",
   "execution_count": 12,
   "id": "6b137ef4",
   "metadata": {},
   "outputs": [
    {
     "data": {
      "text/plain": [
       "(4800, 1200)"
      ]
     },
     "execution_count": 12,
     "metadata": {},
     "output_type": "execute_result"
    }
   ],
   "source": [
    "train_data.samples, test_data.samples"
   ]
  },
  {
   "cell_type": "code",
   "execution_count": 13,
   "id": "5c44d102",
   "metadata": {},
   "outputs": [
    {
     "data": {
      "text/plain": [
       "torch.Size([1, 256, 256])"
      ]
     },
     "execution_count": 13,
     "metadata": {},
     "output_type": "execute_result"
    }
   ],
   "source": [
    "train_data[0][0].size()"
   ]
  },
  {
   "cell_type": "code",
   "execution_count": 14,
   "id": "0e466f14",
   "metadata": {},
   "outputs": [
    {
     "data": {
      "text/plain": [
       "65536"
      ]
     },
     "execution_count": 14,
     "metadata": {},
     "output_type": "execute_result"
    }
   ],
   "source": [
    "train_data.features"
   ]
  },
  {
   "cell_type": "markdown",
   "id": "09a0d956",
   "metadata": {},
   "source": [
    "### Devide train and test data in 100 samples batches"
   ]
  },
  {
   "cell_type": "code",
   "execution_count": 15,
   "id": "5a7b3ac9",
   "metadata": {},
   "outputs": [],
   "source": [
    "train_loader = torch.utils.data.DataLoader(dataset = train_data, batch_size = batch_size, shuffle=True)\n",
    "test_loader = torch.utils.data.DataLoader(dataset = test_data, batch_size = batch_size)"
   ]
  },
  {
   "cell_type": "code",
   "execution_count": 16,
   "id": "a9c4e023",
   "metadata": {},
   "outputs": [
    {
     "data": {
      "text/plain": [
       "400"
      ]
     },
     "execution_count": 16,
     "metadata": {},
     "output_type": "execute_result"
    }
   ],
   "source": [
    "len(train_loader)"
   ]
  },
  {
   "cell_type": "markdown",
   "id": "557afb57",
   "metadata": {},
   "source": [
    "### Example"
   ]
  },
  {
   "cell_type": "code",
   "execution_count": 17,
   "id": "4f9a437c",
   "metadata": {
    "scrolled": false
   },
   "outputs": [
    {
     "name": "stdout",
     "output_type": "stream",
     "text": [
      "torch.Size([12, 1, 256, 256]) tensor([1., 2., 1., 1., 1., 2., 1., 0., 1., 2., 3., 3.], dtype=torch.float64)\n"
     ]
    }
   ],
   "source": [
    "examples=iter(train_loader)\n",
    "samples, labels = examples.next()\n",
    "print(samples.shape, labels)"
   ]
  },
  {
   "cell_type": "markdown",
   "id": "0baeac88",
   "metadata": {},
   "source": [
    "### Allow GPU usage"
   ]
  },
  {
   "cell_type": "code",
   "execution_count": 18,
   "id": "7a72ea3b",
   "metadata": {},
   "outputs": [],
   "source": [
    "device = torch.device('cuda' if torch.cuda.is_available() else 'cpu')"
   ]
  },
  {
   "cell_type": "code",
   "execution_count": 19,
   "id": "e57ea5da",
   "metadata": {},
   "outputs": [
    {
     "data": {
      "image/png": "[encoded data removed]",
      "text/plain": [
       "<Figure size 432x288 with 6 Axes>"
      ]
     },
     "metadata": {},
     "output_type": "display_data"
    }
   ],
   "source": [
    "for i in range(6):\n",
    "    ax = plt.subplot(2,3,i+1, title = f'{labels[i]}') \n",
    "    ax.set_xticks([])\n",
    "    ax.set_yticks([])\n",
    "    plt.imshow(samples[i][0], cmap='gray')\n",
    "plt.show()"
   ]
  },
  {
   "cell_type": "markdown",
   "id": "1973458d",
   "metadata": {},
   "source": [
    "<img src='convolution.png'>"
   ]
  },
  {
   "cell_type": "markdown",
   "id": "d1c60924",
   "metadata": {},
   "source": [
    "<img src='maxpooling.png'>"
   ]
  },
  {
   "cell_type": "code",
   "execution_count": 35,
   "id": "9de6f6d2",
   "metadata": {},
   "outputs": [],
   "source": [
    "learning_rate = 0.01\n",
    "num_epochs = 5"
   ]
  },
  {
   "cell_type": "markdown",
   "id": "384a501c",
   "metadata": {},
   "source": [
    "### Convolutional network class creation"
   ]
  },
  {
   "cell_type": "code",
   "execution_count": 36,
   "id": "2b5926a2",
   "metadata": {},
   "outputs": [],
   "source": [
    "# convolution_1 -> 252 (sharpen image and reduce dimension by kernel_size - 1)\n",
    "# max_pool -> 126 (square 2X2 of 4 pixelx transforms into 1 by selecting one with highest value)\n",
    "# convolution_2 -> 122\n",
    "# max_pool -> 61\n",
    "class ConvolutionalNetwork(nn.Module):\n",
    "    def __init__(self):\n",
    "        super().__init__()\n",
    "        self.convolution1 = nn.Conv2d(1,6,3) # number of color chanels, output nodes, kernel size\n",
    "        self.pool = nn.MaxPool2d(2) # kernel size (look sketch above), second parameter is stride (default value is kernel size)\n",
    "        self.convolution2 = nn.Conv2d(6,16,4) # input size must be number of hidden layers (6)\n",
    "        self.fc1 = nn.Linear(16*62*62, 120) # 16 hidden layers x 61X61 image -> flatten to 16*61*61, 120 is optional\n",
    "        self.fc2 = nn.Linear(120, 84) # 84 is optional\n",
    "        self.fc3 = nn.Linear(84, 5) # we have 5 classes\n",
    "    \n",
    "    def forward(self, x):\n",
    "        x = self.pool(F.relu(self.convolution1(x)))\n",
    "        x = self.pool(F.relu(self.convolution2(x)))\n",
    "        x = x.view(-1, 16 * 62 * 62)          \n",
    "        x = F.relu(self.fc1(x))            \n",
    "        x = F.relu(self.fc2(x))               \n",
    "        x = self.fc3(x)                       \n",
    "        return x"
   ]
  },
  {
   "cell_type": "markdown",
   "id": "8dff8557",
   "metadata": {},
   "source": [
    "### Cross-Entropy - criterion for optimization\n",
    "\n",
    "Cross-entropy is calculated for all model at once\n",
    "\n",
    "Training labels are presented as:\n",
    "Y = [1,0,0]\n",
    "\n",
    "Probabilities calculated by Softmax:\n",
    "P = [0.7,0.1,0.2]\n",
    "\n",
    "Cross-Entropy \n",
    "\\begin{align}\n",
    "D(P,Y)=-\\frac{1}{N}\\sum Y_i\\cdot log(P_i) \n",
    "\\end{align}\n",
    "\n",
    "Bigger h for x > Softmax values closer to 1 > log(Pi) closer to zero "
   ]
  },
  {
   "cell_type": "code",
   "execution_count": 37,
   "id": "9366b26d",
   "metadata": {},
   "outputs": [],
   "source": [
    "model = ConvolutionalNetwork().to(device)\n",
    "model.double()\n",
    "criterion = nn.CrossEntropyLoss()\n",
    "\n",
    "# SGD stochastig gradiant descent\n",
    "optimizer = torch.optim.SGD(model.parameters(), lr = learning_rate)"
   ]
  },
  {
   "cell_type": "markdown",
   "id": "b04e5340",
   "metadata": {},
   "source": [
    "### Training"
   ]
  },
  {
   "cell_type": "code",
   "execution_count": 38,
   "id": "a530a2b8",
   "metadata": {},
   "outputs": [
    {
     "name": "stdout",
     "output_type": "stream",
     "text": [
      "Epoch: 1/5, Step: 10/400, Loss: 1.8434\n",
      "Epoch: 1/5, Step: 20/400, Loss: 1.5702\n",
      "Epoch: 1/5, Step: 30/400, Loss: 1.5963\n",
      "Epoch: 1/5, Step: 40/400, Loss: 1.6156\n",
      "Epoch: 1/5, Step: 50/400, Loss: 1.6600\n",
      "Epoch: 1/5, Step: 60/400, Loss: 1.6329\n",
      "Epoch: 1/5, Step: 70/400, Loss: 1.6347\n",
      "Epoch: 1/5, Step: 80/400, Loss: 1.6188\n",
      "Epoch: 1/5, Step: 90/400, Loss: 1.5731\n",
      "Epoch: 1/5, Step: 100/400, Loss: 1.6209\n",
      "Epoch: 1/5, Step: 110/400, Loss: 1.6450\n",
      "Epoch: 1/5, Step: 120/400, Loss: 1.5724\n",
      "Epoch: 1/5, Step: 130/400, Loss: 1.6099\n",
      "Epoch: 1/5, Step: 140/400, Loss: 1.6131\n",
      "Epoch: 1/5, Step: 150/400, Loss: 1.5992\n",
      "Epoch: 1/5, Step: 160/400, Loss: 1.6319\n",
      "Epoch: 1/5, Step: 170/400, Loss: 1.5887\n",
      "Epoch: 1/5, Step: 180/400, Loss: 1.6285\n",
      "Epoch: 1/5, Step: 190/400, Loss: 1.5957\n",
      "Epoch: 1/5, Step: 200/400, Loss: 1.6202\n",
      "Epoch: 1/5, Step: 210/400, Loss: 1.6389\n",
      "Epoch: 1/5, Step: 220/400, Loss: 1.6119\n",
      "Epoch: 1/5, Step: 230/400, Loss: 1.6152\n",
      "Epoch: 1/5, Step: 240/400, Loss: 1.5912\n",
      "Epoch: 1/5, Step: 250/400, Loss: 1.6050\n",
      "Epoch: 1/5, Step: 260/400, Loss: 1.6289\n",
      "Epoch: 1/5, Step: 270/400, Loss: 1.6165\n",
      "Epoch: 1/5, Step: 280/400, Loss: 1.6195\n",
      "Epoch: 1/5, Step: 290/400, Loss: 1.6075\n",
      "Epoch: 1/5, Step: 300/400, Loss: 1.6104\n",
      "Epoch: 1/5, Step: 310/400, Loss: 1.6248\n",
      "Epoch: 1/5, Step: 320/400, Loss: 1.6174\n",
      "Epoch: 1/5, Step: 330/400, Loss: 1.6227\n",
      "Epoch: 1/5, Step: 340/400, Loss: 1.6072\n",
      "Epoch: 1/5, Step: 350/400, Loss: 1.6129\n",
      "Epoch: 1/5, Step: 360/400, Loss: 1.6117\n",
      "Epoch: 1/5, Step: 370/400, Loss: 1.6119\n",
      "Epoch: 1/5, Step: 380/400, Loss: 1.6067\n",
      "Epoch: 1/5, Step: 390/400, Loss: 1.6103\n",
      "Epoch: 1/5, Step: 400/400, Loss: 1.5996\n",
      "Epoch: 2/5, Step: 10/400, Loss: 1.6117\n",
      "Epoch: 2/5, Step: 20/400, Loss: 1.6183\n",
      "Epoch: 2/5, Step: 30/400, Loss: 1.6071\n",
      "Epoch: 2/5, Step: 40/400, Loss: 1.5981\n",
      "Epoch: 2/5, Step: 50/400, Loss: 1.6177\n",
      "Epoch: 2/5, Step: 60/400, Loss: 1.6001\n",
      "Epoch: 2/5, Step: 70/400, Loss: 1.6210\n",
      "Epoch: 2/5, Step: 80/400, Loss: 1.5944\n",
      "Epoch: 2/5, Step: 90/400, Loss: 1.5929\n",
      "Epoch: 2/5, Step: 100/400, Loss: 1.5968\n",
      "Epoch: 2/5, Step: 110/400, Loss: 1.6112\n",
      "Epoch: 2/5, Step: 120/400, Loss: 1.6031\n",
      "Epoch: 2/5, Step: 130/400, Loss: 1.6190\n",
      "Epoch: 2/5, Step: 140/400, Loss: 1.6138\n",
      "Epoch: 2/5, Step: 150/400, Loss: 1.5940\n",
      "Epoch: 2/5, Step: 160/400, Loss: 1.5919\n",
      "Epoch: 2/5, Step: 170/400, Loss: 1.6144\n",
      "Epoch: 2/5, Step: 180/400, Loss: 1.6113\n",
      "Epoch: 2/5, Step: 190/400, Loss: 1.5997\n",
      "Epoch: 2/5, Step: 200/400, Loss: 1.6131\n",
      "Epoch: 2/5, Step: 210/400, Loss: 1.6037\n",
      "Epoch: 2/5, Step: 220/400, Loss: 1.5991\n",
      "Epoch: 2/5, Step: 230/400, Loss: 1.6238\n",
      "Epoch: 2/5, Step: 240/400, Loss: 1.6081\n",
      "Epoch: 2/5, Step: 250/400, Loss: 1.6221\n",
      "Epoch: 2/5, Step: 260/400, Loss: 1.6246\n",
      "Epoch: 2/5, Step: 270/400, Loss: 1.6073\n",
      "Epoch: 2/5, Step: 280/400, Loss: 1.6106\n",
      "Epoch: 2/5, Step: 290/400, Loss: 1.6105\n",
      "Epoch: 2/5, Step: 300/400, Loss: 1.6127\n",
      "Epoch: 2/5, Step: 310/400, Loss: 1.6109\n",
      "Epoch: 2/5, Step: 320/400, Loss: 1.6082\n",
      "Epoch: 2/5, Step: 330/400, Loss: 1.6052\n",
      "Epoch: 2/5, Step: 340/400, Loss: 1.6171\n",
      "Epoch: 2/5, Step: 350/400, Loss: 1.6111\n",
      "Epoch: 2/5, Step: 360/400, Loss: 1.6107\n",
      "Epoch: 2/5, Step: 370/400, Loss: 1.6100\n",
      "Epoch: 2/5, Step: 380/400, Loss: 1.6089\n",
      "Epoch: 2/5, Step: 390/400, Loss: 1.6119\n",
      "Epoch: 2/5, Step: 400/400, Loss: 1.6074\n",
      "Epoch: 3/5, Step: 10/400, Loss: 1.6058\n",
      "Epoch: 3/5, Step: 20/400, Loss: 1.6166\n",
      "Epoch: 3/5, Step: 30/400, Loss: 1.6119\n",
      "Epoch: 3/5, Step: 40/400, Loss: 1.6090\n",
      "Epoch: 3/5, Step: 50/400, Loss: 1.6000\n",
      "Epoch: 3/5, Step: 60/400, Loss: 1.6032\n",
      "Epoch: 3/5, Step: 70/400, Loss: 1.6135\n",
      "Epoch: 3/5, Step: 80/400, Loss: 1.6069\n",
      "Epoch: 3/5, Step: 90/400, Loss: 1.6105\n",
      "Epoch: 3/5, Step: 100/400, Loss: 1.6152\n",
      "Epoch: 3/5, Step: 110/400, Loss: 1.6057\n",
      "Epoch: 3/5, Step: 120/400, Loss: 1.6134\n",
      "Epoch: 3/5, Step: 130/400, Loss: 1.6160\n",
      "Epoch: 3/5, Step: 140/400, Loss: 1.6045\n",
      "Epoch: 3/5, Step: 150/400, Loss: 1.6111\n",
      "Epoch: 3/5, Step: 160/400, Loss: 1.6089\n",
      "Epoch: 3/5, Step: 170/400, Loss: 1.6066\n",
      "Epoch: 3/5, Step: 180/400, Loss: 1.6130\n",
      "Epoch: 3/5, Step: 190/400, Loss: 1.6089\n",
      "Epoch: 3/5, Step: 200/400, Loss: 1.6022\n",
      "Epoch: 3/5, Step: 210/400, Loss: 1.6124\n",
      "Epoch: 3/5, Step: 220/400, Loss: 1.6098\n",
      "Epoch: 3/5, Step: 230/400, Loss: 1.6152\n",
      "Epoch: 3/5, Step: 240/400, Loss: 1.6117\n",
      "Epoch: 3/5, Step: 250/400, Loss: 1.6065\n",
      "Epoch: 3/5, Step: 260/400, Loss: 1.6077\n",
      "Epoch: 3/5, Step: 270/400, Loss: 1.6115\n",
      "Epoch: 3/5, Step: 280/400, Loss: 1.6105\n",
      "Epoch: 3/5, Step: 290/400, Loss: 1.6061\n",
      "Epoch: 3/5, Step: 300/400, Loss: 1.6092\n",
      "Epoch: 3/5, Step: 310/400, Loss: 1.6090\n",
      "Epoch: 3/5, Step: 320/400, Loss: 1.5977\n",
      "Epoch: 3/5, Step: 330/400, Loss: 1.6085\n",
      "Epoch: 3/5, Step: 340/400, Loss: 1.6057\n",
      "Epoch: 3/5, Step: 350/400, Loss: 1.6061\n",
      "Epoch: 3/5, Step: 360/400, Loss: 1.6177\n",
      "Epoch: 3/5, Step: 370/400, Loss: 1.6092\n",
      "Epoch: 3/5, Step: 380/400, Loss: 1.6106\n",
      "Epoch: 3/5, Step: 390/400, Loss: 1.6111\n",
      "Epoch: 3/5, Step: 400/400, Loss: 1.6076\n",
      "Epoch: 4/5, Step: 10/400, Loss: 1.6127\n",
      "Epoch: 4/5, Step: 20/400, Loss: 1.6141\n",
      "Epoch: 4/5, Step: 30/400, Loss: 1.6095\n",
      "Epoch: 4/5, Step: 40/400, Loss: 1.6129\n",
      "Epoch: 4/5, Step: 50/400, Loss: 1.6091\n",
      "Epoch: 4/5, Step: 60/400, Loss: 1.6172\n",
      "Epoch: 4/5, Step: 70/400, Loss: 1.6103\n",
      "Epoch: 4/5, Step: 80/400, Loss: 1.6127\n",
      "Epoch: 4/5, Step: 90/400, Loss: 1.6088\n",
      "Epoch: 4/5, Step: 100/400, Loss: 1.6100\n",
      "Epoch: 4/5, Step: 110/400, Loss: 1.6074\n",
      "Epoch: 4/5, Step: 120/400, Loss: 1.6069\n",
      "Epoch: 4/5, Step: 130/400, Loss: 1.6105\n",
      "Epoch: 4/5, Step: 140/400, Loss: 1.6106\n",
      "Epoch: 4/5, Step: 150/400, Loss: 1.6107\n",
      "Epoch: 4/5, Step: 160/400, Loss: 1.6117\n",
      "Epoch: 4/5, Step: 170/400, Loss: 1.6085\n",
      "Epoch: 4/5, Step: 180/400, Loss: 1.6103\n",
      "Epoch: 4/5, Step: 190/400, Loss: 1.6048\n",
      "Epoch: 4/5, Step: 200/400, Loss: 1.6026\n",
      "Epoch: 4/5, Step: 210/400, Loss: 1.6139\n",
      "Epoch: 4/5, Step: 220/400, Loss: 1.6038\n",
      "Epoch: 4/5, Step: 230/400, Loss: 1.6083\n",
      "Epoch: 4/5, Step: 240/400, Loss: 1.6087\n",
      "Epoch: 4/5, Step: 250/400, Loss: 1.6073\n",
      "Epoch: 4/5, Step: 260/400, Loss: 1.6141\n",
      "Epoch: 4/5, Step: 270/400, Loss: 1.6171\n",
      "Epoch: 4/5, Step: 280/400, Loss: 1.6104\n",
      "Epoch: 4/5, Step: 290/400, Loss: 1.6077\n",
      "Epoch: 4/5, Step: 300/400, Loss: 1.6110\n",
      "Epoch: 4/5, Step: 310/400, Loss: 1.6071\n",
      "Epoch: 4/5, Step: 320/400, Loss: 1.6077\n",
      "Epoch: 4/5, Step: 330/400, Loss: 1.6067\n",
      "Epoch: 4/5, Step: 340/400, Loss: 1.6069\n",
      "Epoch: 4/5, Step: 350/400, Loss: 1.6081\n",
      "Epoch: 4/5, Step: 360/400, Loss: 1.6111\n",
      "Epoch: 4/5, Step: 370/400, Loss: 1.6100\n",
      "Epoch: 4/5, Step: 380/400, Loss: 1.6090\n",
      "Epoch: 4/5, Step: 390/400, Loss: 1.6099\n",
      "Epoch: 4/5, Step: 400/400, Loss: 1.6087\n",
      "Epoch: 5/5, Step: 10/400, Loss: 1.6158\n",
      "Epoch: 5/5, Step: 20/400, Loss: 1.6085\n",
      "Epoch: 5/5, Step: 30/400, Loss: 1.6079\n",
      "Epoch: 5/5, Step: 40/400, Loss: 1.6078\n",
      "Epoch: 5/5, Step: 50/400, Loss: 1.6049\n",
      "Epoch: 5/5, Step: 60/400, Loss: 1.6023\n",
      "Epoch: 5/5, Step: 70/400, Loss: 1.6127\n",
      "Epoch: 5/5, Step: 80/400, Loss: 1.6115\n",
      "Epoch: 5/5, Step: 90/400, Loss: 1.6131\n",
      "Epoch: 5/5, Step: 100/400, Loss: 1.6019\n",
      "Epoch: 5/5, Step: 110/400, Loss: 1.6125\n",
      "Epoch: 5/5, Step: 120/400, Loss: 1.6226\n",
      "Epoch: 5/5, Step: 130/400, Loss: 1.6090\n",
      "Epoch: 5/5, Step: 140/400, Loss: 1.6054\n",
      "Epoch: 5/5, Step: 150/400, Loss: 1.6149\n",
      "Epoch: 5/5, Step: 160/400, Loss: 1.6029\n",
      "Epoch: 5/5, Step: 170/400, Loss: 1.6042\n",
      "Epoch: 5/5, Step: 180/400, Loss: 1.6217\n",
      "Epoch: 5/5, Step: 190/400, Loss: 1.6103\n",
      "Epoch: 5/5, Step: 200/400, Loss: 1.6116\n",
      "Epoch: 5/5, Step: 210/400, Loss: 1.6127\n",
      "Epoch: 5/5, Step: 220/400, Loss: 1.6121\n",
      "Epoch: 5/5, Step: 230/400, Loss: 1.6100\n",
      "Epoch: 5/5, Step: 240/400, Loss: 1.6148\n",
      "Epoch: 5/5, Step: 250/400, Loss: 1.6112\n",
      "Epoch: 5/5, Step: 260/400, Loss: 1.6089\n",
      "Epoch: 5/5, Step: 270/400, Loss: 1.6083\n",
      "Epoch: 5/5, Step: 280/400, Loss: 1.6081\n",
      "Epoch: 5/5, Step: 290/400, Loss: 1.6055\n",
      "Epoch: 5/5, Step: 300/400, Loss: 1.6055\n",
      "Epoch: 5/5, Step: 310/400, Loss: 1.6116\n",
      "Epoch: 5/5, Step: 320/400, Loss: 1.6124\n",
      "Epoch: 5/5, Step: 330/400, Loss: 1.6118\n",
      "Epoch: 5/5, Step: 340/400, Loss: 1.6094\n",
      "Epoch: 5/5, Step: 350/400, Loss: 1.6096\n",
      "Epoch: 5/5, Step: 360/400, Loss: 1.6076\n",
      "Epoch: 5/5, Step: 370/400, Loss: 1.6091\n",
      "Epoch: 5/5, Step: 380/400, Loss: 1.6090\n",
      "Epoch: 5/5, Step: 390/400, Loss: 1.6069\n",
      "Epoch: 5/5, Step: 400/400, Loss: 1.6066\n",
      "\n",
      "\n",
      "finished training\n"
     ]
    }
   ],
   "source": [
    "n_total_steps = len(train_loader)\n",
    "for epoch in range(num_epochs):\n",
    "    #for 48 baches (48X100)\n",
    "    for i, (images, labels) in enumerate(train_loader):\n",
    "        images = images.to(device)\n",
    "        labels = labels.to(device)\n",
    "        \n",
    "        outputs = model(images)\n",
    "        loss = criterion(outputs, labels.long())\n",
    "        \n",
    "        optimizer.zero_grad()\n",
    "        loss.backward()\n",
    "        optimizer.step()\n",
    "        \n",
    "        if (i+1) % 10 == 0:\n",
    "            print(f'Epoch: {epoch+1}/{num_epochs}, Step: {i+1}/{n_total_steps}, Loss: {loss.item():.4f}')\n",
    "            \n",
    "print('\\n\\nfinished training')\n",
    "PATH = 'D:\\\\PROJEKAT_CLFO\\\\BW_256.pth'# pyTorch file extension - saves model\n",
    "torch.save(model.state_dict(), PATH)"
   ]
  },
  {
   "cell_type": "code",
   "execution_count": 39,
   "id": "d3ee6892",
   "metadata": {},
   "outputs": [],
   "source": [
    "classes = (0,1,2,3,4)"
   ]
  },
  {
   "cell_type": "markdown",
   "id": "597e071d",
   "metadata": {},
   "source": [
    "### Testing"
   ]
  },
  {
   "cell_type": "code",
   "execution_count": 40,
   "id": "5a037a26",
   "metadata": {},
   "outputs": [
    {
     "name": "stdout",
     "output_type": "stream",
     "text": [
      "Accuracy of the network: 19.166666666666668 %\n",
      "Accuracy of 0: 100.0 %\n",
      "Accuracy of 1: 0.0 %\n",
      "Accuracy of 2: 0.0 %\n",
      "Accuracy of 3: 0.0 %\n",
      "Accuracy of 4: 0.0 %\n"
     ]
    }
   ],
   "source": [
    "with torch.no_grad():\n",
    "    n_correct = 0\n",
    "    n_samples = 0\n",
    "    n_class_correct = [0 for i in range(5)]\n",
    "    n_class_samples = [0 for i in range(5)]\n",
    "    for images, labels in test_loader:\n",
    "        images = images.to(device)\n",
    "        labels = labels.to(device)\n",
    "        outputs = model(images)\n",
    "        # max returns (value ,index)\n",
    "        _, predicted = torch.max(outputs, 1)\n",
    "        n_samples += labels.size(0)\n",
    "        n_correct += (predicted == labels).sum().item()\n",
    "        \n",
    "        for i in range(batch_size):\n",
    "            label = labels[i].int()\n",
    "            pred = predicted[i].int()\n",
    "            if (label == pred):\n",
    "                n_class_correct[label] += 1\n",
    "            n_class_samples[label] += 1\n",
    "\n",
    "    acc = 100.0 * n_correct / n_samples\n",
    "    print(f'Accuracy of the network: {acc} %')\n",
    "\n",
    "    for i in range(5):\n",
    "        acc = 100.0 * n_class_correct[i] / n_class_samples[i]\n",
    "        print(f'Accuracy of {classes[i]}: {acc} %')"
   ]
  },
  {
   "cell_type": "markdown",
   "id": "cb06ded3",
   "metadata": {},
   "source": [
    "# CLFO_project\n",
    "\n",
    "- instaling Open CV library\n",
    "- creating functions for image resize, load, transform color, save with aim to better understand problem\n",
    "- selecting areas that are connected to illness levels\n",
    "- simulate ml algorithms to check mask importance\n",
    "- simulate deeep learning to check mask importance\n",
    "- problem - to much time for creating masks on 6000 images\n",
    "- selecting equal image sets for each level\n",
    "- asigning each image to corespodent level\n",
    "- princips of PyTorch functioning (gradients, forward & backward pass, linear regression, logistic regression, sigmoid functions, ReLU, softmax, cross entreopy, neural networks - nonlinearity)\n",
    "- 256x256 gray images (one chanel) 1200 for each class\n",
    "- creating feedForward neural network model on 256x256 gray images\n",
    "- creating convolutional neural network model on 256x256 gray images"
   ]
  }
 ],
 "metadata": {
  "kernelspec": {
   "display_name": "Python 3 (ipykernel)",
   "language": "python",
   "name": "python3"
  },
  "language_info": {
   "codemirror_mode": {
    "name": "ipython",
    "version": 3
   },
   "file_extension": ".py",
   "mimetype": "text/x-python",
   "name": "python",
   "nbconvert_exporter": "python",
   "pygments_lexer": "ipython3",
   "version": "3.8.10"
  }
 },
 "nbformat": 4,
 "nbformat_minor": 5
}
