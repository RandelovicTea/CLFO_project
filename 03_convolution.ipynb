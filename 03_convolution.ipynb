{
 "cells": [
  {
   "cell_type": "markdown",
   "id": "8a811aca",
   "metadata": {},
   "source": [
    "# CLFO\n",
    "## 03 Convolutional neural network"
   ]
  },
  {
   "cell_type": "markdown",
   "id": "e682bb4e",
   "metadata": {},
   "source": [
    "### Imports"
   ]
  },
  {
   "cell_type": "code",
   "execution_count": 1,
   "id": "f1d820a4",
   "metadata": {},
   "outputs": [
    {
     "data": {
      "text/plain": [
       "'c:\\\\users\\\\randj\\\\appdata\\\\local\\\\programs\\\\python\\\\python38\\\\python.exe'"
      ]
     },
     "execution_count": 1,
     "metadata": {},
     "output_type": "execute_result"
    }
   ],
   "source": [
    "import sys\n",
    "sys.executable"
   ]
  },
  {
   "cell_type": "code",
   "execution_count": 2,
   "id": "58409cca",
   "metadata": {
    "scrolled": true
   },
   "outputs": [
    {
     "name": "stderr",
     "output_type": "stream",
     "text": [
      "c:\\users\\randj\\appdata\\local\\programs\\python\\python38\\lib\\site-packages\\torchvision\\io\\image.py:11: UserWarning: Failed to load image Python extension: Could not find module 'C:\\Users\\randj\\AppData\\Local\\Programs\\Python\\Python38\\Lib\\site-packages\\torchvision\\image.pyd' (or one of its dependencies). Try using the full path with constructor syntax.\n",
      "  warn(f\"Failed to load image Python extension: {e}\")\n"
     ]
    }
   ],
   "source": [
    "import torch\n",
    "import torch.nn as nn\n",
    "import torch.nn.functional as F\n",
    "import torchvision\n",
    "import torchvision.transforms as transforms\n",
    "import matplotlib.pyplot as plt\n",
    "import numpy as np\n",
    "from sklearn.model_selection import train_test_split as split\n",
    "from torch.utils.data import DataLoader, Dataset"
   ]
  },
  {
   "cell_type": "markdown",
   "id": "730efd8f",
   "metadata": {},
   "source": [
    "### Loading prepared data"
   ]
  },
  {
   "cell_type": "code",
   "execution_count": 3,
   "id": "c0e33383",
   "metadata": {},
   "outputs": [
    {
     "name": "stdout",
     "output_type": "stream",
     "text": [
      "(array([0., 1., 2., 3., 4.]), array([1200, 1200, 1200, 1200, 1200], dtype=int64))\n"
     ]
    }
   ],
   "source": [
    "with open(\"tr2_grey_256.npy\",\"rb\")as f:\n",
    "    X=np.load(f)\n",
    "    y=np.load(f)\n",
    "    \n",
    "\n",
    "print(np.unique(y,return_counts=True))\n"
   ]
  },
  {
   "cell_type": "code",
   "execution_count": 4,
   "id": "9e9d0580",
   "metadata": {
    "scrolled": true
   },
   "outputs": [
    {
     "data": {
      "text/plain": [
       "(256, 256)"
      ]
     },
     "execution_count": 4,
     "metadata": {},
     "output_type": "execute_result"
    }
   ],
   "source": [
    "X[0].shape"
   ]
  },
  {
   "cell_type": "code",
   "execution_count": 5,
   "id": "cecb6cc9",
   "metadata": {
    "scrolled": true
   },
   "outputs": [
    {
     "data": {
      "text/plain": [
       "(6000, 1, 256, 256)"
      ]
     },
     "execution_count": 5,
     "metadata": {},
     "output_type": "execute_result"
    }
   ],
   "source": [
    "X = np.reshape(X, (6000,1,256,256))\n",
    "X.shape"
   ]
  },
  {
   "cell_type": "code",
   "execution_count": 6,
   "id": "f7d17773",
   "metadata": {},
   "outputs": [],
   "source": [
    "#X = X.astype('float32')\n",
    "#y = y.astype('float32')"
   ]
  },
  {
   "cell_type": "markdown",
   "id": "53e50eaa",
   "metadata": {},
   "source": [
    "### Model parameters"
   ]
  },
  {
   "cell_type": "code",
   "execution_count": 23,
   "id": "f23e8986",
   "metadata": {},
   "outputs": [],
   "source": [
    "input_size=X.shape[2]*X.shape[3]\n",
    "num_classes=5\n",
    "\n",
    "test_size=0.2\n",
    "batch_size=12\n",
    "learning_rate=0.001\n",
    "hidden_size=100\n",
    "num_epochs=1"
   ]
  },
  {
   "cell_type": "markdown",
   "id": "63ff0b15",
   "metadata": {},
   "source": [
    "### Spliting train and test size"
   ]
  },
  {
   "cell_type": "code",
   "execution_count": 8,
   "id": "574e206b",
   "metadata": {},
   "outputs": [],
   "source": [
    "X_train, X_test, y_train, y_test = split(X, y, test_size = test_size, random_state = 7)"
   ]
  },
  {
   "cell_type": "code",
   "execution_count": 9,
   "id": "7d7ef9d5",
   "metadata": {},
   "outputs": [
    {
     "data": {
      "text/plain": [
       "(array([0., 1., 2., 3., 4.]), array([230, 224, 253, 248, 245], dtype=int64))"
      ]
     },
     "execution_count": 9,
     "metadata": {},
     "output_type": "execute_result"
    }
   ],
   "source": [
    "np.unique(y_test, return_counts = True)"
   ]
  },
  {
   "cell_type": "markdown",
   "id": "87cb9c4f",
   "metadata": {},
   "source": [
    "### Transform two numpy arrays into one torch Data instance"
   ]
  },
  {
   "cell_type": "code",
   "execution_count": 10,
   "id": "f8b5ce6e",
   "metadata": {},
   "outputs": [],
   "source": [
    "class Data(Dataset):\n",
    "    def __init__(self, X, y):\n",
    "        self.x=torch.from_numpy(X)\n",
    "        self.y=torch.from_numpy(y)\n",
    "        self.samples=X.shape[0]\n",
    "        self.features=X.shape[2]*X.shape[3]\n",
    "    \n",
    "    def __getitem__(self, index):\n",
    "        return self.x[index], self.y[index]\n",
    "    \n",
    "    def __len__(self):\n",
    "        return self.samples"
   ]
  },
  {
   "cell_type": "markdown",
   "id": "63165861",
   "metadata": {},
   "source": [
    "### Creating data instance"
   ]
  },
  {
   "cell_type": "code",
   "execution_count": 11,
   "id": "2d489c96",
   "metadata": {},
   "outputs": [],
   "source": [
    "train_data=Data(X_train, y_train)\n",
    "test_data=Data(X_test,y_test)"
   ]
  },
  {
   "cell_type": "code",
   "execution_count": 12,
   "id": "6b137ef4",
   "metadata": {},
   "outputs": [
    {
     "data": {
      "text/plain": [
       "(4800, 1200)"
      ]
     },
     "execution_count": 12,
     "metadata": {},
     "output_type": "execute_result"
    }
   ],
   "source": [
    "train_data.samples, test_data.samples"
   ]
  },
  {
   "cell_type": "code",
   "execution_count": 13,
   "id": "5c44d102",
   "metadata": {},
   "outputs": [
    {
     "data": {
      "text/plain": [
       "torch.Size([1, 256, 256])"
      ]
     },
     "execution_count": 13,
     "metadata": {},
     "output_type": "execute_result"
    }
   ],
   "source": [
    "train_data[0][0].size()"
   ]
  },
  {
   "cell_type": "code",
   "execution_count": 14,
   "id": "0e466f14",
   "metadata": {},
   "outputs": [
    {
     "data": {
      "text/plain": [
       "65536"
      ]
     },
     "execution_count": 14,
     "metadata": {},
     "output_type": "execute_result"
    }
   ],
   "source": [
    "train_data.features"
   ]
  },
  {
   "cell_type": "markdown",
   "id": "09a0d956",
   "metadata": {},
   "source": [
    "### Devide train and test data in 100 samples batches"
   ]
  },
  {
   "cell_type": "code",
   "execution_count": 15,
   "id": "5a7b3ac9",
   "metadata": {},
   "outputs": [],
   "source": [
    "train_loader = torch.utils.data.DataLoader(dataset = train_data, batch_size = batch_size, shuffle=True)\n",
    "test_loader = torch.utils.data.DataLoader(dataset = test_data, batch_size = batch_size)"
   ]
  },
  {
   "cell_type": "code",
   "execution_count": 16,
   "id": "a9c4e023",
   "metadata": {},
   "outputs": [
    {
     "data": {
      "text/plain": [
       "400"
      ]
     },
     "execution_count": 16,
     "metadata": {},
     "output_type": "execute_result"
    }
   ],
   "source": [
    "len(train_loader)"
   ]
  },
  {
   "cell_type": "markdown",
   "id": "557afb57",
   "metadata": {},
   "source": [
    "### Example"
   ]
  },
  {
   "cell_type": "code",
   "execution_count": 17,
   "id": "4f9a437c",
   "metadata": {
    "scrolled": false
   },
   "outputs": [
    {
     "name": "stdout",
     "output_type": "stream",
     "text": [
      "torch.Size([12, 1, 256, 256]) tensor([4., 1., 3., 0., 0., 2., 1., 1., 1., 1., 4., 0.], dtype=torch.float64)\n"
     ]
    }
   ],
   "source": [
    "examples=iter(train_loader)\n",
    "samples, labels = examples.next()\n",
    "print(samples.shape, labels)"
   ]
  },
  {
   "cell_type": "markdown",
   "id": "0baeac88",
   "metadata": {},
   "source": [
    "### Allow GPU usage"
   ]
  },
  {
   "cell_type": "code",
   "execution_count": 18,
   "id": "7a72ea3b",
   "metadata": {},
   "outputs": [],
   "source": [
    "device = torch.device('cuda' if torch.cuda.is_available() else 'cpu')"
   ]
  },
  {
   "cell_type": "code",
   "execution_count": 19,
   "id": "e57ea5da",
   "metadata": {},
   "outputs": [
    {
     "data": {
      "image/png": "[encoded data removed]",
      "text/plain": [
       "<Figure size 432x288 with 6 Axes>"
      ]
     },
     "metadata": {},
     "output_type": "display_data"
    }
   ],
   "source": [
    "for i in range(6):\n",
    "    ax = plt.subplot(2,3,i+1, title = f'{labels[i]}') \n",
    "    ax.set_xticks([])\n",
    "    ax.set_yticks([])\n",
    "    plt.imshow(samples[i][0], cmap='gray')\n",
    "plt.show()"
   ]
  },
  {
   "cell_type": "markdown",
   "id": "1973458d",
   "metadata": {},
   "source": [
    "<img src='convolution.png'>"
   ]
  },
  {
   "cell_type": "markdown",
   "id": "d1c60924",
   "metadata": {},
   "source": [
    "<img src='maxpooling.png'>"
   ]
  },
  {
   "cell_type": "code",
   "execution_count": 35,
   "id": "9de6f6d2",
   "metadata": {},
   "outputs": [],
   "source": [
    "learning_rate = 0.01\n",
    "num_epochs = 1"
   ]
  },
  {
   "cell_type": "code",
   "execution_count": 36,
   "id": "2b5926a2",
   "metadata": {},
   "outputs": [],
   "source": [
    "# convolution_1 -> 252 (sharpen image and reduce dimension by kernel_size - 1)\n",
    "# max_pool -> 126 (square 2X2 of 4 pixelx transforms into 1 by selecting one with highest value)\n",
    "# convolution_2 -> 122\n",
    "# max_pool -> 61\n",
    "class ConvolutionalNetwork(nn.Module):\n",
    "    def __init__(self):\n",
    "        super().__init__()\n",
    "        self.convolution1 = nn.Conv2d(1,6,3) # number of color chanels, output nodes, kernel size\n",
    "        self.pool = nn.MaxPool2d(2) # kernel size (look sketch above), second parameter is stride (default value is kernel size)\n",
    "        self.convolution2 = nn.Conv2d(6,16,4) # input size must be number of hidden layers (6)\n",
    "        self.fc1 = nn.Linear(16*62*62, 120) # 16 hidden layers x 61X61 image -> flatten to 16*61*61, 120 is optional\n",
    "        self.fc2 = nn.Linear(120, 84) # 84 is optional\n",
    "        self.fc3 = nn.Linear(84, 5) # we have 5 classes\n",
    "    \n",
    "    def forward(self, x):\n",
    "        x = self.pool(F.relu(self.convolution1(x)))\n",
    "        x = self.pool(F.relu(self.convolution2(x)))\n",
    "        x = x.view(-1, 16 * 62 * 62)          \n",
    "        x = F.relu(self.fc1(x))            \n",
    "        x = F.relu(self.fc2(x))               \n",
    "        x = self.fc3(x)                       \n",
    "        return x"
   ]
  },
  {
   "cell_type": "markdown",
   "id": "8dff8557",
   "metadata": {},
   "source": [
    "### 3. Cross-Entropy - criterion for optimization\n",
    "\n",
    "Cross-entropy is calculated for all model at once\n",
    "\n",
    "Training labels are presented as:\n",
    "Y = [1,0,0]\n",
    "\n",
    "Probabilities calculated by Softmax:\n",
    "P = [0.7,0.1,0.2]\n",
    "\n",
    "Cross-Entropy \n",
    "\\begin{align}\n",
    "D(P,Y)=-\\frac{1}{N}\\sum Y_i\\cdot log(P_i) \n",
    "\\end{align}\n",
    "\n",
    "Bigger h for x > Softmax values closer to 1 > log(Pi) closer to zero "
   ]
  },
  {
   "cell_type": "code",
   "execution_count": 37,
   "id": "9366b26d",
   "metadata": {},
   "outputs": [],
   "source": [
    "model = ConvolutionalNetwork().to(device)\n",
    "model.double()\n",
    "criterion = nn.CrossEntropyLoss()\n",
    "\n",
    "# SGD stochastig gradiant descent\n",
    "optimizer = torch.optim.SGD(model.parameters(), lr = learning_rate)"
   ]
  },
  {
   "cell_type": "markdown",
   "id": "b04e5340",
   "metadata": {},
   "source": [
    "### training"
   ]
  },
  {
   "cell_type": "code",
   "execution_count": 38,
   "id": "a530a2b8",
   "metadata": {},
   "outputs": [
    {
     "name": "stdout",
     "output_type": "stream",
     "text": [
      "Epoch: 1/1, Step: 10/400, Loss: 1.5896\n",
      "Epoch: 1/1, Step: 20/400, Loss: 1.6381\n",
      "Epoch: 1/1, Step: 30/400, Loss: 1.6235\n",
      "Epoch: 1/1, Step: 40/400, Loss: 1.6321\n",
      "Epoch: 1/1, Step: 50/400, Loss: 1.6144\n",
      "Epoch: 1/1, Step: 60/400, Loss: 1.5981\n",
      "Epoch: 1/1, Step: 70/400, Loss: 1.5861\n",
      "Epoch: 1/1, Step: 80/400, Loss: 1.6319\n",
      "Epoch: 1/1, Step: 90/400, Loss: 1.6141\n",
      "Epoch: 1/1, Step: 100/400, Loss: 1.6101\n",
      "Epoch: 1/1, Step: 110/400, Loss: 1.6005\n",
      "Epoch: 1/1, Step: 120/400, Loss: 1.5989\n",
      "Epoch: 1/1, Step: 130/400, Loss: 1.6157\n",
      "Epoch: 1/1, Step: 140/400, Loss: 1.6266\n",
      "Epoch: 1/1, Step: 150/400, Loss: 1.6029\n",
      "Epoch: 1/1, Step: 160/400, Loss: 1.6117\n",
      "Epoch: 1/1, Step: 170/400, Loss: 1.5983\n",
      "Epoch: 1/1, Step: 180/400, Loss: 1.6145\n",
      "Epoch: 1/1, Step: 190/400, Loss: 1.6182\n",
      "Epoch: 1/1, Step: 200/400, Loss: 1.5976\n",
      "Epoch: 1/1, Step: 210/400, Loss: 1.6107\n",
      "Epoch: 1/1, Step: 220/400, Loss: 1.6133\n",
      "Epoch: 1/1, Step: 230/400, Loss: 1.6058\n",
      "Epoch: 1/1, Step: 240/400, Loss: 1.6083\n",
      "Epoch: 1/1, Step: 250/400, Loss: 1.6167\n",
      "Epoch: 1/1, Step: 260/400, Loss: 1.6112\n",
      "Epoch: 1/1, Step: 270/400, Loss: 1.6119\n",
      "Epoch: 1/1, Step: 280/400, Loss: 1.6118\n",
      "Epoch: 1/1, Step: 290/400, Loss: 1.6159\n",
      "Epoch: 1/1, Step: 300/400, Loss: 1.6089\n",
      "Epoch: 1/1, Step: 310/400, Loss: 1.6059\n",
      "Epoch: 1/1, Step: 320/400, Loss: 1.6182\n",
      "Epoch: 1/1, Step: 330/400, Loss: 1.6145\n",
      "Epoch: 1/1, Step: 340/400, Loss: 1.6191\n",
      "Epoch: 1/1, Step: 350/400, Loss: 1.6220\n",
      "Epoch: 1/1, Step: 360/400, Loss: 1.6117\n",
      "Epoch: 1/1, Step: 370/400, Loss: 1.6071\n",
      "Epoch: 1/1, Step: 380/400, Loss: 1.6037\n",
      "Epoch: 1/1, Step: 390/400, Loss: 1.5993\n",
      "Epoch: 1/1, Step: 400/400, Loss: 1.6040\n",
      "\n",
      "\n",
      "finished training\n"
     ]
    },
    {
     "ename": "NameError",
     "evalue": "name 'path' is not defined",
     "output_type": "error",
     "traceback": [
      "\u001b[1;31m---------------------------------------------------------------------------\u001b[0m",
      "\u001b[1;31mNameError\u001b[0m                                 Traceback (most recent call last)",
      "\u001b[1;32m~\\AppData\\Local\\Temp/ipykernel_6156/2234223021.py\u001b[0m in \u001b[0;36m<module>\u001b[1;34m\u001b[0m\n\u001b[0;32m     18\u001b[0m \u001b[0mprint\u001b[0m\u001b[1;33m(\u001b[0m\u001b[1;34m'\\n\\nfinished training'\u001b[0m\u001b[1;33m)\u001b[0m\u001b[1;33m\u001b[0m\u001b[1;33m\u001b[0m\u001b[0m\n\u001b[0;32m     19\u001b[0m \u001b[0mPATH\u001b[0m \u001b[1;33m=\u001b[0m \u001b[1;34m'./BW_256.pth'\u001b[0m\u001b[1;31m# pyTorch file extension - saves model\u001b[0m\u001b[1;33m\u001b[0m\u001b[1;33m\u001b[0m\u001b[0m\n\u001b[1;32m---> 20\u001b[1;33m \u001b[0mtorch\u001b[0m\u001b[1;33m.\u001b[0m\u001b[0msave\u001b[0m\u001b[1;33m(\u001b[0m\u001b[0mmodel\u001b[0m\u001b[1;33m.\u001b[0m\u001b[0mstate_dict\u001b[0m\u001b[1;33m(\u001b[0m\u001b[1;33m)\u001b[0m\u001b[1;33m,\u001b[0m \u001b[0mpath\u001b[0m\u001b[1;33m)\u001b[0m\u001b[1;33m\u001b[0m\u001b[1;33m\u001b[0m\u001b[0m\n\u001b[0m",
      "\u001b[1;31mNameError\u001b[0m: name 'path' is not defined"
     ]
    }
   ],
   "source": [
    "n_total_steps = len(train_loader)\n",
    "for epoch in range(num_epochs):\n",
    "    #for 48 baches (48X100)\n",
    "    for i, (images, labels) in enumerate(train_loader):\n",
    "        images = images.to(device)\n",
    "        labels = labels.to(device)\n",
    "        \n",
    "        outputs = model(images)\n",
    "        loss = criterion(outputs, labels.long())\n",
    "        \n",
    "        optimizer.zero_grad()\n",
    "        loss.backward()\n",
    "        optimizer.step()\n",
    "        \n",
    "        if (i+1) % 10 == 0:\n",
    "            print(f'Epoch: {epoch+1}/{num_epochs}, Step: {i+1}/{n_total_steps}, Loss: {loss.item():.4f}')\n",
    "            \n",
    "print('\\n\\nfinished training')\n",
    "PATH = './BW_256.pth'# pyTorch file extension - saves model\n",
    "torch.save(model.state_dict(), PATH)"
   ]
  },
  {
   "cell_type": "code",
   "execution_count": 39,
   "id": "e52e0c26",
   "metadata": {},
   "outputs": [],
   "source": [
    "PATH = './BW_256.pth'# pyTorch file extension - saves model\n",
    "torch.save(model.state_dict(), PATH)"
   ]
  },
  {
   "cell_type": "code",
   "execution_count": null,
   "id": "702e22aa",
   "metadata": {},
   "outputs": [],
   "source": []
  }
 ],
 "metadata": {
  "kernelspec": {
   "display_name": "Python 3 (ipykernel)",
   "language": "python",
   "name": "python3"
  },
  "language_info": {
   "codemirror_mode": {
    "name": "ipython",
    "version": 3
   },
   "file_extension": ".py",
   "mimetype": "text/x-python",
   "name": "python",
   "nbconvert_exporter": "python",
   "pygments_lexer": "ipython3",
   "version": "3.8.10"
  }
 },
 "nbformat": 4,
 "nbformat_minor": 5
}
