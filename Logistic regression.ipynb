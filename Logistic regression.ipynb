{
 "cells": [
  {
   "cell_type": "markdown",
   "id": "2c81fad1",
   "metadata": {},
   "source": [
    "## Logistical regression"
   ]
  },
  {
   "cell_type": "code",
   "execution_count": 82,
   "id": "595e9f7b",
   "metadata": {},
   "outputs": [],
   "source": [
    "import torch\n",
    "import numpy as np\n",
    "import torch.nn as nn\n",
    "from sklearn import datasets\n",
    "from matplotlib import pyplot as plt\n",
    "from sklearn.model_selection import train_test_split\n",
    "from sklearn.preprocessing import StandardScaler"
   ]
  },
  {
   "cell_type": "markdown",
   "id": "529a23d1",
   "metadata": {},
   "source": [
    "jedostavan primer"
   ]
  },
  {
   "cell_type": "code",
   "execution_count": 46,
   "id": "ad38a59f",
   "metadata": {},
   "outputs": [],
   "source": [
    "X=np.arange(0,101,4)"
   ]
  },
  {
   "cell_type": "code",
   "execution_count": 47,
   "id": "595e71de",
   "metadata": {},
   "outputs": [
    {
     "data": {
      "text/plain": [
       "array([  0,   4,   8,  12,  16,  20,  24,  28,  32,  36,  40,  44,  48,\n",
       "        52,  56,  60,  64,  68,  72,  76,  80,  84,  88,  92,  96, 100])"
      ]
     },
     "execution_count": 47,
     "metadata": {},
     "output_type": "execute_result"
    }
   ],
   "source": [
    "X"
   ]
  },
  {
   "cell_type": "code",
   "execution_count": 48,
   "id": "b36ff220",
   "metadata": {},
   "outputs": [],
   "source": [
    "Y=np.where(X>50,1,0)"
   ]
  },
  {
   "cell_type": "code",
   "execution_count": 73,
   "id": "46ae17d2",
   "metadata": {},
   "outputs": [],
   "source": [
    "Y[16]=0"
   ]
  },
  {
   "cell_type": "code",
   "execution_count": 74,
   "id": "c767310b",
   "metadata": {},
   "outputs": [
    {
     "data": {
      "text/plain": [
       "array([0, 0, 0, 0, 0, 0, 0, 0, 0, 0, 0, 0, 0, 1, 1, 1, 0, 1, 1, 1, 1, 1,\n",
       "       1, 1, 1, 1])"
      ]
     },
     "execution_count": 74,
     "metadata": {},
     "output_type": "execute_result"
    }
   ],
   "source": [
    "Y"
   ]
  },
  {
   "cell_type": "code",
   "execution_count": 75,
   "id": "f0e4a7ea",
   "metadata": {},
   "outputs": [],
   "source": [
    "w=0\n",
    "b=0\n",
    "#y=wx+b"
   ]
  },
  {
   "cell_type": "code",
   "execution_count": 76,
   "id": "f6bb379e",
   "metadata": {},
   "outputs": [],
   "source": [
    "def forward (X,w,b):\n",
    "    H=w*X+b\n",
    "    return H"
   ]
  },
  {
   "cell_type": "code",
   "execution_count": 77,
   "id": "465f75a9",
   "metadata": {},
   "outputs": [],
   "source": [
    "def sigmoid (H):\n",
    "    S=1/(1+np.exp(-H))\n",
    "    return S"
   ]
  },
  {
   "cell_type": "code",
   "execution_count": 78,
   "id": "93b0201e",
   "metadata": {},
   "outputs": [],
   "source": [
    "def loss(Y,S):\n",
    "    L=((S-Y)**2).mean() \n",
    "    return L    "
   ]
  },
  {
   "cell_type": "code",
   "execution_count": 79,
   "id": "608ad1c2",
   "metadata": {},
   "outputs": [],
   "source": [
    "def gradient(X,Y,S):\n",
    "    dw,db=(X*(S-Y)).mean(),(S-Y).mean()\n",
    "    return dw,db"
   ]
  },
  {
   "cell_type": "code",
   "execution_count": 80,
   "id": "c35dfba2",
   "metadata": {},
   "outputs": [],
   "source": [
    "learning_rate=0.01\n",
    "num_iters=10000"
   ]
  },
  {
   "cell_type": "code",
   "execution_count": 81,
   "id": "1d514746",
   "metadata": {
    "collapsed": true
   },
   "outputs": [
    {
     "name": "stdout",
     "output_type": "stream",
     "text": [
      "epoch: 1, loss=0.2500, b=-0.0004, w0.1054\n",
      "epoch: 101, loss=0.4731, b=-0.2296, w0.1239\n",
      "epoch: 201, loss=0.2114, b=-0.4485, w0.1135\n",
      "epoch: 301, loss=0.2052, b=-0.6615, w0.1296\n",
      "epoch: 401, loss=0.3759, b=-0.8729, w-0.0077\n",
      "epoch: 501, loss=0.4506, b=-1.0655, w0.1479\n",
      "epoch: 601, loss=0.3832, b=-1.2530, w0.0233\n",
      "epoch: 701, loss=0.3763, b=-1.4303, w0.0278\n",
      "epoch: 801, loss=0.3695, b=-1.5993, w0.0317\n",
      "epoch: 901, loss=0.3626, b=-1.7614, w0.0349\n",
      "epoch: 1001, loss=0.3555, b=-1.9176, w0.0375\n",
      "epoch: 1101, loss=0.3486, b=-2.0687, w0.0398\n",
      "epoch: 1201, loss=0.3417, b=-2.2151, w0.0419\n",
      "epoch: 1301, loss=0.3347, b=-2.3582, w0.0436\n",
      "epoch: 1401, loss=0.3293, b=-2.4966, w0.0464\n",
      "epoch: 1501, loss=0.3222, b=-2.6317, w0.0477\n",
      "epoch: 1601, loss=0.3142, b=-2.7632, w0.0481\n",
      "epoch: 1701, loss=0.1202, b=-2.8913, w0.1548\n",
      "epoch: 1801, loss=0.1571, b=-3.0170, w0.1943\n",
      "epoch: 1901, loss=0.3887, b=-3.1359, w0.1665\n",
      "epoch: 2001, loss=0.1134, b=-3.2478, w0.1561\n",
      "epoch: 2101, loss=0.2520, b=-3.3582, w0.0398\n",
      "epoch: 2201, loss=0.1933, b=-3.4644, w0.0282\n",
      "epoch: 2301, loss=0.3442, b=-3.5640, w0.1180\n",
      "epoch: 2401, loss=0.1475, b=-3.6695, w0.0309\n",
      "epoch: 2501, loss=0.2314, b=-3.7776, w0.2614\n",
      "epoch: 2601, loss=0.3496, b=-3.8892, w0.1437\n",
      "epoch: 2701, loss=0.1488, b=-3.9970, w0.0394\n",
      "epoch: 2801, loss=0.2246, b=-4.0970, w0.2618\n",
      "epoch: 2901, loss=0.3260, b=-4.1996, w0.1288\n",
      "epoch: 3001, loss=0.1282, b=-4.2957, w0.0471\n",
      "epoch: 3101, loss=0.1500, b=-4.3710, w0.2111\n",
      "epoch: 3201, loss=0.1040, b=-4.4390, w0.0529\n",
      "epoch: 3301, loss=0.0651, b=-4.4997, w0.0760\n",
      "epoch: 3401, loss=0.1101, b=-4.5592, w0.0547\n",
      "epoch: 3501, loss=0.0714, b=-4.6175, w0.1255\n",
      "epoch: 3601, loss=0.2766, b=-4.6770, w0.1039\n",
      "epoch: 3701, loss=0.0887, b=-4.7294, w0.0626\n",
      "epoch: 3801, loss=0.1164, b=-4.7791, w0.1853\n",
      "epoch: 3901, loss=0.1557, b=-4.8330, w0.2216\n",
      "epoch: 4001, loss=0.0737, b=-4.8835, w0.1345\n",
      "epoch: 4101, loss=0.1280, b=-4.9288, w0.1984\n",
      "epoch: 4201, loss=0.0614, b=-4.9767, w0.0865\n",
      "epoch: 4301, loss=0.0610, b=-5.0199, w0.1100\n",
      "epoch: 4401, loss=0.1040, b=-5.0621, w0.1759\n",
      "epoch: 4501, loss=0.0993, b=-5.1076, w0.1713\n",
      "epoch: 4601, loss=0.1327, b=-5.1540, w0.2054\n",
      "epoch: 4701, loss=0.0607, b=-5.2004, w0.1138\n",
      "epoch: 4801, loss=0.0644, b=-5.2454, w0.1240\n",
      "epoch: 4901, loss=0.1021, b=-5.2892, w0.1767\n",
      "epoch: 5001, loss=0.1227, b=-5.3341, w0.1980\n",
      "epoch: 5101, loss=0.1182, b=-5.3778, w0.1943\n",
      "epoch: 5201, loss=0.1172, b=-5.4206, w0.1938\n",
      "epoch: 5301, loss=0.1093, b=-5.4628, w0.1863\n",
      "epoch: 5401, loss=0.1139, b=-5.5042, w0.1914\n",
      "epoch: 5501, loss=0.1113, b=-5.5452, w0.1892\n",
      "epoch: 5601, loss=0.1101, b=-5.5855, w0.1884\n",
      "epoch: 5701, loss=0.1087, b=-5.6254, w0.1875\n",
      "epoch: 5801, loss=0.1073, b=-5.6648, w0.1865\n",
      "epoch: 5901, loss=0.1058, b=-5.7038, w0.1854\n",
      "epoch: 6001, loss=0.1040, b=-5.7422, w0.1840\n",
      "epoch: 6101, loss=0.1021, b=-5.7802, w0.1824\n",
      "epoch: 6201, loss=0.0998, b=-5.8178, w0.1804\n",
      "epoch: 6301, loss=0.0970, b=-5.8549, w0.1778\n",
      "epoch: 6401, loss=0.0934, b=-5.8915, w0.1743\n",
      "epoch: 6501, loss=0.0905, b=-5.9276, w0.1714\n",
      "epoch: 6601, loss=0.0896, b=-5.9630, w0.1709\n",
      "epoch: 6701, loss=0.0892, b=-5.9977, w0.1708\n",
      "epoch: 6801, loss=0.0888, b=-6.0318, w0.1707\n",
      "epoch: 6901, loss=0.0883, b=-6.0653, w0.1706\n",
      "epoch: 7001, loss=0.0879, b=-6.0982, w0.1705\n",
      "epoch: 7101, loss=0.0875, b=-6.1304, w0.1704\n",
      "epoch: 7201, loss=0.0871, b=-6.1621, w0.1703\n",
      "epoch: 7301, loss=0.0867, b=-6.1933, w0.1702\n",
      "epoch: 7401, loss=0.0863, b=-6.2238, w0.1701\n",
      "epoch: 7501, loss=0.0859, b=-6.2539, w0.1700\n",
      "epoch: 7601, loss=0.0855, b=-6.2834, w0.1699\n",
      "epoch: 7701, loss=0.0851, b=-6.3123, w0.1698\n",
      "epoch: 7801, loss=0.0847, b=-6.3408, w0.1697\n",
      "epoch: 7901, loss=0.0843, b=-6.3688, w0.1695\n",
      "epoch: 8001, loss=0.0839, b=-6.3962, w0.1694\n",
      "epoch: 8101, loss=0.0835, b=-6.4232, w0.1693\n",
      "epoch: 8201, loss=0.0831, b=-6.4498, w0.1692\n",
      "epoch: 8301, loss=0.0827, b=-6.4758, w0.1690\n",
      "epoch: 8401, loss=0.0823, b=-6.5015, w0.1689\n",
      "epoch: 8501, loss=0.0820, b=-6.5266, w0.1688\n",
      "epoch: 8601, loss=0.0816, b=-6.5514, w0.1686\n",
      "epoch: 8701, loss=0.0812, b=-6.5757, w0.1685\n",
      "epoch: 8801, loss=0.0809, b=-6.5996, w0.1684\n",
      "epoch: 8901, loss=0.0805, b=-6.6231, w0.1682\n",
      "epoch: 9001, loss=0.0801, b=-6.6462, w0.1681\n",
      "epoch: 9101, loss=0.0798, b=-6.6689, w0.1679\n",
      "epoch: 9201, loss=0.0794, b=-6.6912, w0.1678\n",
      "epoch: 9301, loss=0.0791, b=-6.7132, w0.1676\n",
      "epoch: 9401, loss=0.0787, b=-6.7347, w0.1675\n",
      "epoch: 9501, loss=0.0784, b=-6.7559, w0.1673\n",
      "epoch: 9601, loss=0.0780, b=-6.7768, w0.1672\n",
      "epoch: 9701, loss=0.0777, b=-6.7973, w0.1670\n",
      "epoch: 9801, loss=0.0773, b=-6.8175, w0.1669\n",
      "epoch: 9901, loss=0.0770, b=-6.8373, w0.1667\n"
     ]
    }
   ],
   "source": [
    "for epoch in range(num_iters):\n",
    "    H=forward(X,w,b)\n",
    "    S=sigmoid(H)\n",
    "    L=loss(Y,S)\n",
    "    dw,db=gradient(X,Y,S)\n",
    "    w-=learning_rate*dw\n",
    "    b-=learning_rate*db\n",
    "    if epoch%100==0:\n",
    "        print(f\"epoch: {epoch+1}, loss={L:.4f}, b={b:.4f}, w{w:.4f}\") "
   ]
  },
  {
   "cell_type": "code",
   "execution_count": 83,
   "id": "42bfee7d",
   "metadata": {},
   "outputs": [
    {
     "data": {
      "image/png": "[encoded data removed]",
      "text/plain": [
       "<Figure size 432x288 with 1 Axes>"
      ]
     },
     "metadata": {
      "needs_background": "light"
     },
     "output_type": "display_data"
    }
   ],
   "source": [
    "plt.scatter(X,Y,color=(0.5,0,0.8))\n",
    "plt.plot(X,S,\"b\")\n",
    "plt.plot(X,H,\"r\")\n",
    "plt.show()"
   ]
  },
  {
   "cell_type": "markdown",
   "id": "828c39e4",
   "metadata": {},
   "source": [
    "# Real data"
   ]
  },
  {
   "cell_type": "code",
   "execution_count": 83,
   "id": "2b5a3759",
   "metadata": {},
   "outputs": [],
   "source": [
    "bc=datasets.load_breast_cancer()"
   ]
  },
  {
   "cell_type": "code",
   "execution_count": 26,
   "id": "a25ea9b2",
   "metadata": {
    "collapsed": true
   },
   "outputs": [
    {
     "data": {
      "text/plain": [
       "{'data': array([[1.799e+01, 1.038e+01, 1.228e+02, ..., 2.654e-01, 4.601e-01,\n",
       "         1.189e-01],\n",
       "        [2.057e+01, 1.777e+01, 1.329e+02, ..., 1.860e-01, 2.750e-01,\n",
       "         8.902e-02],\n",
       "        [1.969e+01, 2.125e+01, 1.300e+02, ..., 2.430e-01, 3.613e-01,\n",
       "         8.758e-02],\n",
       "        ...,\n",
       "        [1.660e+01, 2.808e+01, 1.083e+02, ..., 1.418e-01, 2.218e-01,\n",
       "         7.820e-02],\n",
       "        [2.060e+01, 2.933e+01, 1.401e+02, ..., 2.650e-01, 4.087e-01,\n",
       "         1.240e-01],\n",
       "        [7.760e+00, 2.454e+01, 4.792e+01, ..., 0.000e+00, 2.871e-01,\n",
       "         7.039e-02]]),\n",
       " 'target': array([0, 0, 0, 0, 0, 0, 0, 0, 0, 0, 0, 0, 0, 0, 0, 0, 0, 0, 0, 1, 1, 1,\n",
       "        0, 0, 0, 0, 0, 0, 0, 0, 0, 0, 0, 0, 0, 0, 0, 1, 0, 0, 0, 0, 0, 0,\n",
       "        0, 0, 1, 0, 1, 1, 1, 1, 1, 0, 0, 1, 0, 0, 1, 1, 1, 1, 0, 1, 0, 0,\n",
       "        1, 1, 1, 1, 0, 1, 0, 0, 1, 0, 1, 0, 0, 1, 1, 1, 0, 0, 1, 0, 0, 0,\n",
       "        1, 1, 1, 0, 1, 1, 0, 0, 1, 1, 1, 0, 0, 1, 1, 1, 1, 0, 1, 1, 0, 1,\n",
       "        1, 1, 1, 1, 1, 1, 1, 0, 0, 0, 1, 0, 0, 1, 1, 1, 0, 0, 1, 0, 1, 0,\n",
       "        0, 1, 0, 0, 1, 1, 0, 1, 1, 0, 1, 1, 1, 1, 0, 1, 1, 1, 1, 1, 1, 1,\n",
       "        1, 1, 0, 1, 1, 1, 1, 0, 0, 1, 0, 1, 1, 0, 0, 1, 1, 0, 0, 1, 1, 1,\n",
       "        1, 0, 1, 1, 0, 0, 0, 1, 0, 1, 0, 1, 1, 1, 0, 1, 1, 0, 0, 1, 0, 0,\n",
       "        0, 0, 1, 0, 0, 0, 1, 0, 1, 0, 1, 1, 0, 1, 0, 0, 0, 0, 1, 1, 0, 0,\n",
       "        1, 1, 1, 0, 1, 1, 1, 1, 1, 0, 0, 1, 1, 0, 1, 1, 0, 0, 1, 0, 1, 1,\n",
       "        1, 1, 0, 1, 1, 1, 1, 1, 0, 1, 0, 0, 0, 0, 0, 0, 0, 0, 0, 0, 0, 0,\n",
       "        0, 0, 1, 1, 1, 1, 1, 1, 0, 1, 0, 1, 1, 0, 1, 1, 0, 1, 0, 0, 1, 1,\n",
       "        1, 1, 1, 1, 1, 1, 1, 1, 1, 1, 1, 0, 1, 1, 0, 1, 0, 1, 1, 1, 1, 1,\n",
       "        1, 1, 1, 1, 1, 1, 1, 1, 1, 0, 1, 1, 1, 0, 1, 0, 1, 1, 1, 1, 0, 0,\n",
       "        0, 1, 1, 1, 1, 0, 1, 0, 1, 0, 1, 1, 1, 0, 1, 1, 1, 1, 1, 1, 1, 0,\n",
       "        0, 0, 1, 1, 1, 1, 1, 1, 1, 1, 1, 1, 1, 0, 0, 1, 0, 0, 0, 1, 0, 0,\n",
       "        1, 1, 1, 1, 1, 0, 1, 1, 1, 1, 1, 0, 1, 1, 1, 0, 1, 1, 0, 0, 1, 1,\n",
       "        1, 1, 1, 1, 0, 1, 1, 1, 1, 1, 1, 1, 0, 1, 1, 1, 1, 1, 0, 1, 1, 0,\n",
       "        1, 1, 1, 1, 1, 1, 1, 1, 1, 1, 1, 1, 0, 1, 0, 0, 1, 0, 1, 1, 1, 1,\n",
       "        1, 0, 1, 1, 0, 1, 0, 1, 1, 0, 1, 0, 1, 1, 1, 1, 1, 1, 1, 1, 0, 0,\n",
       "        1, 1, 1, 1, 1, 1, 0, 1, 1, 1, 1, 1, 1, 1, 1, 1, 1, 0, 1, 1, 1, 1,\n",
       "        1, 1, 1, 0, 1, 0, 1, 1, 0, 1, 1, 1, 1, 1, 0, 0, 1, 0, 1, 0, 1, 1,\n",
       "        1, 1, 1, 0, 1, 1, 0, 1, 0, 1, 0, 0, 1, 1, 1, 0, 1, 1, 1, 1, 1, 1,\n",
       "        1, 1, 1, 1, 1, 0, 1, 0, 0, 1, 1, 1, 1, 1, 1, 1, 1, 1, 1, 1, 1, 1,\n",
       "        1, 1, 1, 1, 1, 1, 1, 1, 1, 1, 1, 1, 0, 0, 0, 0, 0, 0, 1]),\n",
       " 'frame': None,\n",
       " 'target_names': array(['malignant', 'benign'], dtype='<U9'),\n",
       " 'DESCR': '.. _breast_cancer_dataset:\\n\\nBreast cancer wisconsin (diagnostic) dataset\\n--------------------------------------------\\n\\n**Data Set Characteristics:**\\n\\n    :Number of Instances: 569\\n\\n    :Number of Attributes: 30 numeric, predictive attributes and the class\\n\\n    :Attribute Information:\\n        - radius (mean of distances from center to points on the perimeter)\\n        - texture (standard deviation of gray-scale values)\\n        - perimeter\\n        - area\\n        - smoothness (local variation in radius lengths)\\n        - compactness (perimeter^2 / area - 1.0)\\n        - concavity (severity of concave portions of the contour)\\n        - concave points (number of concave portions of the contour)\\n        - symmetry\\n        - fractal dimension (\"coastline approximation\" - 1)\\n\\n        The mean, standard error, and \"worst\" or largest (mean of the three\\n        worst/largest values) of these features were computed for each image,\\n        resulting in 30 features.  For instance, field 0 is Mean Radius, field\\n        10 is Radius SE, field 20 is Worst Radius.\\n\\n        - class:\\n                - WDBC-Malignant\\n                - WDBC-Benign\\n\\n    :Summary Statistics:\\n\\n    ===================================== ====== ======\\n                                           Min    Max\\n    ===================================== ====== ======\\n    radius (mean):                        6.981  28.11\\n    texture (mean):                       9.71   39.28\\n    perimeter (mean):                     43.79  188.5\\n    area (mean):                          143.5  2501.0\\n    smoothness (mean):                    0.053  0.163\\n    compactness (mean):                   0.019  0.345\\n    concavity (mean):                     0.0    0.427\\n    concave points (mean):                0.0    0.201\\n    symmetry (mean):                      0.106  0.304\\n    fractal dimension (mean):             0.05   0.097\\n    radius (standard error):              0.112  2.873\\n    texture (standard error):             0.36   4.885\\n    perimeter (standard error):           0.757  21.98\\n    area (standard error):                6.802  542.2\\n    smoothness (standard error):          0.002  0.031\\n    compactness (standard error):         0.002  0.135\\n    concavity (standard error):           0.0    0.396\\n    concave points (standard error):      0.0    0.053\\n    symmetry (standard error):            0.008  0.079\\n    fractal dimension (standard error):   0.001  0.03\\n    radius (worst):                       7.93   36.04\\n    texture (worst):                      12.02  49.54\\n    perimeter (worst):                    50.41  251.2\\n    area (worst):                         185.2  4254.0\\n    smoothness (worst):                   0.071  0.223\\n    compactness (worst):                  0.027  1.058\\n    concavity (worst):                    0.0    1.252\\n    concave points (worst):               0.0    0.291\\n    symmetry (worst):                     0.156  0.664\\n    fractal dimension (worst):            0.055  0.208\\n    ===================================== ====== ======\\n\\n    :Missing Attribute Values: None\\n\\n    :Class Distribution: 212 - Malignant, 357 - Benign\\n\\n    :Creator:  Dr. William H. Wolberg, W. Nick Street, Olvi L. Mangasarian\\n\\n    :Donor: Nick Street\\n\\n    :Date: November, 1995\\n\\nThis is a copy of UCI ML Breast Cancer Wisconsin (Diagnostic) datasets.\\nhttps://goo.gl/U2Uwz2\\n\\nFeatures are computed from a digitized image of a fine needle\\naspirate (FNA) of a breast mass.  They describe\\ncharacteristics of the cell nuclei present in the image.\\n\\nSeparating plane described above was obtained using\\nMultisurface Method-Tree (MSM-T) [K. P. Bennett, \"Decision Tree\\nConstruction Via Linear Programming.\" Proceedings of the 4th\\nMidwest Artificial Intelligence and Cognitive Science Society,\\npp. 97-101, 1992], a classification method which uses linear\\nprogramming to construct a decision tree.  Relevant features\\nwere selected using an exhaustive search in the space of 1-4\\nfeatures and 1-3 separating planes.\\n\\nThe actual linear program used to obtain the separating plane\\nin the 3-dimensional space is that described in:\\n[K. P. Bennett and O. L. Mangasarian: \"Robust Linear\\nProgramming Discrimination of Two Linearly Inseparable Sets\",\\nOptimization Methods and Software 1, 1992, 23-34].\\n\\nThis database is also available through the UW CS ftp server:\\n\\nftp ftp.cs.wisc.edu\\ncd math-prog/cpo-dataset/machine-learn/WDBC/\\n\\n.. topic:: References\\n\\n   - W.N. Street, W.H. Wolberg and O.L. Mangasarian. Nuclear feature extraction \\n     for breast tumor diagnosis. IS&T/SPIE 1993 International Symposium on \\n     Electronic Imaging: Science and Technology, volume 1905, pages 861-870,\\n     San Jose, CA, 1993.\\n   - O.L. Mangasarian, W.N. Street and W.H. Wolberg. Breast cancer diagnosis and \\n     prognosis via linear programming. Operations Research, 43(4), pages 570-577, \\n     July-August 1995.\\n   - W.H. Wolberg, W.N. Street, and O.L. Mangasarian. Machine learning techniques\\n     to diagnose breast cancer from fine-needle aspirates. Cancer Letters 77 (1994) \\n     163-171.',\n",
       " 'feature_names': array(['mean radius', 'mean texture', 'mean perimeter', 'mean area',\n",
       "        'mean smoothness', 'mean compactness', 'mean concavity',\n",
       "        'mean concave points', 'mean symmetry', 'mean fractal dimension',\n",
       "        'radius error', 'texture error', 'perimeter error', 'area error',\n",
       "        'smoothness error', 'compactness error', 'concavity error',\n",
       "        'concave points error', 'symmetry error',\n",
       "        'fractal dimension error', 'worst radius', 'worst texture',\n",
       "        'worst perimeter', 'worst area', 'worst smoothness',\n",
       "        'worst compactness', 'worst concavity', 'worst concave points',\n",
       "        'worst symmetry', 'worst fractal dimension'], dtype='<U23'),\n",
       " 'filename': 'breast_cancer.csv',\n",
       " 'data_module': 'sklearn.datasets.data'}"
      ]
     },
     "execution_count": 26,
     "metadata": {},
     "output_type": "execute_result"
    }
   ],
   "source": [
    "bc"
   ]
  },
  {
   "cell_type": "code",
   "execution_count": 59,
   "id": "7957cea1",
   "metadata": {
    "collapsed": true
   },
   "outputs": [
    {
     "name": "stdout",
     "output_type": "stream",
     "text": [
      "data\n",
      "target\n",
      "frame\n",
      "target_names\n",
      "DESCR\n",
      "feature_names\n",
      "filename\n",
      "data_module\n"
     ]
    }
   ],
   "source": [
    "for key in bc:\n",
    "    print (key)"
   ]
  },
  {
   "cell_type": "code",
   "execution_count": 84,
   "id": "71fd617f",
   "metadata": {},
   "outputs": [],
   "source": [
    "X=bc[\"data\"]\n",
    "Y=bc[\"target\"]"
   ]
  },
  {
   "cell_type": "code",
   "execution_count": 85,
   "id": "9800645e",
   "metadata": {},
   "outputs": [],
   "source": [
    "num_samples,num_features=X.shape"
   ]
  },
  {
   "cell_type": "code",
   "execution_count": 62,
   "id": "0f962a9c",
   "metadata": {},
   "outputs": [
    {
     "data": {
      "text/plain": [
       "569"
      ]
     },
     "execution_count": 62,
     "metadata": {},
     "output_type": "execute_result"
    }
   ],
   "source": [
    "num_samples"
   ]
  },
  {
   "cell_type": "code",
   "execution_count": 63,
   "id": "0107543e",
   "metadata": {},
   "outputs": [
    {
     "data": {
      "text/plain": [
       "30"
      ]
     },
     "execution_count": 63,
     "metadata": {},
     "output_type": "execute_result"
    }
   ],
   "source": [
    "num_features"
   ]
  },
  {
   "cell_type": "code",
   "execution_count": 64,
   "id": "6ad02255",
   "metadata": {},
   "outputs": [
    {
     "data": {
      "text/plain": [
       "(569,)"
      ]
     },
     "execution_count": 64,
     "metadata": {},
     "output_type": "execute_result"
    }
   ],
   "source": [
    "Y.shape"
   ]
  },
  {
   "cell_type": "code",
   "execution_count": 65,
   "id": "93933184",
   "metadata": {},
   "outputs": [
    {
     "data": {
      "text/plain": [
       "(array([0, 1]), array([212, 357], dtype=int64))"
      ]
     },
     "execution_count": 65,
     "metadata": {},
     "output_type": "execute_result"
    }
   ],
   "source": [
    "np.unique(Y,return_counts=True)"
   ]
  },
  {
   "cell_type": "code",
   "execution_count": 87,
   "id": "7cc44786",
   "metadata": {},
   "outputs": [],
   "source": [
    "X_train,X_test,Y_train,Y_test=train_test_split(X,Y,test_size=0.2,random_state=1)"
   ]
  },
  {
   "cell_type": "code",
   "execution_count": 67,
   "id": "e2fe7eb2",
   "metadata": {},
   "outputs": [
    {
     "data": {
      "text/plain": [
       "array([1.799e+01, 2.066e+01, 1.178e+02, 9.917e+02, 1.036e-01, 1.304e-01,\n",
       "       1.201e-01, 8.824e-02, 1.992e-01, 6.069e-02, 4.537e-01, 8.733e-01,\n",
       "       3.061e+00, 4.981e+01, 7.231e-03, 2.772e-02, 2.509e-02, 1.480e-02,\n",
       "       1.414e-02, 3.336e-03, 2.108e+01, 2.541e+01, 1.381e+02, 1.349e+03,\n",
       "       1.482e-01, 3.735e-01, 3.301e-01, 1.974e-01, 3.060e-01, 8.503e-02])"
      ]
     },
     "execution_count": 67,
     "metadata": {},
     "output_type": "execute_result"
    }
   ],
   "source": [
    "X_train[0]"
   ]
  },
  {
   "cell_type": "markdown",
   "id": "bbaa7ca7",
   "metadata": {},
   "source": [
    "From scratch"
   ]
  },
  {
   "cell_type": "code",
   "execution_count": 16,
   "id": "7802f14e",
   "metadata": {
    "scrolled": true
   },
   "outputs": [],
   "source": [
    "#u ovom slucaju Y=w1*x1+w2*x2...w30*x30+b\n",
    "W=np.zeros(num_features)\n",
    "b=0"
   ]
  },
  {
   "cell_type": "code",
   "execution_count": 17,
   "id": "ab9c7356",
   "metadata": {},
   "outputs": [
    {
     "data": {
      "text/plain": [
       "array([0., 0., 0., 0., 0., 0., 0., 0., 0., 0., 0., 0., 0., 0., 0., 0., 0.,\n",
       "       0., 0., 0., 0., 0., 0., 0., 0., 0., 0., 0., 0., 0.])"
      ]
     },
     "execution_count": 17,
     "metadata": {},
     "output_type": "execute_result"
    }
   ],
   "source": [
    "W"
   ]
  },
  {
   "cell_type": "code",
   "execution_count": 18,
   "id": "376c5a80",
   "metadata": {},
   "outputs": [],
   "source": [
    "def forward (X,W,b):\n",
    "    H=np.dot(X,W)+b\n",
    "    return H"
   ]
  },
  {
   "cell_type": "code",
   "execution_count": 19,
   "id": "0d6fbb1e",
   "metadata": {},
   "outputs": [],
   "source": [
    "def sigmoid (H):\n",
    "    S=1/(1+np.exp(-H))\n",
    "    return S"
   ]
  },
  {
   "cell_type": "code",
   "execution_count": 20,
   "id": "a37234da",
   "metadata": {},
   "outputs": [],
   "source": [
    "def loss(Y,S):\n",
    "    L=((S-Y)**2).mean() \n",
    "    return L   "
   ]
  },
  {
   "cell_type": "code",
   "execution_count": 21,
   "id": "aa60fa7b",
   "metadata": {},
   "outputs": [],
   "source": [
    "def gradient(X,Y,S):\n",
    "    dW,db=(1/num_samples)*(np.dot((S-Y),X)),(S-Y).mean()\n",
    "    return dW,db"
   ]
  },
  {
   "cell_type": "code",
   "execution_count": 22,
   "id": "14d95c17",
   "metadata": {},
   "outputs": [],
   "source": [
    "def predict(S):\n",
    "    T=[1 if i > 0.5 else 0 for i in S]\n",
    "    return T"
   ]
  },
  {
   "cell_type": "code",
   "execution_count": 23,
   "id": "40375ef5",
   "metadata": {},
   "outputs": [],
   "source": [
    "def accuracy(T,Y_test):\n",
    "    accuracy=np.sum(T==Y_test)/len(T)\n",
    "    return round(accuracy,4)"
   ]
  },
  {
   "cell_type": "code",
   "execution_count": 171,
   "id": "fa300381",
   "metadata": {},
   "outputs": [],
   "source": [
    "learning_rate=0.001\n",
    "num_iters=7000"
   ]
  },
  {
   "cell_type": "code",
   "execution_count": 24,
   "id": "20ce0e35",
   "metadata": {
    "collapsed": true
   },
   "outputs": [
    {
     "ename": "NameError",
     "evalue": "name 'num_iters' is not defined",
     "output_type": "error",
     "traceback": [
      "\u001b[1;31m---------------------------------------------------------------------------\u001b[0m",
      "\u001b[1;31mNameError\u001b[0m                                 Traceback (most recent call last)",
      "\u001b[1;32m~\\AppData\\Local\\Temp/ipykernel_7328/470205630.py\u001b[0m in \u001b[0;36m<module>\u001b[1;34m\u001b[0m\n\u001b[1;32m----> 1\u001b[1;33m \u001b[1;32mfor\u001b[0m \u001b[0mepoch\u001b[0m \u001b[1;32min\u001b[0m \u001b[0mrange\u001b[0m\u001b[1;33m(\u001b[0m\u001b[0mnum_iters\u001b[0m\u001b[1;33m)\u001b[0m\u001b[1;33m:\u001b[0m\u001b[1;33m\u001b[0m\u001b[1;33m\u001b[0m\u001b[0m\n\u001b[0m\u001b[0;32m      2\u001b[0m     \u001b[0mH\u001b[0m\u001b[1;33m=\u001b[0m\u001b[0mforward\u001b[0m\u001b[1;33m(\u001b[0m\u001b[0mX_train\u001b[0m\u001b[1;33m,\u001b[0m\u001b[0mW\u001b[0m\u001b[1;33m,\u001b[0m\u001b[0mb\u001b[0m\u001b[1;33m)\u001b[0m\u001b[1;33m\u001b[0m\u001b[1;33m\u001b[0m\u001b[0m\n\u001b[0;32m      3\u001b[0m     \u001b[0mS\u001b[0m\u001b[1;33m=\u001b[0m\u001b[0msigmoid\u001b[0m\u001b[1;33m(\u001b[0m\u001b[0mH\u001b[0m\u001b[1;33m)\u001b[0m\u001b[1;33m\u001b[0m\u001b[1;33m\u001b[0m\u001b[0m\n\u001b[0;32m      4\u001b[0m     \u001b[0mL\u001b[0m\u001b[1;33m=\u001b[0m\u001b[0mloss\u001b[0m\u001b[1;33m(\u001b[0m\u001b[0mY_train\u001b[0m\u001b[1;33m,\u001b[0m\u001b[0mS\u001b[0m\u001b[1;33m)\u001b[0m\u001b[1;33m\u001b[0m\u001b[1;33m\u001b[0m\u001b[0m\n\u001b[0;32m      5\u001b[0m     \u001b[0mdW\u001b[0m\u001b[1;33m,\u001b[0m\u001b[0mdb\u001b[0m\u001b[1;33m=\u001b[0m\u001b[0mgradient\u001b[0m\u001b[1;33m(\u001b[0m\u001b[0mX_train\u001b[0m\u001b[1;33m,\u001b[0m\u001b[0mY_train\u001b[0m\u001b[1;33m,\u001b[0m\u001b[0mS\u001b[0m\u001b[1;33m)\u001b[0m\u001b[1;33m\u001b[0m\u001b[1;33m\u001b[0m\u001b[0m\n",
      "\u001b[1;31mNameError\u001b[0m: name 'num_iters' is not defined"
     ]
    }
   ],
   "source": [
    "for epoch in range(num_iters):\n",
    "    H=forward(X_train,W,b)\n",
    "    S=sigmoid(H)\n",
    "    L=loss(Y_train,S)\n",
    "    dW,db=gradient(X_train,Y_train,S)\n",
    "    W-=learning_rate*dW\n",
    "    b-=learning_rate*db\n",
    "    if epoch%1000==0:\n",
    "        print(f\"epoch: {epoch+1}, loss={L:.4f}, b={b:.4f}, W={W}\") "
   ]
  },
  {
   "cell_type": "code",
   "execution_count": 173,
   "id": "5a819ec8",
   "metadata": {},
   "outputs": [],
   "source": [
    "H_test=forward(X_test,W,b)"
   ]
  },
  {
   "cell_type": "code",
   "execution_count": 174,
   "id": "d60ee9a4",
   "metadata": {},
   "outputs": [],
   "source": [
    "S_test=sigmoid(H_test)"
   ]
  },
  {
   "cell_type": "code",
   "execution_count": 175,
   "id": "67462bce",
   "metadata": {},
   "outputs": [],
   "source": [
    "T=predict(S_test)"
   ]
  },
  {
   "cell_type": "code",
   "execution_count": 176,
   "id": "c7089268",
   "metadata": {
    "collapsed": true
   },
   "outputs": [
    {
     "data": {
      "text/plain": [
       "[1,\n",
       " 0,\n",
       " 1,\n",
       " 0,\n",
       " 0,\n",
       " 0,\n",
       " 0,\n",
       " 0,\n",
       " 1,\n",
       " 1,\n",
       " 1,\n",
       " 1,\n",
       " 0,\n",
       " 1,\n",
       " 1,\n",
       " 1,\n",
       " 1,\n",
       " 1,\n",
       " 1,\n",
       " 0,\n",
       " 1,\n",
       " 1,\n",
       " 0,\n",
       " 1,\n",
       " 0,\n",
       " 1,\n",
       " 1,\n",
       " 0,\n",
       " 0,\n",
       " 0,\n",
       " 0,\n",
       " 1,\n",
       " 0,\n",
       " 0,\n",
       " 1,\n",
       " 1,\n",
       " 0,\n",
       " 1,\n",
       " 1,\n",
       " 1,\n",
       " 1,\n",
       " 1,\n",
       " 1,\n",
       " 1,\n",
       " 1,\n",
       " 0,\n",
       " 1,\n",
       " 1,\n",
       " 1,\n",
       " 0,\n",
       " 0,\n",
       " 0,\n",
       " 1,\n",
       " 1,\n",
       " 1,\n",
       " 1,\n",
       " 1,\n",
       " 0,\n",
       " 1,\n",
       " 1,\n",
       " 1,\n",
       " 0,\n",
       " 1,\n",
       " 0,\n",
       " 1,\n",
       " 1,\n",
       " 1,\n",
       " 0,\n",
       " 1,\n",
       " 1,\n",
       " 1,\n",
       " 1,\n",
       " 0,\n",
       " 0,\n",
       " 1,\n",
       " 0,\n",
       " 1,\n",
       " 1,\n",
       " 1,\n",
       " 0,\n",
       " 1,\n",
       " 0,\n",
       " 1,\n",
       " 0,\n",
       " 1,\n",
       " 1,\n",
       " 1,\n",
       " 1,\n",
       " 0,\n",
       " 1,\n",
       " 1,\n",
       " 0,\n",
       " 1,\n",
       " 1,\n",
       " 0,\n",
       " 0,\n",
       " 1,\n",
       " 1,\n",
       " 1,\n",
       " 1,\n",
       " 1,\n",
       " 1,\n",
       " 1,\n",
       " 1,\n",
       " 1,\n",
       " 1,\n",
       " 1,\n",
       " 1,\n",
       " 0,\n",
       " 0,\n",
       " 1,\n",
       " 1,\n",
       " 1,\n",
       " 1]"
      ]
     },
     "execution_count": 176,
     "metadata": {},
     "output_type": "execute_result"
    }
   ],
   "source": [
    "T"
   ]
  },
  {
   "cell_type": "code",
   "execution_count": 177,
   "id": "c7413fc6",
   "metadata": {},
   "outputs": [
    {
     "name": "stdout",
     "output_type": "stream",
     "text": [
      "Logistic regression model accuracy:  0.9386\n"
     ]
    }
   ],
   "source": [
    "print(\"Logistic regression model accuracy: \",accuracy(T,Y_test))"
   ]
  },
  {
   "cell_type": "markdown",
   "id": "8577ed21",
   "metadata": {},
   "source": [
    "## Pytorch version"
   ]
  },
  {
   "cell_type": "code",
   "execution_count": 88,
   "id": "b92b083a",
   "metadata": {},
   "outputs": [],
   "source": [
    "sc=StandardScaler() #konstrujisemo objekat klase stscalar"
   ]
  },
  {
   "cell_type": "code",
   "execution_count": 89,
   "id": "3f4fdaa3",
   "metadata": {},
   "outputs": [],
   "source": [
    "X_train=sc.fit_transform(X_train)\n",
    "X_test=sc.fit_transform(X_test)"
   ]
  },
  {
   "cell_type": "code",
   "execution_count": 70,
   "id": "93fce6b0",
   "metadata": {
    "collapsed": true
   },
   "outputs": [
    {
     "data": {
      "text/plain": [
       "array([[ 1.0449852 ,  0.29708512,  1.01044815, ...,  1.21839781,\n",
       "         0.29811854,  0.08380738],\n",
       "       [ 1.68141074, -1.14098169,  1.70338066, ...,  0.69716372,\n",
       "        -0.88595033, -0.41234747],\n",
       "       [-1.44260855, -1.12732916, -1.4504636 , ..., -1.52233766,\n",
       "         0.1807324 , -0.33657109],\n",
       "       ...,\n",
       "       [ 0.82638686,  1.17539807,  0.86625411, ...,  1.10638475,\n",
       "         0.72853438,  3.02284824],\n",
       "       [-0.05077356,  0.43133503, -0.11146165, ..., -0.54050588,\n",
       "        -1.1207226 , -0.44903285],\n",
       "       [-0.32748032, -0.21260945, -0.39904866, ..., -0.98109057,\n",
       "        -1.52732096, -1.31985978]])"
      ]
     },
     "execution_count": 70,
     "metadata": {},
     "output_type": "execute_result"
    }
   ],
   "source": [
    "X_train"
   ]
  },
  {
   "cell_type": "code",
   "execution_count": 90,
   "id": "e2b08137",
   "metadata": {},
   "outputs": [],
   "source": [
    "X_train=torch.from_numpy(X_train.astype(np.float32))\n",
    "X_test=torch.from_numpy(X_test.astype(np.float32))\n",
    "Y_train=torch.from_numpy(Y_train.astype(np.float32))\n",
    "Y_test=torch.from_numpy(Y_test.astype(np.float32))\n",
    "Y_train=Y_train.view(Y_train.shape[0],1)\n",
    "Y_test=Y_test.view(Y_test.shape[0],1)"
   ]
  },
  {
   "cell_type": "code",
   "execution_count": 72,
   "id": "8c71bd32",
   "metadata": {
    "collapsed": true
   },
   "outputs": [
    {
     "data": {
      "text/plain": [
       "tensor([[1.],\n",
       "        [0.],\n",
       "        [1.],\n",
       "        [0.],\n",
       "        [0.],\n",
       "        [0.],\n",
       "        [0.],\n",
       "        [0.],\n",
       "        [1.],\n",
       "        [1.],\n",
       "        [1.],\n",
       "        [0.],\n",
       "        [0.],\n",
       "        [1.],\n",
       "        [1.],\n",
       "        [1.],\n",
       "        [1.],\n",
       "        [1.],\n",
       "        [1.],\n",
       "        [0.],\n",
       "        [1.],\n",
       "        [1.],\n",
       "        [0.],\n",
       "        [1.],\n",
       "        [0.],\n",
       "        [1.],\n",
       "        [1.],\n",
       "        [0.],\n",
       "        [0.],\n",
       "        [0.],\n",
       "        [0.],\n",
       "        [1.],\n",
       "        [0.],\n",
       "        [0.],\n",
       "        [1.],\n",
       "        [1.],\n",
       "        [0.],\n",
       "        [1.],\n",
       "        [0.],\n",
       "        [1.],\n",
       "        [1.],\n",
       "        [1.],\n",
       "        [1.],\n",
       "        [1.],\n",
       "        [1.],\n",
       "        [0.],\n",
       "        [1.],\n",
       "        [1.],\n",
       "        [1.],\n",
       "        [0.],\n",
       "        [0.],\n",
       "        [0.],\n",
       "        [1.],\n",
       "        [1.],\n",
       "        [1.],\n",
       "        [1.],\n",
       "        [1.],\n",
       "        [0.],\n",
       "        [1.],\n",
       "        [1.],\n",
       "        [1.],\n",
       "        [0.],\n",
       "        [1.],\n",
       "        [1.],\n",
       "        [1.],\n",
       "        [1.],\n",
       "        [1.],\n",
       "        [0.],\n",
       "        [1.],\n",
       "        [1.],\n",
       "        [1.],\n",
       "        [1.],\n",
       "        [0.],\n",
       "        [0.],\n",
       "        [1.],\n",
       "        [0.],\n",
       "        [0.],\n",
       "        [0.],\n",
       "        [1.],\n",
       "        [0.],\n",
       "        [1.],\n",
       "        [0.],\n",
       "        [1.],\n",
       "        [0.],\n",
       "        [1.],\n",
       "        [1.],\n",
       "        [0.],\n",
       "        [1.],\n",
       "        [0.],\n",
       "        [1.],\n",
       "        [1.],\n",
       "        [0.],\n",
       "        [1.],\n",
       "        [1.],\n",
       "        [0.],\n",
       "        [0.],\n",
       "        [1.],\n",
       "        [1.],\n",
       "        [1.],\n",
       "        [1.],\n",
       "        [1.],\n",
       "        [1.],\n",
       "        [1.],\n",
       "        [1.],\n",
       "        [1.],\n",
       "        [1.],\n",
       "        [1.],\n",
       "        [1.],\n",
       "        [0.],\n",
       "        [0.],\n",
       "        [0.],\n",
       "        [1.],\n",
       "        [1.],\n",
       "        [1.]])"
      ]
     },
     "execution_count": 72,
     "metadata": {},
     "output_type": "execute_result"
    }
   ],
   "source": [
    "Y_test"
   ]
  },
  {
   "cell_type": "code",
   "execution_count": 91,
   "id": "9ab9cc37",
   "metadata": {},
   "outputs": [],
   "source": [
    "class LogisticRegression(nn.Module):\n",
    "    def __init__(self,num_features):\n",
    "        super().__init__()\n",
    "        self.linear=nn.Linear(num_features,1)\n",
    "    def forward(self,X):\n",
    "        S=torch.sigmoid(self.linear(X))\n",
    "        return S"
   ]
  },
  {
   "cell_type": "code",
   "execution_count": 92,
   "id": "d117a117",
   "metadata": {},
   "outputs": [],
   "source": [
    "model=LogisticRegression(num_features)"
   ]
  },
  {
   "cell_type": "code",
   "execution_count": 93,
   "id": "d40d9f7a",
   "metadata": {},
   "outputs": [],
   "source": [
    "loss=nn.BCELoss() #da vidimo koliko je dobar "
   ]
  },
  {
   "cell_type": "code",
   "execution_count": 94,
   "id": "6b9c77d5",
   "metadata": {},
   "outputs": [],
   "source": [
    "learning_rate=0.01\n",
    "num_epochs=100000"
   ]
  },
  {
   "cell_type": "code",
   "execution_count": 95,
   "id": "f2740f12",
   "metadata": {},
   "outputs": [],
   "source": [
    "optimizer=torch.optim.SGD(model.parameters(),lr=learning_rate) #stohastic gradient disant"
   ]
  },
  {
   "cell_type": "code",
   "execution_count": 96,
   "id": "1b543282",
   "metadata": {},
   "outputs": [
    {
     "name": "stdout",
     "output_type": "stream",
     "text": [
      "epoch: 1, loss=0.7965\n",
      "epoch: 10001, loss=0.0596\n",
      "epoch: 20001, loss=0.0536\n",
      "epoch: 30001, loss=0.0506\n",
      "epoch: 40001, loss=0.0487\n",
      "epoch: 50001, loss=0.0473\n",
      "epoch: 60001, loss=0.0462\n",
      "epoch: 70001, loss=0.0453\n",
      "epoch: 80001, loss=0.0445\n",
      "epoch: 90001, loss=0.0438\n"
     ]
    }
   ],
   "source": [
    "for epoch in range(num_epochs):\n",
    "    S=model(X_train)\n",
    "    L=loss(S,Y_train)\n",
    "    L.backward()\n",
    "    optimizer.step()\n",
    "    optimizer.zero_grad()\n",
    "    \n",
    "    if epoch%10000==0:\n",
    "        print(f\"epoch: {epoch+1}, loss={L:.4f}\") "
   ]
  },
  {
   "cell_type": "code",
   "execution_count": 97,
   "id": "10033875",
   "metadata": {},
   "outputs": [],
   "source": [
    "with torch.no_grad():\n",
    "    T=model(X_test)"
   ]
  },
  {
   "cell_type": "code",
   "execution_count": 100,
   "id": "1db5c69b",
   "metadata": {},
   "outputs": [
    {
     "data": {
      "text/plain": [
       "tensor([[1.],\n",
       "        [0.],\n",
       "        [1.],\n",
       "        [0.],\n",
       "        [0.],\n",
       "        [0.],\n",
       "        [0.],\n",
       "        [0.],\n",
       "        [1.],\n",
       "        [1.],\n",
       "        [1.],\n",
       "        [0.],\n",
       "        [0.],\n",
       "        [1.],\n",
       "        [0.],\n",
       "        [1.],\n",
       "        [1.],\n",
       "        [1.],\n",
       "        [1.],\n",
       "        [0.],\n",
       "        [1.],\n",
       "        [1.],\n",
       "        [0.],\n",
       "        [1.],\n",
       "        [0.],\n",
       "        [1.],\n",
       "        [1.],\n",
       "        [0.],\n",
       "        [0.],\n",
       "        [0.],\n",
       "        [0.],\n",
       "        [1.],\n",
       "        [0.],\n",
       "        [0.],\n",
       "        [1.],\n",
       "        [1.],\n",
       "        [0.],\n",
       "        [1.],\n",
       "        [0.],\n",
       "        [1.],\n",
       "        [1.],\n",
       "        [1.],\n",
       "        [1.],\n",
       "        [1.],\n",
       "        [1.],\n",
       "        [0.],\n",
       "        [1.],\n",
       "        [1.],\n",
       "        [1.],\n",
       "        [0.],\n",
       "        [0.],\n",
       "        [0.],\n",
       "        [1.],\n",
       "        [1.],\n",
       "        [1.],\n",
       "        [1.],\n",
       "        [1.],\n",
       "        [0.],\n",
       "        [1.],\n",
       "        [1.],\n",
       "        [1.],\n",
       "        [0.],\n",
       "        [1.],\n",
       "        [1.],\n",
       "        [1.],\n",
       "        [1.],\n",
       "        [1.],\n",
       "        [0.],\n",
       "        [1.],\n",
       "        [1.],\n",
       "        [1.],\n",
       "        [1.],\n",
       "        [1.],\n",
       "        [0.],\n",
       "        [1.],\n",
       "        [0.],\n",
       "        [0.],\n",
       "        [1.],\n",
       "        [1.],\n",
       "        [0.],\n",
       "        [1.],\n",
       "        [0.],\n",
       "        [1.],\n",
       "        [0.],\n",
       "        [1.],\n",
       "        [1.],\n",
       "        [0.],\n",
       "        [1.],\n",
       "        [0.],\n",
       "        [1.],\n",
       "        [1.],\n",
       "        [0.],\n",
       "        [1.],\n",
       "        [1.],\n",
       "        [0.],\n",
       "        [0.],\n",
       "        [1.],\n",
       "        [1.],\n",
       "        [1.],\n",
       "        [1.],\n",
       "        [1.],\n",
       "        [1.],\n",
       "        [1.],\n",
       "        [1.],\n",
       "        [1.],\n",
       "        [1.],\n",
       "        [1.],\n",
       "        [1.],\n",
       "        [0.],\n",
       "        [0.],\n",
       "        [0.],\n",
       "        [1.],\n",
       "        [1.],\n",
       "        [1.]])"
      ]
     },
     "execution_count": 100,
     "metadata": {},
     "output_type": "execute_result"
    }
   ],
   "source": [
    "T"
   ]
  },
  {
   "cell_type": "code",
   "execution_count": 99,
   "id": "0b953bef",
   "metadata": {},
   "outputs": [],
   "source": [
    "T=T.round()"
   ]
  },
  {
   "cell_type": "code",
   "execution_count": 101,
   "id": "77f937f2",
   "metadata": {},
   "outputs": [],
   "source": [
    "tf=T.eq(Y_test)"
   ]
  },
  {
   "cell_type": "code",
   "execution_count": 102,
   "id": "5dbd5969",
   "metadata": {},
   "outputs": [
    {
     "data": {
      "text/plain": [
       "tensor([[ True],\n",
       "        [ True],\n",
       "        [ True],\n",
       "        [ True],\n",
       "        [ True],\n",
       "        [ True],\n",
       "        [ True],\n",
       "        [ True],\n",
       "        [ True],\n",
       "        [ True],\n",
       "        [ True],\n",
       "        [ True],\n",
       "        [ True],\n",
       "        [ True],\n",
       "        [False],\n",
       "        [ True],\n",
       "        [ True],\n",
       "        [ True],\n",
       "        [ True],\n",
       "        [ True],\n",
       "        [ True],\n",
       "        [ True],\n",
       "        [ True],\n",
       "        [ True],\n",
       "        [ True],\n",
       "        [ True],\n",
       "        [ True],\n",
       "        [ True],\n",
       "        [ True],\n",
       "        [ True],\n",
       "        [ True],\n",
       "        [ True],\n",
       "        [ True],\n",
       "        [ True],\n",
       "        [ True],\n",
       "        [ True],\n",
       "        [ True],\n",
       "        [ True],\n",
       "        [ True],\n",
       "        [ True],\n",
       "        [ True],\n",
       "        [ True],\n",
       "        [ True],\n",
       "        [ True],\n",
       "        [ True],\n",
       "        [ True],\n",
       "        [ True],\n",
       "        [ True],\n",
       "        [ True],\n",
       "        [ True],\n",
       "        [ True],\n",
       "        [ True],\n",
       "        [ True],\n",
       "        [ True],\n",
       "        [ True],\n",
       "        [ True],\n",
       "        [ True],\n",
       "        [ True],\n",
       "        [ True],\n",
       "        [ True],\n",
       "        [ True],\n",
       "        [ True],\n",
       "        [ True],\n",
       "        [ True],\n",
       "        [ True],\n",
       "        [ True],\n",
       "        [ True],\n",
       "        [ True],\n",
       "        [ True],\n",
       "        [ True],\n",
       "        [ True],\n",
       "        [ True],\n",
       "        [False],\n",
       "        [ True],\n",
       "        [ True],\n",
       "        [ True],\n",
       "        [ True],\n",
       "        [False],\n",
       "        [ True],\n",
       "        [ True],\n",
       "        [ True],\n",
       "        [ True],\n",
       "        [ True],\n",
       "        [ True],\n",
       "        [ True],\n",
       "        [ True],\n",
       "        [ True],\n",
       "        [ True],\n",
       "        [ True],\n",
       "        [ True],\n",
       "        [ True],\n",
       "        [ True],\n",
       "        [ True],\n",
       "        [ True],\n",
       "        [ True],\n",
       "        [ True],\n",
       "        [ True],\n",
       "        [ True],\n",
       "        [ True],\n",
       "        [ True],\n",
       "        [ True],\n",
       "        [ True],\n",
       "        [ True],\n",
       "        [ True],\n",
       "        [ True],\n",
       "        [ True],\n",
       "        [ True],\n",
       "        [ True],\n",
       "        [ True],\n",
       "        [ True],\n",
       "        [ True],\n",
       "        [ True],\n",
       "        [ True],\n",
       "        [ True]])"
      ]
     },
     "execution_count": 102,
     "metadata": {},
     "output_type": "execute_result"
    }
   ],
   "source": [
    "tf"
   ]
  },
  {
   "cell_type": "code",
   "execution_count": 103,
   "id": "391c4a7e",
   "metadata": {},
   "outputs": [],
   "source": [
    "accuracy=tf.sum()/Y_test.shape[0]"
   ]
  },
  {
   "cell_type": "code",
   "execution_count": 104,
   "id": "fa79148e",
   "metadata": {},
   "outputs": [
    {
     "name": "stdout",
     "output_type": "stream",
     "text": [
      "accuracy: 0.9737\n"
     ]
    }
   ],
   "source": [
    "print (f'accuracy: {accuracy:.4f}')"
   ]
  },
  {
   "cell_type": "code",
   "execution_count": null,
   "id": "d0279d43",
   "metadata": {},
   "outputs": [],
   "source": []
  }
 ],
 "metadata": {
  "kernelspec": {
   "display_name": "Python 3 (ipykernel)",
   "language": "python",
   "name": "python3"
  },
  "language_info": {
   "codemirror_mode": {
    "name": "ipython",
    "version": 3
   },
   "file_extension": ".py",
   "mimetype": "text/x-python",
   "name": "python",
   "nbconvert_exporter": "python",
   "pygments_lexer": "ipython3",
   "version": "3.8.10"
  }
 },
 "nbformat": 4,
 "nbformat_minor": 5
}
