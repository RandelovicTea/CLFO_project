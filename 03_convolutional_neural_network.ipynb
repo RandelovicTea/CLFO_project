{
 "cells": [
  {
   "cell_type": "markdown",
   "id": "b2fbcdc8",
   "metadata": {},
   "source": [
    "# CLFO\n",
    "## 03 Covolutional neural network"
   ]
  },
  {
   "cell_type": "markdown",
   "id": "e682bb4e",
   "metadata": {},
   "source": [
    "### Imports"
   ]
  },
  {
   "cell_type": "code",
   "execution_count": 1,
   "id": "295163d9",
   "metadata": {},
   "outputs": [],
   "source": [
    "import numpy as np\n",
    "from sklearn.model_selection import train_test_split as split\n",
    "import torch \n",
    "from torch.utils.data import DataLoader, Dataset\n",
    "from functions import *\n",
    "import torch.nn as nn\n",
    "from matplotlib import pyplot as plt### Imports"
   ]
  },
  {
   "cell_type": "markdown",
   "id": "730efd8f",
   "metadata": {},
   "source": [
    "### Loading prepared data"
   ]
  },
  {
   "cell_type": "code",
   "execution_count": null,
   "id": "a32e2986",
   "metadata": {},
   "outputs": [],
   "source": []
  }
 ],
 "metadata": {
  "kernelspec": {
   "display_name": "Python 3 (ipykernel)",
   "language": "python",
   "name": "python3"
  },
  "language_info": {
   "codemirror_mode": {
    "name": "ipython",
    "version": 3
   },
   "file_extension": ".py",
   "mimetype": "text/x-python",
   "name": "python",
   "nbconvert_exporter": "python",
   "pygments_lexer": "ipython3",
   "version": "3.8.10"
  }
 },
 "nbformat": 4,
 "nbformat_minor": 5
}
