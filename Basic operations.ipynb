{
 "cells": [
  {
   "cell_type": "code",
   "execution_count": 1,
   "id": "242b798d",
   "metadata": {},
   "outputs": [],
   "source": [
    "import torch\n",
    "import numpy as np\n",
    "import torch.nn as nn\n",
    "from sklearn import datasets\n",
    "from matplotlib import pyplot as plt"
   ]
  },
  {
   "cell_type": "code",
   "execution_count": null,
   "id": "aae82969",
   "metadata": {},
   "outputs": [],
   "source": [
    "x=torch.zeros(4)"
   ]
  },
  {
   "cell_type": "code",
   "execution_count": null,
   "id": "e29dbf1a",
   "metadata": {},
   "outputs": [],
   "source": [
    "x"
   ]
  },
  {
   "cell_type": "code",
   "execution_count": null,
   "id": "9a9cfaf7",
   "metadata": {},
   "outputs": [],
   "source": [
    "x=torch.ones(2,3)"
   ]
  },
  {
   "cell_type": "code",
   "execution_count": null,
   "id": "79e039fc",
   "metadata": {},
   "outputs": [],
   "source": [
    "x"
   ]
  },
  {
   "cell_type": "code",
   "execution_count": null,
   "id": "198554f9",
   "metadata": {},
   "outputs": [],
   "source": [
    "x=torch.rand(5,7)"
   ]
  },
  {
   "cell_type": "code",
   "execution_count": null,
   "id": "e89f2620",
   "metadata": {},
   "outputs": [],
   "source": [
    "x"
   ]
  },
  {
   "cell_type": "markdown",
   "id": "eedc2d62",
   "metadata": {},
   "source": [
    "### Broadcasting method"
   ]
  },
  {
   "cell_type": "code",
   "execution_count": null,
   "id": "4d64701b",
   "metadata": {},
   "outputs": [],
   "source": [
    "x=x*5"
   ]
  },
  {
   "cell_type": "code",
   "execution_count": null,
   "id": "3ae86acf",
   "metadata": {},
   "outputs": [],
   "source": [
    "#inplace function(add,sub,div,mul...)\n",
    "x.mul_(x)"
   ]
  },
  {
   "cell_type": "code",
   "execution_count": null,
   "id": "6db6655f",
   "metadata": {},
   "outputs": [],
   "source": [
    "x"
   ]
  },
  {
   "cell_type": "code",
   "execution_count": null,
   "id": "3e7b9f1d",
   "metadata": {},
   "outputs": [],
   "source": [
    "a=torch.tensor([[2,5,8],[5,7,3],[6,8,4]])"
   ]
  },
  {
   "cell_type": "code",
   "execution_count": null,
   "id": "18ea01b9",
   "metadata": {},
   "outputs": [],
   "source": [
    "a"
   ]
  },
  {
   "cell_type": "code",
   "execution_count": null,
   "id": "42f2fccb",
   "metadata": {},
   "outputs": [],
   "source": [
    "b=torch.tensor([[3,7,8],[1,6,2],[5,9,4]])"
   ]
  },
  {
   "cell_type": "code",
   "execution_count": null,
   "id": "f5277892",
   "metadata": {},
   "outputs": [],
   "source": [
    "r1=a+b"
   ]
  },
  {
   "cell_type": "code",
   "execution_count": null,
   "id": "1f348faf",
   "metadata": {},
   "outputs": [],
   "source": [
    "torch.add(a,b)"
   ]
  },
  {
   "cell_type": "code",
   "execution_count": null,
   "id": "735ca507",
   "metadata": {},
   "outputs": [],
   "source": [
    "r1"
   ]
  },
  {
   "cell_type": "code",
   "execution_count": null,
   "id": "327d6dee",
   "metadata": {},
   "outputs": [],
   "source": [
    "r2=a-b\n",
    "r2"
   ]
  },
  {
   "cell_type": "code",
   "execution_count": null,
   "id": "4fb0e5c3",
   "metadata": {},
   "outputs": [],
   "source": [
    "r2.dtype"
   ]
  },
  {
   "cell_type": "code",
   "execution_count": null,
   "id": "b0e5bec2",
   "metadata": {},
   "outputs": [],
   "source": [
    "r2.size()"
   ]
  },
  {
   "cell_type": "code",
   "execution_count": null,
   "id": "918fabd5",
   "metadata": {},
   "outputs": [],
   "source": [
    "#dvodimenzionalna matrica sa jednim redom i devet kolona\n",
    "r2.view(1,9)"
   ]
  },
  {
   "cell_type": "code",
   "execution_count": null,
   "id": "97caca24",
   "metadata": {},
   "outputs": [],
   "source": [
    "n=r2.numpy()"
   ]
  },
  {
   "cell_type": "code",
   "execution_count": null,
   "id": "bc6f96a3",
   "metadata": {},
   "outputs": [],
   "source": [
    "n"
   ]
  },
  {
   "cell_type": "code",
   "execution_count": null,
   "id": "300083df",
   "metadata": {},
   "outputs": [],
   "source": [
    "r2"
   ]
  },
  {
   "cell_type": "code",
   "execution_count": null,
   "id": "49d17b40",
   "metadata": {},
   "outputs": [],
   "source": [
    "n=n*37"
   ]
  },
  {
   "cell_type": "code",
   "execution_count": null,
   "id": "7992b8be",
   "metadata": {},
   "outputs": [],
   "source": [
    "n"
   ]
  },
  {
   "cell_type": "code",
   "execution_count": null,
   "id": "1e8620ee",
   "metadata": {},
   "outputs": [],
   "source": [
    "r2"
   ]
  },
  {
   "cell_type": "code",
   "execution_count": null,
   "id": "724998e7",
   "metadata": {},
   "outputs": [],
   "source": [
    "r3=torch.from_numpy(n)"
   ]
  },
  {
   "cell_type": "code",
   "execution_count": null,
   "id": "3155e70b",
   "metadata": {},
   "outputs": [],
   "source": [
    "r3"
   ]
  },
  {
   "cell_type": "code",
   "execution_count": null,
   "id": "ac948485",
   "metadata": {},
   "outputs": [],
   "source": [
    "r3[:,1] #! levo su redovi, desno kolone"
   ]
  },
  {
   "cell_type": "code",
   "execution_count": null,
   "id": "11ca64a9",
   "metadata": {},
   "outputs": [],
   "source": [
    "l=[2,3,4,4]"
   ]
  },
  {
   "cell_type": "code",
   "execution_count": null,
   "id": "b860592f",
   "metadata": {},
   "outputs": [],
   "source": [
    "l[:]"
   ]
  },
  {
   "cell_type": "markdown",
   "id": "cfb551fb",
   "metadata": {},
   "source": [
    "Autograd"
   ]
  },
  {
   "cell_type": "code",
   "execution_count": 7,
   "id": "66401ca4",
   "metadata": {},
   "outputs": [],
   "source": [
    "A=torch.rand(3,requires_grad=True)"
   ]
  },
  {
   "cell_type": "code",
   "execution_count": 8,
   "id": "fd55782e",
   "metadata": {},
   "outputs": [
    {
     "data": {
      "text/plain": [
       "tensor([0.7188, 0.0642, 0.9983], requires_grad=True)"
      ]
     },
     "execution_count": 8,
     "metadata": {},
     "output_type": "execute_result"
    }
   ],
   "source": [
    "A"
   ]
  },
  {
   "cell_type": "code",
   "execution_count": 9,
   "id": "fc93043e",
   "metadata": {},
   "outputs": [],
   "source": [
    "B=2*A"
   ]
  },
  {
   "cell_type": "code",
   "execution_count": 10,
   "id": "438e4811",
   "metadata": {},
   "outputs": [],
   "source": [
    "C=2*B"
   ]
  },
  {
   "cell_type": "code",
   "execution_count": 24,
   "id": "565e5f9d",
   "metadata": {},
   "outputs": [
    {
     "data": {
      "text/plain": [
       "tensor(7.1253, grad_fn=<SumBackward0>)"
      ]
     },
     "execution_count": 24,
     "metadata": {},
     "output_type": "execute_result"
    }
   ],
   "source": [
    "C.sum()"
   ]
  },
  {
   "cell_type": "code",
   "execution_count": 11,
   "id": "f2486a62",
   "metadata": {},
   "outputs": [
    {
     "data": {
      "text/plain": [
       "tensor([2.8752, 0.2568, 3.9933], grad_fn=<MulBackward0>)"
      ]
     },
     "execution_count": 11,
     "metadata": {},
     "output_type": "execute_result"
    }
   ],
   "source": [
    "C"
   ]
  },
  {
   "cell_type": "code",
   "execution_count": 12,
   "id": "b59f2d32",
   "metadata": {},
   "outputs": [],
   "source": [
    "V=torch.tensor([1,0.001,1])"
   ]
  },
  {
   "cell_type": "code",
   "execution_count": 13,
   "id": "c72cae26",
   "metadata": {},
   "outputs": [
    {
     "data": {
      "text/plain": [
       "tensor([1.0000, 0.0010, 1.0000])"
      ]
     },
     "execution_count": 13,
     "metadata": {},
     "output_type": "execute_result"
    }
   ],
   "source": [
    "V"
   ]
  },
  {
   "cell_type": "code",
   "execution_count": 14,
   "id": "6ce84142",
   "metadata": {},
   "outputs": [],
   "source": [
    "C.backward(V)"
   ]
  },
  {
   "cell_type": "code",
   "execution_count": 15,
   "id": "2ad9fd00",
   "metadata": {},
   "outputs": [
    {
     "data": {
      "text/plain": [
       "tensor([4.0000, 0.0040, 4.0000])"
      ]
     },
     "execution_count": 15,
     "metadata": {},
     "output_type": "execute_result"
    }
   ],
   "source": [
    "A.grad"
   ]
  },
  {
   "cell_type": "code",
   "execution_count": null,
   "id": "9f90d9d5",
   "metadata": {},
   "outputs": [],
   "source": [
    "A.grad.zero_()"
   ]
  },
  {
   "cell_type": "code",
   "execution_count": 22,
   "id": "00cd1cc4",
   "metadata": {},
   "outputs": [],
   "source": [
    "w=torch.ones(4, requires_grad=True)"
   ]
  },
  {
   "cell_type": "code",
   "execution_count": 28,
   "id": "2945041d",
   "metadata": {},
   "outputs": [
    {
     "data": {
      "text/plain": [
       "tensor([0., 0., 0., 0.])"
      ]
     },
     "execution_count": 28,
     "metadata": {},
     "output_type": "execute_result"
    }
   ],
   "source": [
    "w.grad.zero_()"
   ]
  },
  {
   "cell_type": "code",
   "execution_count": 29,
   "id": "15f4f123",
   "metadata": {},
   "outputs": [
    {
     "name": "stdout",
     "output_type": "stream",
     "text": [
      "tensor([1., 1., 1., 1.])\n",
      "tensor([1., 1., 1., 1.])\n",
      "tensor([1., 1., 1., 1.])\n"
     ]
    }
   ],
   "source": [
    "for _ in range (3):\n",
    "    z=w.sum()\n",
    "    z.backward()\n",
    "    print(w.grad)\n",
    "    w.grad.zero_()"
   ]
  },
  {
   "cell_type": "code",
   "execution_count": 64,
   "id": "bda81eda",
   "metadata": {},
   "outputs": [],
   "source": [
    "x=torch.rand(3,requires_grad=True)\n",
    "y=2*x\n",
    "z=2*y"
   ]
  },
  {
   "cell_type": "code",
   "execution_count": 65,
   "id": "bcb0565f",
   "metadata": {},
   "outputs": [
    {
     "data": {
      "text/plain": [
       "tensor([0.2180, 0.4387, 0.2472], requires_grad=True)"
      ]
     },
     "execution_count": 65,
     "metadata": {},
     "output_type": "execute_result"
    }
   ],
   "source": [
    "x"
   ]
  },
  {
   "cell_type": "code",
   "execution_count": 66,
   "id": "b77276dc",
   "metadata": {},
   "outputs": [
    {
     "data": {
      "text/plain": [
       "tensor([0.4361, 0.8775, 0.4944], grad_fn=<MulBackward0>)"
      ]
     },
     "execution_count": 66,
     "metadata": {},
     "output_type": "execute_result"
    }
   ],
   "source": [
    "y"
   ]
  },
  {
   "cell_type": "code",
   "execution_count": 67,
   "id": "65d7ece7",
   "metadata": {},
   "outputs": [
    {
     "data": {
      "text/plain": [
       "tensor([0.8722, 1.7549, 0.9888], grad_fn=<MulBackward0>)"
      ]
     },
     "execution_count": 67,
     "metadata": {},
     "output_type": "execute_result"
    }
   ],
   "source": [
    "z"
   ]
  },
  {
   "cell_type": "code",
   "execution_count": 68,
   "id": "68ea9f6c",
   "metadata": {},
   "outputs": [],
   "source": [
    "m=z.mean()\n",
    "n=z.sum()"
   ]
  },
  {
   "cell_type": "code",
   "execution_count": 69,
   "id": "8d73bc9f",
   "metadata": {},
   "outputs": [],
   "source": [
    "n.backward()"
   ]
  },
  {
   "cell_type": "code",
   "execution_count": 70,
   "id": "8b00dc51",
   "metadata": {},
   "outputs": [
    {
     "data": {
      "text/plain": [
       "tensor([4., 4., 4.])"
      ]
     },
     "execution_count": 70,
     "metadata": {},
     "output_type": "execute_result"
    }
   ],
   "source": [
    "x.grad"
   ]
  },
  {
   "cell_type": "code",
   "execution_count": 63,
   "id": "0c49ac0e",
   "metadata": {},
   "outputs": [
    {
     "data": {
      "text/plain": [
       "tensor([0., 0., 0.])"
      ]
     },
     "execution_count": 63,
     "metadata": {},
     "output_type": "execute_result"
    }
   ],
   "source": [
    "x.grad.zero_()"
   ]
  },
  {
   "cell_type": "code",
   "execution_count": 7,
   "id": "3aa82651",
   "metadata": {},
   "outputs": [],
   "source": [
    "x = torch.tensor(4., requires_grad = True)\n",
    "y = torch.tensor(-3., requires_grad = True)\n",
    "z = torch.tensor(5., requires_grad = True)\n",
    "q = x + y\n",
    "f = q * z\n",
    "f.backward()\n"
   ]
  },
  {
   "cell_type": "code",
   "execution_count": 6,
   "id": "5d0b35c9",
   "metadata": {},
   "outputs": [
    {
     "data": {
      "text/plain": [
       "4"
      ]
     },
     "execution_count": 6,
     "metadata": {},
     "output_type": "execute_result"
    }
   ],
   "source": [
    "int(x)"
   ]
  },
  {
   "cell_type": "markdown",
   "id": "3aa133c8",
   "metadata": {},
   "source": [
    "x1=4, y1=-3,z1=5,q1=1,f1=5\n",
    "\n",
    "dx=1\n",
    "x2=5,y2=-3,z2=5,q2=2,f2=10\n",
    "df=5\n",
    "x.grad=5 #parcijalni izvod df/dx\n",
    "\n",
    "dy=1\n",
    "x3=4,y3=-2,z3=5,q3=2,f3=10\n",
    "df=5\n",
    "y.grad=5\n",
    "\n",
    "dz=1\n",
    "x4=4, y4=-3,z4=6,q4=1,f4=6\n",
    "df=1 (za koliko se promenilo pocetno f)\n",
    "z.grad=1"
   ]
  },
  {
   "cell_type": "code",
   "execution_count": 11,
   "id": "2460bfcf",
   "metadata": {},
   "outputs": [
    {
     "data": {
      "text/plain": [
       "tensor(5.)"
      ]
     },
     "execution_count": 11,
     "metadata": {},
     "output_type": "execute_result"
    }
   ],
   "source": [
    "x.grad"
   ]
  },
  {
   "cell_type": "code",
   "execution_count": 12,
   "id": "23d2b0b5",
   "metadata": {},
   "outputs": [
    {
     "data": {
      "text/plain": [
       "tensor(5.)"
      ]
     },
     "execution_count": 12,
     "metadata": {},
     "output_type": "execute_result"
    }
   ],
   "source": [
    "y.grad"
   ]
  },
  {
   "cell_type": "code",
   "execution_count": 13,
   "id": "75b4c40d",
   "metadata": {},
   "outputs": [
    {
     "data": {
      "text/plain": [
       "tensor(1.)"
      ]
     },
     "execution_count": 13,
     "metadata": {},
     "output_type": "execute_result"
    }
   ],
   "source": [
    "z.grad"
   ]
  },
  {
   "cell_type": "markdown",
   "id": "b1bc1708",
   "metadata": {},
   "source": [
    "Loss Function = (H-Y)^2 = (WX-Y)^2"
   ]
  },
  {
   "cell_type": "code",
   "execution_count": 4,
   "id": "74b5602f",
   "metadata": {},
   "outputs": [],
   "source": [
    "x=torch.tensor(1.0)"
   ]
  },
  {
   "cell_type": "code",
   "execution_count": 5,
   "id": "06f7f9ab",
   "metadata": {},
   "outputs": [],
   "source": [
    "y=torch.tensor(2.0)"
   ]
  },
  {
   "cell_type": "code",
   "execution_count": 6,
   "id": "b0b4d19a",
   "metadata": {},
   "outputs": [],
   "source": [
    "w=torch.tensor(1.0, requires_grad = True)"
   ]
  },
  {
   "cell_type": "code",
   "execution_count": 7,
   "id": "2710b2eb",
   "metadata": {},
   "outputs": [],
   "source": [
    "h=w*x"
   ]
  },
  {
   "cell_type": "code",
   "execution_count": 8,
   "id": "a60a2b99",
   "metadata": {},
   "outputs": [
    {
     "data": {
      "text/plain": [
       "tensor(1., grad_fn=<MulBackward0>)"
      ]
     },
     "execution_count": 8,
     "metadata": {},
     "output_type": "execute_result"
    }
   ],
   "source": [
    "h"
   ]
  },
  {
   "cell_type": "code",
   "execution_count": 9,
   "id": "8c9e1f40",
   "metadata": {},
   "outputs": [],
   "source": [
    "loss=(h-y)**2"
   ]
  },
  {
   "cell_type": "code",
   "execution_count": 10,
   "id": "bb51e89d",
   "metadata": {},
   "outputs": [
    {
     "data": {
      "text/plain": [
       "tensor(1., grad_fn=<PowBackward0>)"
      ]
     },
     "execution_count": 10,
     "metadata": {},
     "output_type": "execute_result"
    }
   ],
   "source": [
    "loss"
   ]
  },
  {
   "cell_type": "code",
   "execution_count": 12,
   "id": "b5e18ce0",
   "metadata": {},
   "outputs": [],
   "source": [
    "loss.backward()"
   ]
  },
  {
   "cell_type": "code",
   "execution_count": 13,
   "id": "4bf54863",
   "metadata": {},
   "outputs": [
    {
     "data": {
      "text/plain": [
       "tensor(-2.)"
      ]
     },
     "execution_count": 13,
     "metadata": {},
     "output_type": "execute_result"
    }
   ],
   "source": [
    "w.grad"
   ]
  },
  {
   "cell_type": "markdown",
   "id": "e02f0851",
   "metadata": {},
   "source": [
    "Linear regression - numpy"
   ]
  },
  {
   "cell_type": "code",
   "execution_count": 22,
   "id": "55945a80",
   "metadata": {},
   "outputs": [],
   "source": [
    "X=np.array([1,2,3,4], dtype=np.float32)"
   ]
  },
  {
   "cell_type": "code",
   "execution_count": 24,
   "id": "c91b0379",
   "metadata": {},
   "outputs": [],
   "source": [
    "Y=np.array([2,4,6,8], dtype=np.float32)"
   ]
  },
  {
   "cell_type": "code",
   "execution_count": 31,
   "id": "d0e8910e",
   "metadata": {},
   "outputs": [
    {
     "data": {
      "text/plain": [
       "array([ 2.,  8., 18., 32.], dtype=float32)"
      ]
     },
     "execution_count": 31,
     "metadata": {},
     "output_type": "execute_result"
    }
   ],
   "source": [
    "Y*X"
   ]
  },
  {
   "cell_type": "code",
   "execution_count": 29,
   "id": "7a6b9bdc",
   "metadata": {},
   "outputs": [
    {
     "data": {
      "text/plain": [
       "30.0"
      ]
     },
     "execution_count": 29,
     "metadata": {},
     "output_type": "execute_result"
    }
   ],
   "source": [
    "((w*X-Y)**2).mean()"
   ]
  },
  {
   "cell_type": "code",
   "execution_count": 25,
   "id": "a0f1cb93",
   "metadata": {},
   "outputs": [],
   "source": [
    "w=0"
   ]
  },
  {
   "cell_type": "code",
   "execution_count": 26,
   "id": "d5770c07",
   "metadata": {},
   "outputs": [],
   "source": [
    "#racuna hipoteticke vrednosti\n",
    "def forward(X):\n",
    "    return w*X"
   ]
  },
  {
   "cell_type": "code",
   "execution_count": 30,
   "id": "73913e48",
   "metadata": {},
   "outputs": [],
   "source": [
    "#min los funkcije\n",
    "def loss(Y,H):\n",
    "    return ((H-Y)**2).mean()"
   ]
  },
  {
   "cell_type": "markdown",
   "id": "4f701e7e",
   "metadata": {},
   "source": [
    "kako se menja loss sa promenom tezine(w)\n",
    "d.loss/dw=sum(H-Y)*2x//N(br tacka)"
   ]
  },
  {
   "cell_type": "code",
   "execution_count": 32,
   "id": "102d6322",
   "metadata": {},
   "outputs": [],
   "source": [
    "def gradient(X,Y,H):\n",
    "    return (2*X*(H-Y)).mean()"
   ]
  },
  {
   "cell_type": "code",
   "execution_count": 34,
   "id": "d84a9dea",
   "metadata": {},
   "outputs": [
    {
     "name": "stdout",
     "output_type": "stream",
     "text": [
      "prediction before training: 0\n"
     ]
    }
   ],
   "source": [
    "print(f\"prediction before training: {forward(5)}\")"
   ]
  },
  {
   "cell_type": "code",
   "execution_count": 44,
   "id": "6b117d0e",
   "metadata": {},
   "outputs": [],
   "source": [
    "learning_rate=0.1"
   ]
  },
  {
   "cell_type": "code",
   "execution_count": 45,
   "id": "401409ba",
   "metadata": {},
   "outputs": [],
   "source": [
    "num_iters=100"
   ]
  },
  {
   "cell_type": "code",
   "execution_count": 46,
   "id": "f2eb6f6a",
   "metadata": {
    "collapsed": true
   },
   "outputs": [
    {
     "name": "stdout",
     "output_type": "stream",
     "text": [
      "epoch: 1, w=2.000,loss=0.0000\n",
      "epoch: 2, w=2.000,loss=0.0000\n",
      "epoch: 3, w=2.000,loss=0.0000\n",
      "epoch: 4, w=2.000,loss=0.0000\n",
      "epoch: 5, w=2.000,loss=0.0000\n",
      "epoch: 6, w=2.000,loss=0.0000\n",
      "epoch: 7, w=2.000,loss=0.0000\n",
      "epoch: 8, w=2.000,loss=0.0000\n",
      "epoch: 9, w=2.000,loss=0.0000\n",
      "epoch: 10, w=2.000,loss=0.0000\n",
      "epoch: 11, w=2.000,loss=0.0000\n",
      "epoch: 12, w=2.000,loss=0.0000\n",
      "epoch: 13, w=2.000,loss=0.0000\n",
      "epoch: 14, w=2.000,loss=0.0000\n",
      "epoch: 15, w=2.000,loss=0.0000\n",
      "epoch: 16, w=2.000,loss=0.0000\n",
      "epoch: 17, w=2.000,loss=0.0000\n",
      "epoch: 18, w=2.000,loss=0.0000\n",
      "epoch: 19, w=2.000,loss=0.0000\n",
      "epoch: 20, w=2.000,loss=0.0000\n",
      "epoch: 21, w=2.000,loss=0.0000\n",
      "epoch: 22, w=2.000,loss=0.0000\n",
      "epoch: 23, w=2.000,loss=0.0000\n",
      "epoch: 24, w=2.000,loss=0.0000\n",
      "epoch: 25, w=2.000,loss=0.0000\n",
      "epoch: 26, w=2.000,loss=0.0000\n",
      "epoch: 27, w=2.000,loss=0.0000\n",
      "epoch: 28, w=2.000,loss=0.0000\n",
      "epoch: 29, w=2.000,loss=0.0000\n",
      "epoch: 30, w=2.000,loss=0.0000\n",
      "epoch: 31, w=2.000,loss=0.0000\n",
      "epoch: 32, w=2.000,loss=0.0000\n",
      "epoch: 33, w=2.000,loss=0.0000\n",
      "epoch: 34, w=2.000,loss=0.0000\n",
      "epoch: 35, w=2.000,loss=0.0000\n",
      "epoch: 36, w=2.000,loss=0.0000\n",
      "epoch: 37, w=2.000,loss=0.0000\n",
      "epoch: 38, w=2.000,loss=0.0000\n",
      "epoch: 39, w=2.000,loss=0.0000\n",
      "epoch: 40, w=2.000,loss=0.0000\n",
      "epoch: 41, w=2.000,loss=0.0000\n",
      "epoch: 42, w=2.000,loss=0.0000\n",
      "epoch: 43, w=2.000,loss=0.0000\n",
      "epoch: 44, w=2.000,loss=0.0000\n",
      "epoch: 45, w=2.000,loss=0.0000\n",
      "epoch: 46, w=2.000,loss=0.0000\n",
      "epoch: 47, w=2.000,loss=0.0000\n",
      "epoch: 48, w=2.000,loss=0.0000\n",
      "epoch: 49, w=2.000,loss=0.0000\n",
      "epoch: 50, w=2.000,loss=0.0000\n",
      "epoch: 51, w=2.000,loss=0.0000\n",
      "epoch: 52, w=2.000,loss=0.0000\n",
      "epoch: 53, w=2.000,loss=0.0000\n",
      "epoch: 54, w=2.000,loss=0.0000\n",
      "epoch: 55, w=2.000,loss=0.0000\n",
      "epoch: 56, w=2.000,loss=0.0000\n",
      "epoch: 57, w=2.000,loss=0.0000\n",
      "epoch: 58, w=2.000,loss=0.0000\n",
      "epoch: 59, w=2.000,loss=0.0000\n",
      "epoch: 60, w=2.000,loss=0.0000\n",
      "epoch: 61, w=2.000,loss=0.0000\n",
      "epoch: 62, w=2.000,loss=0.0000\n",
      "epoch: 63, w=2.000,loss=0.0000\n",
      "epoch: 64, w=2.000,loss=0.0000\n",
      "epoch: 65, w=2.000,loss=0.0000\n",
      "epoch: 66, w=2.000,loss=0.0000\n",
      "epoch: 67, w=2.000,loss=0.0000\n",
      "epoch: 68, w=2.000,loss=0.0000\n",
      "epoch: 69, w=2.000,loss=0.0000\n",
      "epoch: 70, w=2.000,loss=0.0000\n",
      "epoch: 71, w=2.000,loss=0.0000\n",
      "epoch: 72, w=2.000,loss=0.0000\n",
      "epoch: 73, w=2.000,loss=0.0000\n",
      "epoch: 74, w=2.000,loss=0.0000\n",
      "epoch: 75, w=2.000,loss=0.0000\n",
      "epoch: 76, w=2.000,loss=0.0000\n",
      "epoch: 77, w=2.000,loss=0.0000\n",
      "epoch: 78, w=2.000,loss=0.0000\n",
      "epoch: 79, w=2.000,loss=0.0000\n",
      "epoch: 80, w=2.000,loss=0.0000\n",
      "epoch: 81, w=2.000,loss=0.0000\n",
      "epoch: 82, w=2.000,loss=0.0000\n",
      "epoch: 83, w=2.000,loss=0.0000\n",
      "epoch: 84, w=2.000,loss=0.0000\n",
      "epoch: 85, w=2.000,loss=0.0000\n",
      "epoch: 86, w=2.000,loss=0.0000\n",
      "epoch: 87, w=2.000,loss=0.0000\n",
      "epoch: 88, w=2.000,loss=0.0000\n",
      "epoch: 89, w=2.000,loss=0.0000\n",
      "epoch: 90, w=2.000,loss=0.0000\n",
      "epoch: 91, w=2.000,loss=0.0000\n",
      "epoch: 92, w=2.000,loss=0.0000\n",
      "epoch: 93, w=2.000,loss=0.0000\n",
      "epoch: 94, w=2.000,loss=0.0000\n",
      "epoch: 95, w=2.000,loss=0.0000\n",
      "epoch: 96, w=2.000,loss=0.0000\n",
      "epoch: 97, w=2.000,loss=0.0000\n",
      "epoch: 98, w=2.000,loss=0.0000\n",
      "epoch: 99, w=2.000,loss=0.0000\n",
      "epoch: 100, w=2.000,loss=0.0000\n"
     ]
    }
   ],
   "source": [
    "for epoch in range(num_iters):\n",
    "    H=forward(X)\n",
    "    L=loss(Y,H)\n",
    "    dw=gradient(X,Y,H)\n",
    "    #w=w-dw*learning_rate\n",
    "    w-=dw*learning_rate\n",
    "    if epoch%1==0:\n",
    "        print(f\"epoch: {epoch+1}, w={w:.3f},loss={L:.4f}\")\n",
    "        "
   ]
  },
  {
   "cell_type": "code",
   "execution_count": 47,
   "id": "e39435f1",
   "metadata": {},
   "outputs": [
    {
     "name": "stdout",
     "output_type": "stream",
     "text": [
      "prediction after training: 9.999999783635136\n"
     ]
    }
   ],
   "source": [
    "print(f\"prediction after training: {forward(5)}\")"
   ]
  },
  {
   "cell_type": "markdown",
   "id": "f495abcd",
   "metadata": {},
   "source": [
    "Linear regression u pytorch-u"
   ]
  },
  {
   "cell_type": "code",
   "execution_count": 57,
   "id": "1cddcb15",
   "metadata": {},
   "outputs": [],
   "source": [
    "learning_rate=0.1"
   ]
  },
  {
   "cell_type": "code",
   "execution_count": 58,
   "id": "5602c196",
   "metadata": {},
   "outputs": [],
   "source": [
    "num_iters=100"
   ]
  },
  {
   "cell_type": "code",
   "execution_count": 59,
   "id": "cd05b9b6",
   "metadata": {},
   "outputs": [],
   "source": [
    "X=torch.tensor([1,2,3,4], dtype=torch.float32)"
   ]
  },
  {
   "cell_type": "code",
   "execution_count": 60,
   "id": "8b7cf931",
   "metadata": {},
   "outputs": [],
   "source": [
    "Y=torch.tensor([2,4,6,8], dtype=torch.float32)"
   ]
  },
  {
   "cell_type": "code",
   "execution_count": 61,
   "id": "7ee03080",
   "metadata": {},
   "outputs": [],
   "source": [
    "w=torch.tensor(0.0,dtype=torch.float32,requires_grad = True)"
   ]
  },
  {
   "cell_type": "code",
   "execution_count": 62,
   "id": "e59fc15e",
   "metadata": {},
   "outputs": [],
   "source": [
    "def forward(X):\n",
    "    return w*X"
   ]
  },
  {
   "cell_type": "code",
   "execution_count": 63,
   "id": "d9f0355c",
   "metadata": {},
   "outputs": [],
   "source": [
    "def loss(Y,H):\n",
    "    return ((H-Y)**2).mean()"
   ]
  },
  {
   "cell_type": "code",
   "execution_count": 64,
   "id": "342ef28d",
   "metadata": {},
   "outputs": [
    {
     "name": "stdout",
     "output_type": "stream",
     "text": [
      "prediction before training: 0.0\n"
     ]
    }
   ],
   "source": [
    "print(f\"prediction before training: {forward(5)}\")"
   ]
  },
  {
   "cell_type": "code",
   "execution_count": 65,
   "id": "1a6c30c4",
   "metadata": {
    "collapsed": true
   },
   "outputs": [
    {
     "name": "stdout",
     "output_type": "stream",
     "text": [
      "epoch: 1, w=3.000,loss=30.0000\n",
      "epoch: 2, w=1.500,loss=7.5000\n",
      "epoch: 3, w=2.250,loss=1.8750\n",
      "epoch: 4, w=1.875,loss=0.4688\n",
      "epoch: 5, w=2.062,loss=0.1172\n",
      "epoch: 6, w=1.969,loss=0.0293\n",
      "epoch: 7, w=2.016,loss=0.0073\n",
      "epoch: 8, w=1.992,loss=0.0018\n",
      "epoch: 9, w=2.004,loss=0.0005\n",
      "epoch: 10, w=1.998,loss=0.0001\n",
      "epoch: 11, w=2.001,loss=0.0000\n",
      "epoch: 12, w=2.000,loss=0.0000\n",
      "epoch: 13, w=2.000,loss=0.0000\n",
      "epoch: 14, w=2.000,loss=0.0000\n",
      "epoch: 15, w=2.000,loss=0.0000\n",
      "epoch: 16, w=2.000,loss=0.0000\n",
      "epoch: 17, w=2.000,loss=0.0000\n",
      "epoch: 18, w=2.000,loss=0.0000\n",
      "epoch: 19, w=2.000,loss=0.0000\n",
      "epoch: 20, w=2.000,loss=0.0000\n",
      "epoch: 21, w=2.000,loss=0.0000\n",
      "epoch: 22, w=2.000,loss=0.0000\n",
      "epoch: 23, w=2.000,loss=0.0000\n",
      "epoch: 24, w=2.000,loss=0.0000\n",
      "epoch: 25, w=2.000,loss=0.0000\n",
      "epoch: 26, w=2.000,loss=0.0000\n",
      "epoch: 27, w=2.000,loss=0.0000\n",
      "epoch: 28, w=2.000,loss=0.0000\n",
      "epoch: 29, w=2.000,loss=0.0000\n",
      "epoch: 30, w=2.000,loss=0.0000\n",
      "epoch: 31, w=2.000,loss=0.0000\n",
      "epoch: 32, w=2.000,loss=0.0000\n",
      "epoch: 33, w=2.000,loss=0.0000\n",
      "epoch: 34, w=2.000,loss=0.0000\n",
      "epoch: 35, w=2.000,loss=0.0000\n",
      "epoch: 36, w=2.000,loss=0.0000\n",
      "epoch: 37, w=2.000,loss=0.0000\n",
      "epoch: 38, w=2.000,loss=0.0000\n",
      "epoch: 39, w=2.000,loss=0.0000\n",
      "epoch: 40, w=2.000,loss=0.0000\n",
      "epoch: 41, w=2.000,loss=0.0000\n",
      "epoch: 42, w=2.000,loss=0.0000\n",
      "epoch: 43, w=2.000,loss=0.0000\n",
      "epoch: 44, w=2.000,loss=0.0000\n",
      "epoch: 45, w=2.000,loss=0.0000\n",
      "epoch: 46, w=2.000,loss=0.0000\n",
      "epoch: 47, w=2.000,loss=0.0000\n",
      "epoch: 48, w=2.000,loss=0.0000\n",
      "epoch: 49, w=2.000,loss=0.0000\n",
      "epoch: 50, w=2.000,loss=0.0000\n",
      "epoch: 51, w=2.000,loss=0.0000\n",
      "epoch: 52, w=2.000,loss=0.0000\n",
      "epoch: 53, w=2.000,loss=0.0000\n",
      "epoch: 54, w=2.000,loss=0.0000\n",
      "epoch: 55, w=2.000,loss=0.0000\n",
      "epoch: 56, w=2.000,loss=0.0000\n",
      "epoch: 57, w=2.000,loss=0.0000\n",
      "epoch: 58, w=2.000,loss=0.0000\n",
      "epoch: 59, w=2.000,loss=0.0000\n",
      "epoch: 60, w=2.000,loss=0.0000\n",
      "epoch: 61, w=2.000,loss=0.0000\n",
      "epoch: 62, w=2.000,loss=0.0000\n",
      "epoch: 63, w=2.000,loss=0.0000\n",
      "epoch: 64, w=2.000,loss=0.0000\n",
      "epoch: 65, w=2.000,loss=0.0000\n",
      "epoch: 66, w=2.000,loss=0.0000\n",
      "epoch: 67, w=2.000,loss=0.0000\n",
      "epoch: 68, w=2.000,loss=0.0000\n",
      "epoch: 69, w=2.000,loss=0.0000\n",
      "epoch: 70, w=2.000,loss=0.0000\n",
      "epoch: 71, w=2.000,loss=0.0000\n",
      "epoch: 72, w=2.000,loss=0.0000\n",
      "epoch: 73, w=2.000,loss=0.0000\n",
      "epoch: 74, w=2.000,loss=0.0000\n",
      "epoch: 75, w=2.000,loss=0.0000\n",
      "epoch: 76, w=2.000,loss=0.0000\n",
      "epoch: 77, w=2.000,loss=0.0000\n",
      "epoch: 78, w=2.000,loss=0.0000\n",
      "epoch: 79, w=2.000,loss=0.0000\n",
      "epoch: 80, w=2.000,loss=0.0000\n",
      "epoch: 81, w=2.000,loss=0.0000\n",
      "epoch: 82, w=2.000,loss=0.0000\n",
      "epoch: 83, w=2.000,loss=0.0000\n",
      "epoch: 84, w=2.000,loss=0.0000\n",
      "epoch: 85, w=2.000,loss=0.0000\n",
      "epoch: 86, w=2.000,loss=0.0000\n",
      "epoch: 87, w=2.000,loss=0.0000\n",
      "epoch: 88, w=2.000,loss=0.0000\n",
      "epoch: 89, w=2.000,loss=0.0000\n",
      "epoch: 90, w=2.000,loss=0.0000\n",
      "epoch: 91, w=2.000,loss=0.0000\n",
      "epoch: 92, w=2.000,loss=0.0000\n",
      "epoch: 93, w=2.000,loss=0.0000\n",
      "epoch: 94, w=2.000,loss=0.0000\n",
      "epoch: 95, w=2.000,loss=0.0000\n",
      "epoch: 96, w=2.000,loss=0.0000\n",
      "epoch: 97, w=2.000,loss=0.0000\n",
      "epoch: 98, w=2.000,loss=0.0000\n",
      "epoch: 99, w=2.000,loss=0.0000\n",
      "epoch: 100, w=2.000,loss=0.0000\n"
     ]
    }
   ],
   "source": [
    "for epoch in range(num_iters):\n",
    "    H=forward(X)\n",
    "    L=loss(Y,H)\n",
    "    L.backward()\n",
    "    with torch.no_grad():\n",
    "        w-=learning_rate*w.grad\n",
    "    w.grad.zero_() #impalce method(radi to na sebi)\n",
    "    if epoch%1==0:\n",
    "        print(f\"epoch: {epoch+1}, w={w:.3f},loss={L:.4f}\")\n",
    "        "
   ]
  },
  {
   "cell_type": "code",
   "execution_count": 66,
   "id": "54e2f503",
   "metadata": {},
   "outputs": [
    {
     "name": "stdout",
     "output_type": "stream",
     "text": [
      "prediction after training: 10.0\n"
     ]
    }
   ],
   "source": [
    "print(f\"prediction after training: {forward(5)}\")"
   ]
  },
  {
   "cell_type": "markdown",
   "id": "617cf5fa",
   "metadata": {},
   "source": [
    "Linear regression nn"
   ]
  },
  {
   "cell_type": "code",
   "execution_count": 68,
   "id": "be736baf",
   "metadata": {},
   "outputs": [],
   "source": [
    "X=torch.tensor([[1],[2],[3],[4]], dtype=torch.float32)"
   ]
  },
  {
   "cell_type": "code",
   "execution_count": 69,
   "id": "146e00ac",
   "metadata": {},
   "outputs": [],
   "source": [
    "Y=torch.tensor([[2],[4],[6],[8]], dtype=torch.float32)"
   ]
  },
  {
   "cell_type": "code",
   "execution_count": 70,
   "id": "4a4e38cf",
   "metadata": {},
   "outputs": [],
   "source": [
    "x_test=torch.tensor([5], dtype=torch.float32)"
   ]
  },
  {
   "cell_type": "code",
   "execution_count": 71,
   "id": "4b285164",
   "metadata": {},
   "outputs": [],
   "source": [
    "n_samples,n_features=X.shape"
   ]
  },
  {
   "cell_type": "code",
   "execution_count": 72,
   "id": "94008239",
   "metadata": {},
   "outputs": [
    {
     "data": {
      "text/plain": [
       "torch.Size([4, 1])"
      ]
     },
     "execution_count": 72,
     "metadata": {},
     "output_type": "execute_result"
    }
   ],
   "source": [
    "X.shape"
   ]
  },
  {
   "cell_type": "code",
   "execution_count": 74,
   "id": "8c331161",
   "metadata": {},
   "outputs": [],
   "source": [
    "input_size=n_features"
   ]
  },
  {
   "cell_type": "code",
   "execution_count": 75,
   "id": "3e9fedb6",
   "metadata": {},
   "outputs": [],
   "source": [
    "output_size=1"
   ]
  },
  {
   "cell_type": "code",
   "execution_count": 76,
   "id": "e00c2a03",
   "metadata": {},
   "outputs": [],
   "source": [
    "model=nn.Linear(input_size,output_size)"
   ]
  },
  {
   "cell_type": "code",
   "execution_count": 86,
   "id": "218f51df",
   "metadata": {},
   "outputs": [
    {
     "name": "stdout",
     "output_type": "stream",
     "text": [
      "prediction before training: 9.968\n"
     ]
    }
   ],
   "source": [
    "print(f\"prediction before training: {model(x_test).item():.3f}\")"
   ]
  },
  {
   "cell_type": "code",
   "execution_count": 78,
   "id": "4fefba4e",
   "metadata": {},
   "outputs": [],
   "source": [
    "learning_rate=0.1"
   ]
  },
  {
   "cell_type": "code",
   "execution_count": 79,
   "id": "5d3a393e",
   "metadata": {},
   "outputs": [],
   "source": [
    "num_iters=100"
   ]
  },
  {
   "cell_type": "code",
   "execution_count": 80,
   "id": "26defba8",
   "metadata": {},
   "outputs": [],
   "source": [
    "loss=nn.MSELoss() #meansquarerros"
   ]
  },
  {
   "cell_type": "code",
   "execution_count": 81,
   "id": "35c3591e",
   "metadata": {},
   "outputs": [],
   "source": [
    "optimazer=torch.optim.SGD(model.parameters(),lr=learning_rate) #stohastiht gradient "
   ]
  },
  {
   "cell_type": "code",
   "execution_count": 82,
   "id": "d719189f",
   "metadata": {
    "collapsed": true
   },
   "outputs": [
    {
     "name": "stdout",
     "output_type": "stream",
     "text": [
      "epoch: 1, w=2.000,loss=53.1767\n",
      "epoch: 2, w=2.000,loss=23.9482\n",
      "epoch: 3, w=2.000,loss=10.8208\n",
      "epoch: 4, w=2.000,loss=4.9228\n",
      "epoch: 5, w=2.000,loss=2.2709\n",
      "epoch: 6, w=2.000,loss=1.0767\n",
      "epoch: 7, w=2.000,loss=0.5372\n",
      "epoch: 8, w=2.000,loss=0.2917\n",
      "epoch: 9, w=2.000,loss=0.1786\n",
      "epoch: 10, w=2.000,loss=0.1249\n",
      "epoch: 11, w=2.000,loss=0.0982\n",
      "epoch: 12, w=2.000,loss=0.0838\n",
      "epoch: 13, w=2.000,loss=0.0749\n",
      "epoch: 14, w=2.000,loss=0.0687\n",
      "epoch: 15, w=2.000,loss=0.0639\n",
      "epoch: 16, w=2.000,loss=0.0598\n",
      "epoch: 17, w=2.000,loss=0.0561\n",
      "epoch: 18, w=2.000,loss=0.0527\n",
      "epoch: 19, w=2.000,loss=0.0496\n",
      "epoch: 20, w=2.000,loss=0.0466\n",
      "epoch: 21, w=2.000,loss=0.0439\n",
      "epoch: 22, w=2.000,loss=0.0413\n",
      "epoch: 23, w=2.000,loss=0.0389\n",
      "epoch: 24, w=2.000,loss=0.0366\n",
      "epoch: 25, w=2.000,loss=0.0344\n",
      "epoch: 26, w=2.000,loss=0.0324\n",
      "epoch: 27, w=2.000,loss=0.0305\n",
      "epoch: 28, w=2.000,loss=0.0287\n",
      "epoch: 29, w=2.000,loss=0.0270\n",
      "epoch: 30, w=2.000,loss=0.0254\n",
      "epoch: 31, w=2.000,loss=0.0239\n",
      "epoch: 32, w=2.000,loss=0.0225\n",
      "epoch: 33, w=2.000,loss=0.0212\n",
      "epoch: 34, w=2.000,loss=0.0199\n",
      "epoch: 35, w=2.000,loss=0.0187\n",
      "epoch: 36, w=2.000,loss=0.0176\n",
      "epoch: 37, w=2.000,loss=0.0166\n",
      "epoch: 38, w=2.000,loss=0.0156\n",
      "epoch: 39, w=2.000,loss=0.0147\n",
      "epoch: 40, w=2.000,loss=0.0138\n",
      "epoch: 41, w=2.000,loss=0.0130\n",
      "epoch: 42, w=2.000,loss=0.0122\n",
      "epoch: 43, w=2.000,loss=0.0115\n",
      "epoch: 44, w=2.000,loss=0.0108\n",
      "epoch: 45, w=2.000,loss=0.0102\n",
      "epoch: 46, w=2.000,loss=0.0096\n",
      "epoch: 47, w=2.000,loss=0.0090\n",
      "epoch: 48, w=2.000,loss=0.0085\n",
      "epoch: 49, w=2.000,loss=0.0080\n",
      "epoch: 50, w=2.000,loss=0.0075\n",
      "epoch: 51, w=2.000,loss=0.0071\n",
      "epoch: 52, w=2.000,loss=0.0067\n",
      "epoch: 53, w=2.000,loss=0.0063\n",
      "epoch: 54, w=2.000,loss=0.0059\n",
      "epoch: 55, w=2.000,loss=0.0056\n",
      "epoch: 56, w=2.000,loss=0.0052\n",
      "epoch: 57, w=2.000,loss=0.0049\n",
      "epoch: 58, w=2.000,loss=0.0046\n",
      "epoch: 59, w=2.000,loss=0.0044\n",
      "epoch: 60, w=2.000,loss=0.0041\n",
      "epoch: 61, w=2.000,loss=0.0039\n",
      "epoch: 62, w=2.000,loss=0.0036\n",
      "epoch: 63, w=2.000,loss=0.0034\n",
      "epoch: 64, w=2.000,loss=0.0032\n",
      "epoch: 65, w=2.000,loss=0.0030\n",
      "epoch: 66, w=2.000,loss=0.0028\n",
      "epoch: 67, w=2.000,loss=0.0027\n",
      "epoch: 68, w=2.000,loss=0.0025\n",
      "epoch: 69, w=2.000,loss=0.0024\n",
      "epoch: 70, w=2.000,loss=0.0022\n",
      "epoch: 71, w=2.000,loss=0.0021\n",
      "epoch: 72, w=2.000,loss=0.0020\n",
      "epoch: 73, w=2.000,loss=0.0019\n",
      "epoch: 74, w=2.000,loss=0.0017\n",
      "epoch: 75, w=2.000,loss=0.0016\n",
      "epoch: 76, w=2.000,loss=0.0015\n",
      "epoch: 77, w=2.000,loss=0.0015\n",
      "epoch: 78, w=2.000,loss=0.0014\n",
      "epoch: 79, w=2.000,loss=0.0013\n",
      "epoch: 80, w=2.000,loss=0.0012\n",
      "epoch: 81, w=2.000,loss=0.0011\n",
      "epoch: 82, w=2.000,loss=0.0011\n",
      "epoch: 83, w=2.000,loss=0.0010\n",
      "epoch: 84, w=2.000,loss=0.0010\n",
      "epoch: 85, w=2.000,loss=0.0009\n",
      "epoch: 86, w=2.000,loss=0.0008\n",
      "epoch: 87, w=2.000,loss=0.0008\n",
      "epoch: 88, w=2.000,loss=0.0007\n",
      "epoch: 89, w=2.000,loss=0.0007\n",
      "epoch: 90, w=2.000,loss=0.0007\n",
      "epoch: 91, w=2.000,loss=0.0006\n",
      "epoch: 92, w=2.000,loss=0.0006\n",
      "epoch: 93, w=2.000,loss=0.0006\n",
      "epoch: 94, w=2.000,loss=0.0005\n",
      "epoch: 95, w=2.000,loss=0.0005\n",
      "epoch: 96, w=2.000,loss=0.0005\n",
      "epoch: 97, w=2.000,loss=0.0004\n",
      "epoch: 98, w=2.000,loss=0.0004\n",
      "epoch: 99, w=2.000,loss=0.0004\n",
      "epoch: 100, w=2.000,loss=0.0004\n"
     ]
    }
   ],
   "source": [
    "for epoch in range(num_iters):\n",
    "    H=model(X)\n",
    "    L=loss(Y,H)\n",
    "    L.backward()\n",
    "    optimazer.step()\n",
    "    optimazer.zero_grad()\n",
    "    if epoch%1==0:\n",
    "        print(f\"epoch: {epoch+1},loss={L:.4f}\")"
   ]
  },
  {
   "cell_type": "code",
   "execution_count": 83,
   "id": "95afcdf2",
   "metadata": {},
   "outputs": [
    {
     "name": "stdout",
     "output_type": "stream",
     "text": [
      "prediction after training: tensor([9.9684], grad_fn=<AddBackward0>)\n"
     ]
    }
   ],
   "source": [
    "print(f\"prediction after training: {model(x_test)}\")"
   ]
  },
  {
   "cell_type": "markdown",
   "id": "bc9133ba",
   "metadata": {},
   "source": [
    "# Linearl regression pytorch and sklearn"
   ]
  },
  {
   "cell_type": "code",
   "execution_count": 203,
   "id": "e2dc6a45",
   "metadata": {},
   "outputs": [],
   "source": [
    "X,Y=datasets.make_regression(n_samples=100,n_features=2,noise=20,random_state=7)"
   ]
  },
  {
   "cell_type": "code",
   "execution_count": 204,
   "id": "05ed0dd5",
   "metadata": {},
   "outputs": [],
   "source": [
    "X = torch.from_numpy(X.astype(np.float32))\n",
    "Y = torch.from_numpy(Y.astype(np.float32))"
   ]
  },
  {
   "cell_type": "code",
   "execution_count": 205,
   "id": "0faf7afb",
   "metadata": {},
   "outputs": [
    {
     "data": {
      "text/plain": [
       "100"
      ]
     },
     "execution_count": 205,
     "metadata": {},
     "output_type": "execute_result"
    }
   ],
   "source": [
    "Y.shape[0]"
   ]
  },
  {
   "cell_type": "code",
   "execution_count": 206,
   "id": "9a6837a6",
   "metadata": {
    "scrolled": true
   },
   "outputs": [],
   "source": [
    "Y=Y.view(Y.shape[0],1)"
   ]
  },
  {
   "cell_type": "code",
   "execution_count": 207,
   "id": "b2e318b3",
   "metadata": {
    "collapsed": true
   },
   "outputs": [
    {
     "data": {
      "text/plain": [
       "tensor([[ 1.2093e+01],\n",
       "        [-7.1480e+01],\n",
       "        [ 5.3261e+01],\n",
       "        [-7.9959e+01],\n",
       "        [-3.4200e+01],\n",
       "        [ 3.9842e+01],\n",
       "        [-1.0946e+02],\n",
       "        [-5.5065e+01],\n",
       "        [-4.2963e+01],\n",
       "        [ 2.3206e+00],\n",
       "        [ 8.1863e+01],\n",
       "        [-2.5389e+01],\n",
       "        [-6.4431e+01],\n",
       "        [ 1.2937e+02],\n",
       "        [ 3.6897e+01],\n",
       "        [-2.3808e+01],\n",
       "        [ 1.0758e+02],\n",
       "        [ 1.1763e+01],\n",
       "        [-7.4948e+00],\n",
       "        [ 7.3128e+01],\n",
       "        [-3.4823e+01],\n",
       "        [-7.9290e+01],\n",
       "        [-4.0031e+01],\n",
       "        [ 5.6923e+01],\n",
       "        [-3.9789e+00],\n",
       "        [-4.2809e+01],\n",
       "        [-3.6784e+01],\n",
       "        [-6.5294e+01],\n",
       "        [ 8.6240e+01],\n",
       "        [ 4.0060e+01],\n",
       "        [-8.3369e+01],\n",
       "        [-1.1342e-01],\n",
       "        [-8.4629e+01],\n",
       "        [-7.9657e+01],\n",
       "        [-8.2006e+01],\n",
       "        [ 3.9229e+01],\n",
       "        [ 1.4611e+01],\n",
       "        [ 1.1582e+02],\n",
       "        [ 9.9128e+01],\n",
       "        [-1.6911e+01],\n",
       "        [-7.7094e+01],\n",
       "        [-4.1367e+01],\n",
       "        [ 5.0060e+01],\n",
       "        [-8.4051e+01],\n",
       "        [-5.4362e+01],\n",
       "        [-1.5828e+01],\n",
       "        [-8.7188e+00],\n",
       "        [ 4.4465e+01],\n",
       "        [-4.2099e+01],\n",
       "        [ 2.4158e+01],\n",
       "        [ 5.6358e+01],\n",
       "        [-6.6946e+01],\n",
       "        [ 3.6404e+01],\n",
       "        [ 1.1109e+01],\n",
       "        [-4.4999e+01],\n",
       "        [ 1.1016e+02],\n",
       "        [-1.1347e+02],\n",
       "        [-1.1174e+01],\n",
       "        [-1.9204e+01],\n",
       "        [-1.6443e+01],\n",
       "        [ 9.4818e+01],\n",
       "        [-1.8378e+02],\n",
       "        [-2.6983e+01],\n",
       "        [-7.0213e+01],\n",
       "        [ 7.1135e+01],\n",
       "        [-1.3398e+02],\n",
       "        [-8.6268e+01],\n",
       "        [ 4.3869e+01],\n",
       "        [-4.0969e+01],\n",
       "        [-6.3912e+01],\n",
       "        [ 8.8454e+01],\n",
       "        [ 4.0667e+00],\n",
       "        [-3.4164e+01],\n",
       "        [ 4.2691e+01],\n",
       "        [ 5.9656e+01],\n",
       "        [-5.7439e+01],\n",
       "        [-5.8815e+00],\n",
       "        [ 8.1199e+01],\n",
       "        [-5.4359e+00],\n",
       "        [ 1.3588e+01],\n",
       "        [ 5.7648e+01],\n",
       "        [ 8.7124e+01],\n",
       "        [ 1.0009e+01],\n",
       "        [ 4.1978e+01],\n",
       "        [-4.3423e+01],\n",
       "        [ 1.6115e+02],\n",
       "        [ 1.2549e+01],\n",
       "        [-4.2935e+01],\n",
       "        [-6.8101e+01],\n",
       "        [ 7.7962e+01],\n",
       "        [-2.7045e+01],\n",
       "        [-1.1283e+02],\n",
       "        [ 1.3983e+02],\n",
       "        [-8.7175e+01],\n",
       "        [ 6.2768e+01],\n",
       "        [ 5.6603e+01],\n",
       "        [ 5.1004e+01],\n",
       "        [-7.6337e+01],\n",
       "        [ 1.4118e+02],\n",
       "        [-6.6854e+01]])"
      ]
     },
     "execution_count": 207,
     "metadata": {},
     "output_type": "execute_result"
    }
   ],
   "source": [
    "Y"
   ]
  },
  {
   "cell_type": "code",
   "execution_count": 208,
   "id": "4ad372c1",
   "metadata": {},
   "outputs": [],
   "source": [
    "n_samples,input_size=X.shape\n",
    "outout_size=1"
   ]
  },
  {
   "cell_type": "code",
   "execution_count": 209,
   "id": "65a7054a",
   "metadata": {},
   "outputs": [],
   "source": [
    "model=nn.Linear(input_size,output_size)"
   ]
  },
  {
   "cell_type": "code",
   "execution_count": 210,
   "id": "ce73b021",
   "metadata": {},
   "outputs": [],
   "source": [
    "loss=nn.MSELoss()"
   ]
  },
  {
   "cell_type": "code",
   "execution_count": 211,
   "id": "6a3d30c5",
   "metadata": {},
   "outputs": [],
   "source": [
    "optimazer=torch.optim.SGD(model.parameters(),lr=learning_rate)"
   ]
  },
  {
   "cell_type": "code",
   "execution_count": null,
   "id": "01613a2e",
   "metadata": {},
   "outputs": [],
   "source": [
    "num_iters=100"
   ]
  },
  {
   "cell_type": "code",
   "execution_count": 213,
   "id": "15d623d1",
   "metadata": {},
   "outputs": [
    {
     "name": "stdout",
     "output_type": "stream",
     "text": [
      "epoch: 1,loss=4712.0146\n",
      "epoch: 11,loss=369.2483\n",
      "epoch: 21,loss=303.3958\n",
      "epoch: 31,loss=302.3567\n",
      "epoch: 41,loss=302.3399\n",
      "epoch: 51,loss=302.3396\n",
      "epoch: 61,loss=302.3396\n",
      "epoch: 71,loss=302.3396\n",
      "epoch: 81,loss=302.3396\n",
      "epoch: 91,loss=302.3396\n"
     ]
    }
   ],
   "source": [
    "for epoch in range(num_iters):\n",
    "    H=model(X)\n",
    "    L=loss(Y,H)\n",
    "    L.backward()\n",
    "    optimazer.step()\n",
    "    optimazer.zero_grad()\n",
    "    if epoch%10==0:\n",
    "        print(f\"epoch: {epoch+1},loss={L:.4f}\")"
   ]
  },
  {
   "cell_type": "code",
   "execution_count": 214,
   "id": "df020b2e",
   "metadata": {},
   "outputs": [],
   "source": [
    "H=H.detach().numpy()"
   ]
  },
  {
   "cell_type": "code",
   "execution_count": 215,
   "id": "1f15c7f9",
   "metadata": {
    "collapsed": true
   },
   "outputs": [
    {
     "data": {
      "text/plain": [
       "array([[  -1.414678 ],\n",
       "       [ -68.58968  ],\n",
       "       [  50.576096 ],\n",
       "       [ -67.746445 ],\n",
       "       [  11.665827 ],\n",
       "       [  43.989372 ],\n",
       "       [ -70.54202  ],\n",
       "       [ -67.21204  ],\n",
       "       [ -60.227783 ],\n",
       "       [  25.302961 ],\n",
       "       [  81.56756  ],\n",
       "       [ -43.602577 ],\n",
       "       [ -42.152374 ],\n",
       "       [  94.01635  ],\n",
       "       [  48.529396 ],\n",
       "       [ -22.008593 ],\n",
       "       [ 121.51882  ],\n",
       "       [ -12.92733  ],\n",
       "       [  -8.471271 ],\n",
       "       [  79.61423  ],\n",
       "       [ -57.044888 ],\n",
       "       [ -67.254524 ],\n",
       "       [ -39.169983 ],\n",
       "       [  66.73497  ],\n",
       "       [ -18.141016 ],\n",
       "       [ -38.918793 ],\n",
       "       [ -57.09243  ],\n",
       "       [ -53.375557 ],\n",
       "       [  75.760155 ],\n",
       "       [  58.4031   ],\n",
       "       [-105.81535  ],\n",
       "       [  26.31464  ],\n",
       "       [ -80.308556 ],\n",
       "       [ -90.99836  ],\n",
       "       [ -90.62038  ],\n",
       "       [  44.441925 ],\n",
       "       [  37.083923 ],\n",
       "       [ 103.23262  ],\n",
       "       [  97.47712  ],\n",
       "       [ -31.272247 ],\n",
       "       [ -41.527645 ],\n",
       "       [ -34.413696 ],\n",
       "       [  42.212463 ],\n",
       "       [ -68.82349  ],\n",
       "       [ -46.801876 ],\n",
       "       [ -25.75431  ],\n",
       "       [  -8.635375 ],\n",
       "       [  54.267536 ],\n",
       "       [ -50.89968  ],\n",
       "       [  34.03141  ],\n",
       "       [  60.781963 ],\n",
       "       [ -62.71309  ],\n",
       "       [  19.578598 ],\n",
       "       [   9.984748 ],\n",
       "       [ -52.348396 ],\n",
       "       [  90.006134 ],\n",
       "       [-124.94898  ],\n",
       "       [  15.505176 ],\n",
       "       [ -22.96035  ],\n",
       "       [ -24.684002 ],\n",
       "       [  68.64061  ],\n",
       "       [-161.43286  ],\n",
       "       [ -42.856384 ],\n",
       "       [ -41.876945 ],\n",
       "       [  37.498604 ],\n",
       "       [-144.67319  ],\n",
       "       [ -92.38335  ],\n",
       "       [  55.107857 ],\n",
       "       [ -36.0038   ],\n",
       "       [ -54.674107 ],\n",
       "       [  82.27495  ],\n",
       "       [   8.747161 ],\n",
       "       [ -23.97749  ],\n",
       "       [  41.084824 ],\n",
       "       [  22.481562 ],\n",
       "       [ -56.59723  ],\n",
       "       [  -5.992122 ],\n",
       "       [  65.28437  ],\n",
       "       [  -3.2312138],\n",
       "       [  14.433116 ],\n",
       "       [  60.689682 ],\n",
       "       [  80.442635 ],\n",
       "       [ -15.61046  ],\n",
       "       [  44.167175 ],\n",
       "       [ -58.360558 ],\n",
       "       [ 163.19026  ],\n",
       "       [  21.351978 ],\n",
       "       [ -48.68994  ],\n",
       "       [ -58.740307 ],\n",
       "       [  86.860565 ],\n",
       "       [  -7.1381917],\n",
       "       [-100.12217  ],\n",
       "       [ 113.15397  ],\n",
       "       [ -51.302032 ],\n",
       "       [ 104.28288  ],\n",
       "       [  84.98437  ],\n",
       "       [  21.47247  ],\n",
       "       [-103.576965 ],\n",
       "       [ 121.87683  ],\n",
       "       [ -85.264534 ]], dtype=float32)"
      ]
     },
     "execution_count": 215,
     "metadata": {},
     "output_type": "execute_result"
    }
   ],
   "source": [
    "H"
   ]
  },
  {
   "cell_type": "code",
   "execution_count": 217,
   "id": "9c775be2",
   "metadata": {},
   "outputs": [
    {
     "ename": "ValueError",
     "evalue": "x and y must be the same size",
     "output_type": "error",
     "traceback": [
      "\u001b[1;31m---------------------------------------------------------------------------\u001b[0m",
      "\u001b[1;31mValueError\u001b[0m                                Traceback (most recent call last)",
      "\u001b[1;32m~\\AppData\\Local\\Temp/ipykernel_17860/652561745.py\u001b[0m in \u001b[0;36m<module>\u001b[1;34m\u001b[0m\n\u001b[1;32m----> 1\u001b[1;33m \u001b[0mplt\u001b[0m\u001b[1;33m.\u001b[0m\u001b[0mscatter\u001b[0m\u001b[1;33m(\u001b[0m\u001b[0mX\u001b[0m\u001b[1;33m,\u001b[0m \u001b[0mY\u001b[0m\u001b[1;33m,\u001b[0m \u001b[0mc\u001b[0m \u001b[1;33m=\u001b[0m \u001b[1;33m(\u001b[0m\u001b[1;36m0.5\u001b[0m\u001b[1;33m,\u001b[0m \u001b[1;36m0\u001b[0m\u001b[1;33m,\u001b[0m \u001b[1;36m0.8\u001b[0m\u001b[1;33m)\u001b[0m\u001b[1;33m)\u001b[0m\u001b[1;33m\u001b[0m\u001b[1;33m\u001b[0m\u001b[0m\n\u001b[0m\u001b[0;32m      2\u001b[0m \u001b[0mplt\u001b[0m\u001b[1;33m.\u001b[0m\u001b[0mplot\u001b[0m\u001b[1;33m(\u001b[0m\u001b[0mX\u001b[0m\u001b[1;33m,\u001b[0m\u001b[0mH\u001b[0m\u001b[1;33m,\u001b[0m\u001b[0mc\u001b[0m\u001b[1;33m=\u001b[0m\u001b[1;34m\"r\"\u001b[0m\u001b[1;33m)\u001b[0m\u001b[1;33m\u001b[0m\u001b[1;33m\u001b[0m\u001b[0m\n\u001b[0;32m      3\u001b[0m \u001b[0mplt\u001b[0m\u001b[1;33m.\u001b[0m\u001b[0mshow\u001b[0m\u001b[1;33m(\u001b[0m\u001b[1;33m)\u001b[0m\u001b[1;33m\u001b[0m\u001b[1;33m\u001b[0m\u001b[0m\n",
      "\u001b[1;32mc:\\users\\randj\\appdata\\local\\programs\\python\\python38\\lib\\site-packages\\matplotlib\\pyplot.py\u001b[0m in \u001b[0;36mscatter\u001b[1;34m(x, y, s, c, marker, cmap, norm, vmin, vmax, alpha, linewidths, edgecolors, plotnonfinite, data, **kwargs)\u001b[0m\n\u001b[0;32m   2805\u001b[0m         \u001b[0mvmin\u001b[0m\u001b[1;33m=\u001b[0m\u001b[1;32mNone\u001b[0m\u001b[1;33m,\u001b[0m \u001b[0mvmax\u001b[0m\u001b[1;33m=\u001b[0m\u001b[1;32mNone\u001b[0m\u001b[1;33m,\u001b[0m \u001b[0malpha\u001b[0m\u001b[1;33m=\u001b[0m\u001b[1;32mNone\u001b[0m\u001b[1;33m,\u001b[0m \u001b[0mlinewidths\u001b[0m\u001b[1;33m=\u001b[0m\u001b[1;32mNone\u001b[0m\u001b[1;33m,\u001b[0m \u001b[1;33m*\u001b[0m\u001b[1;33m,\u001b[0m\u001b[1;33m\u001b[0m\u001b[1;33m\u001b[0m\u001b[0m\n\u001b[0;32m   2806\u001b[0m         edgecolors=None, plotnonfinite=False, data=None, **kwargs):\n\u001b[1;32m-> 2807\u001b[1;33m     __ret = gca().scatter(\n\u001b[0m\u001b[0;32m   2808\u001b[0m         \u001b[0mx\u001b[0m\u001b[1;33m,\u001b[0m \u001b[0my\u001b[0m\u001b[1;33m,\u001b[0m \u001b[0ms\u001b[0m\u001b[1;33m=\u001b[0m\u001b[0ms\u001b[0m\u001b[1;33m,\u001b[0m \u001b[0mc\u001b[0m\u001b[1;33m=\u001b[0m\u001b[0mc\u001b[0m\u001b[1;33m,\u001b[0m \u001b[0mmarker\u001b[0m\u001b[1;33m=\u001b[0m\u001b[0mmarker\u001b[0m\u001b[1;33m,\u001b[0m \u001b[0mcmap\u001b[0m\u001b[1;33m=\u001b[0m\u001b[0mcmap\u001b[0m\u001b[1;33m,\u001b[0m \u001b[0mnorm\u001b[0m\u001b[1;33m=\u001b[0m\u001b[0mnorm\u001b[0m\u001b[1;33m,\u001b[0m\u001b[1;33m\u001b[0m\u001b[1;33m\u001b[0m\u001b[0m\n\u001b[0;32m   2809\u001b[0m         \u001b[0mvmin\u001b[0m\u001b[1;33m=\u001b[0m\u001b[0mvmin\u001b[0m\u001b[1;33m,\u001b[0m \u001b[0mvmax\u001b[0m\u001b[1;33m=\u001b[0m\u001b[0mvmax\u001b[0m\u001b[1;33m,\u001b[0m \u001b[0malpha\u001b[0m\u001b[1;33m=\u001b[0m\u001b[0malpha\u001b[0m\u001b[1;33m,\u001b[0m \u001b[0mlinewidths\u001b[0m\u001b[1;33m=\u001b[0m\u001b[0mlinewidths\u001b[0m\u001b[1;33m,\u001b[0m\u001b[1;33m\u001b[0m\u001b[1;33m\u001b[0m\u001b[0m\n",
      "\u001b[1;32mc:\\users\\randj\\appdata\\local\\programs\\python\\python38\\lib\\site-packages\\matplotlib\\__init__.py\u001b[0m in \u001b[0;36minner\u001b[1;34m(ax, data, *args, **kwargs)\u001b[0m\n\u001b[0;32m   1410\u001b[0m     \u001b[1;32mdef\u001b[0m \u001b[0minner\u001b[0m\u001b[1;33m(\u001b[0m\u001b[0max\u001b[0m\u001b[1;33m,\u001b[0m \u001b[1;33m*\u001b[0m\u001b[0margs\u001b[0m\u001b[1;33m,\u001b[0m \u001b[0mdata\u001b[0m\u001b[1;33m=\u001b[0m\u001b[1;32mNone\u001b[0m\u001b[1;33m,\u001b[0m \u001b[1;33m**\u001b[0m\u001b[0mkwargs\u001b[0m\u001b[1;33m)\u001b[0m\u001b[1;33m:\u001b[0m\u001b[1;33m\u001b[0m\u001b[1;33m\u001b[0m\u001b[0m\n\u001b[0;32m   1411\u001b[0m         \u001b[1;32mif\u001b[0m \u001b[0mdata\u001b[0m \u001b[1;32mis\u001b[0m \u001b[1;32mNone\u001b[0m\u001b[1;33m:\u001b[0m\u001b[1;33m\u001b[0m\u001b[1;33m\u001b[0m\u001b[0m\n\u001b[1;32m-> 1412\u001b[1;33m             \u001b[1;32mreturn\u001b[0m \u001b[0mfunc\u001b[0m\u001b[1;33m(\u001b[0m\u001b[0max\u001b[0m\u001b[1;33m,\u001b[0m \u001b[1;33m*\u001b[0m\u001b[0mmap\u001b[0m\u001b[1;33m(\u001b[0m\u001b[0msanitize_sequence\u001b[0m\u001b[1;33m,\u001b[0m \u001b[0margs\u001b[0m\u001b[1;33m)\u001b[0m\u001b[1;33m,\u001b[0m \u001b[1;33m**\u001b[0m\u001b[0mkwargs\u001b[0m\u001b[1;33m)\u001b[0m\u001b[1;33m\u001b[0m\u001b[1;33m\u001b[0m\u001b[0m\n\u001b[0m\u001b[0;32m   1413\u001b[0m \u001b[1;33m\u001b[0m\u001b[0m\n\u001b[0;32m   1414\u001b[0m         \u001b[0mbound\u001b[0m \u001b[1;33m=\u001b[0m \u001b[0mnew_sig\u001b[0m\u001b[1;33m.\u001b[0m\u001b[0mbind\u001b[0m\u001b[1;33m(\u001b[0m\u001b[0max\u001b[0m\u001b[1;33m,\u001b[0m \u001b[1;33m*\u001b[0m\u001b[0margs\u001b[0m\u001b[1;33m,\u001b[0m \u001b[1;33m**\u001b[0m\u001b[0mkwargs\u001b[0m\u001b[1;33m)\u001b[0m\u001b[1;33m\u001b[0m\u001b[1;33m\u001b[0m\u001b[0m\n",
      "\u001b[1;32mc:\\users\\randj\\appdata\\local\\programs\\python\\python38\\lib\\site-packages\\matplotlib\\axes\\_axes.py\u001b[0m in \u001b[0;36mscatter\u001b[1;34m(self, x, y, s, c, marker, cmap, norm, vmin, vmax, alpha, linewidths, edgecolors, plotnonfinite, **kwargs)\u001b[0m\n\u001b[0;32m   4367\u001b[0m         \u001b[0my\u001b[0m \u001b[1;33m=\u001b[0m \u001b[0mnp\u001b[0m\u001b[1;33m.\u001b[0m\u001b[0mma\u001b[0m\u001b[1;33m.\u001b[0m\u001b[0mravel\u001b[0m\u001b[1;33m(\u001b[0m\u001b[0my\u001b[0m\u001b[1;33m)\u001b[0m\u001b[1;33m\u001b[0m\u001b[1;33m\u001b[0m\u001b[0m\n\u001b[0;32m   4368\u001b[0m         \u001b[1;32mif\u001b[0m \u001b[0mx\u001b[0m\u001b[1;33m.\u001b[0m\u001b[0msize\u001b[0m \u001b[1;33m!=\u001b[0m \u001b[0my\u001b[0m\u001b[1;33m.\u001b[0m\u001b[0msize\u001b[0m\u001b[1;33m:\u001b[0m\u001b[1;33m\u001b[0m\u001b[1;33m\u001b[0m\u001b[0m\n\u001b[1;32m-> 4369\u001b[1;33m             \u001b[1;32mraise\u001b[0m \u001b[0mValueError\u001b[0m\u001b[1;33m(\u001b[0m\u001b[1;34m\"x and y must be the same size\"\u001b[0m\u001b[1;33m)\u001b[0m\u001b[1;33m\u001b[0m\u001b[1;33m\u001b[0m\u001b[0m\n\u001b[0m\u001b[0;32m   4370\u001b[0m \u001b[1;33m\u001b[0m\u001b[0m\n\u001b[0;32m   4371\u001b[0m         \u001b[1;32mif\u001b[0m \u001b[0ms\u001b[0m \u001b[1;32mis\u001b[0m \u001b[1;32mNone\u001b[0m\u001b[1;33m:\u001b[0m\u001b[1;33m\u001b[0m\u001b[1;33m\u001b[0m\u001b[0m\n",
      "\u001b[1;31mValueError\u001b[0m: x and y must be the same size"
     ]
    },
    {
     "data": {
      "image/png": "[encoded data removed]",
      "text/plain": [
       "<Figure size 432x288 with 1 Axes>"
      ]
     },
     "metadata": {
      "needs_background": "light"
     },
     "output_type": "display_data"
    }
   ],
   "source": [
    "plt.scatter(X, Y, c = (0.5, 0, 0.8))\n",
    "plt.plot(X,H,c=\"r\")\n",
    "plt.show()"
   ]
  },
  {
   "cell_type": "code",
   "execution_count": null,
   "id": "b2a181d1",
   "metadata": {},
   "outputs": [],
   "source": []
  }
 ],
 "metadata": {
  "kernelspec": {
   "display_name": "Python 3 (ipykernel)",
   "language": "python",
   "name": "python3"
  },
  "language_info": {
   "codemirror_mode": {
    "name": "ipython",
    "version": 3
   },
   "file_extension": ".py",
   "mimetype": "text/x-python",
   "name": "python",
   "nbconvert_exporter": "python",
   "pygments_lexer": "ipython3",
   "version": "3.8.10"
  }
 },
 "nbformat": 4,
 "nbformat_minor": 5
}
